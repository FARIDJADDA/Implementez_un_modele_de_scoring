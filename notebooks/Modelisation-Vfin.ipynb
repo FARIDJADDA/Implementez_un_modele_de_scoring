{
 "cells": [
  {
   "cell_type": "code",
   "execution_count": 1,
   "id": "1f3ead3c",
   "metadata": {
    "scrolled": true
   },
   "outputs": [
    {
     "name": "stdout",
     "output_type": "stream",
     "text": [
      "Requirement already satisfied: imblearn in c:\\users\\farid\\anaconda3\\lib\\site-packages (0.0)\n",
      "Requirement already satisfied: imbalanced-learn in c:\\users\\farid\\anaconda3\\lib\\site-packages (from imblearn) (0.12.3)\n",
      "Requirement already satisfied: scikit-learn>=1.0.2 in c:\\users\\farid\\anaconda3\\lib\\site-packages (from imbalanced-learn->imblearn) (1.5.0)\n",
      "Requirement already satisfied: numpy>=1.17.3 in c:\\users\\farid\\anaconda3\\lib\\site-packages (from imbalanced-learn->imblearn) (1.24.4)\n",
      "Requirement already satisfied: joblib>=1.1.1 in c:\\users\\farid\\anaconda3\\lib\\site-packages (from imbalanced-learn->imblearn) (1.4.2)\n",
      "Requirement already satisfied: scipy>=1.5.0 in c:\\users\\farid\\anaconda3\\lib\\site-packages (from imbalanced-learn->imblearn) (1.13.1)\n",
      "Requirement already satisfied: threadpoolctl>=2.0.0 in c:\\users\\farid\\anaconda3\\lib\\site-packages (from imbalanced-learn->imblearn) (3.5.0)\n",
      "Requirement already satisfied: xgboost in c:\\users\\farid\\anaconda3\\lib\\site-packages (2.0.3)\n",
      "Requirement already satisfied: scipy in c:\\users\\farid\\anaconda3\\lib\\site-packages (from xgboost) (1.13.1)\n",
      "Requirement already satisfied: numpy in c:\\users\\farid\\anaconda3\\lib\\site-packages (from xgboost) (1.24.4)\n",
      "Requirement already satisfied: numba in c:\\users\\farid\\appdata\\roaming\\python\\python39\\site-packages (0.59.1)\n",
      "Requirement already satisfied: shap in c:\\users\\farid\\appdata\\roaming\\python\\python39\\site-packages (0.45.1)\n",
      "Requirement already satisfied: llvmlite<0.43,>=0.42.0dev0 in c:\\users\\farid\\appdata\\roaming\\python\\python39\\site-packages (from numba) (0.42.0)\n",
      "Requirement already satisfied: numpy<1.27,>=1.22 in c:\\users\\farid\\anaconda3\\lib\\site-packages (from numba) (1.24.4)\n",
      "Requirement already satisfied: cloudpickle in c:\\users\\farid\\anaconda3\\lib\\site-packages (from shap) (2.0.0)\n",
      "Requirement already satisfied: tqdm>=4.27.0 in c:\\users\\farid\\anaconda3\\lib\\site-packages (from shap) (4.64.1)\n",
      "Requirement already satisfied: scikit-learn in c:\\users\\farid\\anaconda3\\lib\\site-packages (from shap) (1.5.0)\n",
      "Requirement already satisfied: packaging>20.9 in c:\\users\\farid\\anaconda3\\lib\\site-packages (from shap) (21.3)\n",
      "Requirement already satisfied: slicer==0.0.8 in c:\\users\\farid\\anaconda3\\lib\\site-packages (from shap) (0.0.8)\n",
      "Requirement already satisfied: scipy in c:\\users\\farid\\anaconda3\\lib\\site-packages (from shap) (1.13.1)\n",
      "Requirement already satisfied: pandas in c:\\users\\farid\\anaconda3\\lib\\site-packages (from shap) (1.4.4)\n",
      "Requirement already satisfied: pyparsing!=3.0.5,>=2.0.2 in c:\\users\\farid\\anaconda3\\lib\\site-packages (from packaging>20.9->shap) (3.0.9)\n",
      "Requirement already satisfied: colorama in c:\\users\\farid\\anaconda3\\lib\\site-packages (from tqdm>=4.27.0->shap) (0.4.5)\n",
      "Requirement already satisfied: python-dateutil>=2.8.1 in c:\\users\\farid\\anaconda3\\lib\\site-packages (from pandas->shap) (2.8.2)\n",
      "Requirement already satisfied: pytz>=2020.1 in c:\\users\\farid\\anaconda3\\lib\\site-packages (from pandas->shap) (2022.1)\n",
      "Requirement already satisfied: joblib>=1.2.0 in c:\\users\\farid\\anaconda3\\lib\\site-packages (from scikit-learn->shap) (1.4.2)\n",
      "Requirement already satisfied: threadpoolctl>=3.1.0 in c:\\users\\farid\\anaconda3\\lib\\site-packages (from scikit-learn->shap) (3.5.0)\n",
      "Requirement already satisfied: six>=1.5 in c:\\users\\farid\\anaconda3\\lib\\site-packages (from python-dateutil>=2.8.1->pandas->shap) (1.16.0)\n"
     ]
    }
   ],
   "source": [
    "!pip install imblearn\n",
    "!pip install xgboost\n",
    "!pip install --user numba shap"
   ]
  },
  {
   "cell_type": "code",
   "execution_count": 2,
   "id": "e8ad64af",
   "metadata": {},
   "outputs": [
    {
     "name": "stdout",
     "output_type": "stream",
     "text": [
      "Requirement already satisfied: scipy in c:\\users\\farid\\anaconda3\\lib\\site-packages (1.13.1)\n",
      "Requirement already satisfied: numpy<2.3,>=1.22.4 in c:\\users\\farid\\anaconda3\\lib\\site-packages (from scipy) (1.24.4)\n",
      "Requirement already satisfied: shap in c:\\users\\farid\\appdata\\roaming\\python\\python39\\site-packages (0.45.1)\n",
      "Requirement already satisfied: numpy in c:\\users\\farid\\anaconda3\\lib\\site-packages (from shap) (1.24.4)\n",
      "Requirement already satisfied: packaging>20.9 in c:\\users\\farid\\anaconda3\\lib\\site-packages (from shap) (21.3)\n",
      "Requirement already satisfied: cloudpickle in c:\\users\\farid\\anaconda3\\lib\\site-packages (from shap) (2.0.0)\n",
      "Requirement already satisfied: scipy in c:\\users\\farid\\anaconda3\\lib\\site-packages (from shap) (1.13.1)\n",
      "Requirement already satisfied: scikit-learn in c:\\users\\farid\\anaconda3\\lib\\site-packages (from shap) (1.5.0)\n",
      "Requirement already satisfied: slicer==0.0.8 in c:\\users\\farid\\anaconda3\\lib\\site-packages (from shap) (0.0.8)\n",
      "Requirement already satisfied: pandas in c:\\users\\farid\\anaconda3\\lib\\site-packages (from shap) (1.4.4)\n",
      "Requirement already satisfied: numba in c:\\users\\farid\\appdata\\roaming\\python\\python39\\site-packages (from shap) (0.59.1)\n",
      "Requirement already satisfied: tqdm>=4.27.0 in c:\\users\\farid\\anaconda3\\lib\\site-packages (from shap) (4.64.1)\n",
      "Requirement already satisfied: pyparsing!=3.0.5,>=2.0.2 in c:\\users\\farid\\anaconda3\\lib\\site-packages (from packaging>20.9->shap) (3.0.9)\n",
      "Requirement already satisfied: colorama in c:\\users\\farid\\anaconda3\\lib\\site-packages (from tqdm>=4.27.0->shap) (0.4.5)\n",
      "Requirement already satisfied: llvmlite<0.43,>=0.42.0dev0 in c:\\users\\farid\\appdata\\roaming\\python\\python39\\site-packages (from numba->shap) (0.42.0)\n",
      "Requirement already satisfied: python-dateutil>=2.8.1 in c:\\users\\farid\\anaconda3\\lib\\site-packages (from pandas->shap) (2.8.2)\n",
      "Requirement already satisfied: pytz>=2020.1 in c:\\users\\farid\\anaconda3\\lib\\site-packages (from pandas->shap) (2022.1)\n",
      "Requirement already satisfied: joblib>=1.2.0 in c:\\users\\farid\\anaconda3\\lib\\site-packages (from scikit-learn->shap) (1.4.2)\n",
      "Requirement already satisfied: threadpoolctl>=3.1.0 in c:\\users\\farid\\anaconda3\\lib\\site-packages (from scikit-learn->shap) (3.5.0)\n",
      "Requirement already satisfied: six>=1.5 in c:\\users\\farid\\anaconda3\\lib\\site-packages (from python-dateutil>=2.8.1->pandas->shap) (1.16.0)\n"
     ]
    }
   ],
   "source": [
    "!pip install --upgrade scipy\n",
    "!pip install --upgrade shap"
   ]
  },
  {
   "cell_type": "code",
   "execution_count": 3,
   "id": "45f89369",
   "metadata": {},
   "outputs": [
    {
     "name": "stdout",
     "output_type": "stream",
     "text": [
      "Requirement already satisfied: scikit-learn in c:\\users\\farid\\anaconda3\\lib\\site-packages (1.5.0)\n",
      "Requirement already satisfied: joblib>=1.2.0 in c:\\users\\farid\\anaconda3\\lib\\site-packages (from scikit-learn) (1.4.2)\n",
      "Requirement already satisfied: threadpoolctl>=3.1.0 in c:\\users\\farid\\anaconda3\\lib\\site-packages (from scikit-learn) (3.5.0)\n",
      "Requirement already satisfied: scipy>=1.6.0 in c:\\users\\farid\\anaconda3\\lib\\site-packages (from scikit-learn) (1.13.1)\n",
      "Requirement already satisfied: numpy>=1.19.5 in c:\\users\\farid\\anaconda3\\lib\\site-packages (from scikit-learn) (1.24.4)\n"
     ]
    }
   ],
   "source": [
    "!pip install --upgrade scikit-learn --user"
   ]
  },
  {
   "cell_type": "markdown",
   "id": "2d0cc6a5",
   "metadata": {},
   "source": [
    "# Projet de Modèle de Scoring\n",
    "\n",
    "## Introduction\n",
    "Ce projet vise à développer un modèle de scoring de crédit qui prédit la probabilité qu'un client rembourse son crédit. Ce modèle aidera la société financière à prendre des décisions éclairées sur l'octroi de prêts.\n",
    "\n",
    "\n",
    "## Importation des Libraries"
   ]
  },
  {
   "cell_type": "code",
   "execution_count": 4,
   "id": "a9f83347",
   "metadata": {},
   "outputs": [
    {
     "name": "stdout",
     "output_type": "stream",
     "text": [
      "1.5.0\n"
     ]
    }
   ],
   "source": [
    "import sklearn\n",
    "print(sklearn.__version__)"
   ]
  },
  {
   "cell_type": "code",
   "execution_count": 5,
   "id": "38b3d1f3",
   "metadata": {},
   "outputs": [],
   "source": [
    "import os\n",
    "import numpy as np\n",
    "import pandas as pd\n",
    "import matplotlib.pyplot as plt\n",
    "import seaborn as sns\n",
    "from sklearn.utils import class_weight\n",
    "from sklearn.model_selection import train_test_split, GridSearchCV, FixedThresholdClassifier\n",
    "from sklearn.metrics import roc_auc_score, roc_curve, classification_report, confusion_matrix, make_scorer\n",
    "from sklearn.impute import SimpleImputer\n",
    "from sklearn.preprocessing import StandardScaler, OneHotEncoder\n",
    "from sklearn.ensemble import RandomForestClassifier\n",
    "from sklearn.pipeline import Pipeline\n",
    "from sklearn.compose import ColumnTransformer\n",
    "from imblearn.over_sampling import SMOTE\n",
    "from imblearn.pipeline import make_pipeline as make_pipeline_imblearn\n",
    "from imblearn.under_sampling import RandomUnderSampler\n",
    "import mlflow\n",
    "import mlflow.sklearn\n",
    "from collections import Counter\n",
    "from xgboost import XGBClassifier"
   ]
  },
  {
   "cell_type": "markdown",
   "id": "4f002b88",
   "metadata": {},
   "source": [
    "# Configuration de MLFlow"
   ]
  },
  {
   "cell_type": "code",
   "execution_count": 6,
   "id": "5d8d1eec",
   "metadata": {},
   "outputs": [
    {
     "name": "stdout",
     "output_type": "stream",
     "text": [
      "../mlruns/\n"
     ]
    }
   ],
   "source": [
    "import mlflow\n",
    "from mlflow import log_metric, log_param, log_artifacts\n",
    "\n",
    "# Définir l'URI de suivi de MLFlow\n",
    "path_mlruns = '../mlruns/'\n",
    "mlflow.set_tracking_uri(path_mlruns)\n",
    "\n",
    "# Affiche le URI de tracking actuel\n",
    "print(mlflow.get_tracking_uri())"
   ]
  },
  {
   "cell_type": "code",
   "execution_count": 7,
   "id": "0d144762",
   "metadata": {},
   "outputs": [
    {
     "data": {
      "text/plain": [
       "'\\n# Créer une nouvelle expérience et obtenir son ID\\nexperiment_id = mlflow.create_experiment(\"model_scoring\")\\nprint(f\"ID de la nouvelle expérience : {experiment_id}\")\\n'"
      ]
     },
     "execution_count": 7,
     "metadata": {},
     "output_type": "execute_result"
    }
   ],
   "source": [
    "'''\n",
    "# Créer une nouvelle expérience et obtenir son ID\n",
    "experiment_id = mlflow.create_experiment(\"model_scoring\")\n",
    "print(f\"ID de la nouvelle expérience : {experiment_id}\")\n",
    "'''"
   ]
  },
  {
   "cell_type": "markdown",
   "id": "e714e7ad",
   "metadata": {},
   "source": [
    "## Chargement des Données"
   ]
  },
  {
   "cell_type": "code",
   "execution_count": 8,
   "id": "aa555c40",
   "metadata": {},
   "outputs": [],
   "source": [
    "path_data_processed = \"../data/processed/\"\n",
    "data = pd.read_csv(path_data_processed + 'processed_data_train.csv', index_col=[0])\n",
    "data_test = pd.read_csv(path_data_processed + 'processed_data_test.csv', index_col=[0])"
   ]
  },
  {
   "cell_type": "markdown",
   "id": "0a3b489b",
   "metadata": {},
   "source": [
    "## Séparation des données en ensembles d'entraînement et de test"
   ]
  },
  {
   "cell_type": "code",
   "execution_count": 9,
   "id": "29606503",
   "metadata": {},
   "outputs": [],
   "source": [
    "X = data.drop('TARGET', axis=1)\n",
    "y = data['TARGET']\n",
    "X_train, X_test, y_train, y_test = train_test_split(X, y, test_size=0.2, random_state=10)"
   ]
  },
  {
   "cell_type": "markdown",
   "id": "50a01216",
   "metadata": {},
   "source": [
    "## Définition des Fonctions Utiles"
   ]
  },
  {
   "cell_type": "code",
   "execution_count": 10,
   "id": "55afab07",
   "metadata": {},
   "outputs": [],
   "source": [
    "def plot_roc_curve(y_test, y_scores, title=\"ROC Curve\"):\n",
    "    fpr, tpr, _ = roc_curve(y_test, y_scores)\n",
    "    auc = roc_auc_score(y_test, y_scores)\n",
    "    plt.figure(figsize=(8, 6))\n",
    "    plt.plot(fpr, tpr, label=f'AUC = {auc:.2f}')\n",
    "    plt.plot([0, 1], [0, 1], linestyle='--')\n",
    "    plt.xlabel('False Positive Rate')\n",
    "    plt.ylabel('True Positive Rate')\n",
    "    plt.title(title)\n",
    "    plt.legend()\n",
    "    plt.show()\n",
    "    return auc"
   ]
  },
  {
   "cell_type": "code",
   "execution_count": 11,
   "id": "f6b81dc8",
   "metadata": {},
   "outputs": [],
   "source": [
    "def business_cost(y_true, y_pred, cost_fn=10, cost_fp=1):\n",
    "    tn, fp, fn, tp = confusion_matrix(y_true, y_pred).ravel()\n",
    "    return -(cost_fn * fn + cost_fp * fp)  # Minimize business cost"
   ]
  },
  {
   "cell_type": "code",
   "execution_count": 12,
   "id": "e868bdd9",
   "metadata": {},
   "outputs": [],
   "source": [
    "def business_score(y_true, y_pred, cost_fn=10, cost_fp=1):\n",
    "    \"\"\"\n",
    "    Calculate the business score for predictions.\n",
    "\n",
    "    Parameters:\n",
    "    - y_true: array, true labels.\n",
    "    - y_pred: array, predicted labels.\n",
    "    - cost_fn: int, cost associated with a false negative.\n",
    "    - cost_fp: int, cost associated with a false, positive.\n",
    "\n",
    "    Returns:\n",
    "    - float, normalized business score between 0 and 1.\n",
    "    \"\"\"\n",
    "    tn, fp, fn, tp = confusion_matrix(y_true, y_pred).ravel()\n",
    "    total_cost = cost_fn * fn + cost_fp * fp\n",
    "    max_cost = cost_fn * (fn + tp) + cost_fp * (fp + tn)  # worst case scenario: all predictions are wrong\n",
    "    \n",
    "    # Normalize and subtract from 1 to flip the scale: higher is better\n",
    "    return 1 - (total_cost / max_cost)"
   ]
  },
  {
   "cell_type": "markdown",
   "id": "259fc67d",
   "metadata": {},
   "source": [
    "## Prétraitement des Données\n",
    "### Vérification des Valeurs Manquantes"
   ]
  },
  {
   "cell_type": "code",
   "execution_count": 13,
   "id": "10181f9d",
   "metadata": {},
   "outputs": [
    {
     "name": "stdout",
     "output_type": "stream",
     "text": [
      "Missing values: 36088183 (19.62%)\n"
     ]
    }
   ],
   "source": [
    "print(f\"Missing values: {data.isna().sum().sum()} ({data.isna().sum().sum()/data.size:.2%})\")"
   ]
  },
  {
   "cell_type": "code",
   "execution_count": 14,
   "id": "2fd8870d",
   "metadata": {
    "scrolled": false
   },
   "outputs": [
    {
     "name": "stdout",
     "output_type": "stream",
     "text": [
      "Index(['TARGET', 'NAME_CONTRACT_TYPE', 'CODE_GENDER', 'FLAG_OWN_CAR',\n",
      "       'FLAG_OWN_REALTY', 'CNT_CHILDREN', 'AMT_INCOME_TOTAL', 'AMT_CREDIT',\n",
      "       'AMT_ANNUITY', 'REGION_POPULATION_RELATIVE',\n",
      "       ...\n",
      "       'PREV_PRODUCT_COMBINATION_Cash X-Sell: low_MEAN',\n",
      "       'PREV_PRODUCT_COMBINATION_Cash X-Sell: middle_MEAN',\n",
      "       'PREV_PRODUCT_COMBINATION_POS household with interest_MEAN',\n",
      "       'PREV_PRODUCT_COMBINATION_POS household without interest_MEAN',\n",
      "       'PREV_PRODUCT_COMBINATION_POS industry with interest_MEAN',\n",
      "       'PREV_PRODUCT_COMBINATION_POS industry without interest_MEAN',\n",
      "       'PREV_PRODUCT_COMBINATION_POS mobile with interest_MEAN',\n",
      "       'PREV_PRODUCT_COMBINATION_POS mobile without interest_MEAN',\n",
      "       'PREV_PRODUCT_COMBINATION_POS other with interest_MEAN',\n",
      "       'PREV_PRODUCT_COMBINATION_POS others without interest_MEAN'],\n",
      "      dtype='object', length=598)\n",
      "Numeric Features: ['NAME_CONTRACT_TYPE', 'CODE_GENDER', 'FLAG_OWN_CAR', 'FLAG_OWN_REALTY', 'CNT_CHILDREN', 'AMT_INCOME_TOTAL', 'AMT_CREDIT', 'AMT_ANNUITY', 'REGION_POPULATION_RELATIVE', 'DAYS_BIRTH', 'DAYS_EMPLOYED', 'DAYS_REGISTRATION', 'DAYS_ID_PUBLISH', 'OWN_CAR_AGE', 'FLAG_MOBIL', 'FLAG_EMP_PHONE', 'FLAG_WORK_PHONE', 'FLAG_CONT_MOBILE', 'FLAG_PHONE', 'FLAG_EMAIL', 'CNT_FAM_MEMBERS', 'REGION_RATING_CLIENT', 'REGION_RATING_CLIENT_W_CITY', 'HOUR_APPR_PROCESS_START', 'REG_REGION_NOT_LIVE_REGION', 'REG_REGION_NOT_WORK_REGION', 'LIVE_REGION_NOT_WORK_REGION', 'REG_CITY_NOT_LIVE_CITY', 'REG_CITY_NOT_WORK_CITY', 'LIVE_CITY_NOT_WORK_CITY', 'EXT_SOURCE_1', 'EXT_SOURCE_2', 'EXT_SOURCE_3', 'APARTMENTS_AVG', 'BASEMENTAREA_AVG', 'YEARS_BEGINEXPLUATATION_AVG', 'YEARS_BUILD_AVG', 'COMMONAREA_AVG', 'ELEVATORS_AVG', 'ENTRANCES_AVG', 'FLOORSMAX_AVG', 'FLOORSMIN_AVG', 'LANDAREA_AVG', 'LIVINGAPARTMENTS_AVG', 'LIVINGAREA_AVG', 'NONLIVINGAPARTMENTS_AVG', 'NONLIVINGAREA_AVG', 'APARTMENTS_MODE', 'BASEMENTAREA_MODE', 'YEARS_BEGINEXPLUATATION_MODE', 'COMMONAREA_MODE', 'ELEVATORS_MODE', 'ENTRANCES_MODE', 'LANDAREA_MODE', 'LIVINGAPARTMENTS_MODE', 'LIVINGAREA_MODE', 'NONLIVINGAPARTMENTS_MODE', 'NONLIVINGAREA_MODE', 'TOTALAREA_MODE', 'EMERGENCYSTATE_MODE', 'OBS_30_CNT_SOCIAL_CIRCLE', 'DEF_30_CNT_SOCIAL_CIRCLE', 'DEF_60_CNT_SOCIAL_CIRCLE', 'DAYS_LAST_PHONE_CHANGE', 'FLAG_DOCUMENT_2', 'FLAG_DOCUMENT_3', 'FLAG_DOCUMENT_4', 'FLAG_DOCUMENT_5', 'FLAG_DOCUMENT_6', 'FLAG_DOCUMENT_7', 'FLAG_DOCUMENT_8', 'FLAG_DOCUMENT_9', 'FLAG_DOCUMENT_10', 'FLAG_DOCUMENT_11', 'FLAG_DOCUMENT_12', 'FLAG_DOCUMENT_13', 'FLAG_DOCUMENT_14', 'FLAG_DOCUMENT_15', 'FLAG_DOCUMENT_16', 'FLAG_DOCUMENT_17', 'FLAG_DOCUMENT_18', 'FLAG_DOCUMENT_19', 'FLAG_DOCUMENT_20', 'FLAG_DOCUMENT_21', 'AMT_REQ_CREDIT_BUREAU_HOUR', 'AMT_REQ_CREDIT_BUREAU_DAY', 'AMT_REQ_CREDIT_BUREAU_WEEK', 'AMT_REQ_CREDIT_BUREAU_MON', 'AMT_REQ_CREDIT_BUREAU_QRT', 'AMT_REQ_CREDIT_BUREAU_YEAR', 'DAYS_EMPLOYED_PERC', 'INCOME_CREDIT_PERC', 'INCOME_PER_PERSON', 'ANNUITY_INCOME_PERC', 'PAYMENT_RATE', 'NAME_TYPE_SUITE_Children', 'NAME_TYPE_SUITE_Family', 'NAME_TYPE_SUITE_Group of people', 'NAME_TYPE_SUITE_Other_A', 'NAME_TYPE_SUITE_Other_B', 'NAME_TYPE_SUITE_Spouse, partner', 'NAME_TYPE_SUITE_Unaccompanied', 'NAME_INCOME_TYPE_Businessman', 'NAME_INCOME_TYPE_Commercial associate', 'NAME_INCOME_TYPE_Maternity leave', 'NAME_INCOME_TYPE_State servant', 'NAME_INCOME_TYPE_Student', 'NAME_INCOME_TYPE_Unemployed', 'NAME_INCOME_TYPE_Working', 'NAME_EDUCATION_TYPE_Academic degree', 'NAME_EDUCATION_TYPE_Higher education', 'NAME_EDUCATION_TYPE_Incomplete higher', 'NAME_EDUCATION_TYPE_Lower secondary', 'NAME_EDUCATION_TYPE_Secondary / secondary special', 'NAME_FAMILY_STATUS_Civil marriage', 'NAME_FAMILY_STATUS_Married', 'NAME_FAMILY_STATUS_Separated', 'NAME_FAMILY_STATUS_Single / not married', 'NAME_FAMILY_STATUS_Unknown', 'NAME_FAMILY_STATUS_Widow', 'NAME_HOUSING_TYPE_Co-op apartment', 'NAME_HOUSING_TYPE_House / apartment', 'NAME_HOUSING_TYPE_Municipal apartment', 'NAME_HOUSING_TYPE_Office apartment', 'NAME_HOUSING_TYPE_Rented apartment', 'NAME_HOUSING_TYPE_With parents', 'OCCUPATION_TYPE_Accountants', 'OCCUPATION_TYPE_Cleaning staff', 'OCCUPATION_TYPE_Cooking staff', 'OCCUPATION_TYPE_Core staff', 'OCCUPATION_TYPE_Drivers', 'OCCUPATION_TYPE_HR staff', 'OCCUPATION_TYPE_High skill tech staff', 'OCCUPATION_TYPE_IT staff', 'OCCUPATION_TYPE_Laborers', 'OCCUPATION_TYPE_Low-skill Laborers', 'OCCUPATION_TYPE_Managers', 'OCCUPATION_TYPE_Medicine staff', 'OCCUPATION_TYPE_Private service staff', 'OCCUPATION_TYPE_Realty agents', 'OCCUPATION_TYPE_Sales staff', 'OCCUPATION_TYPE_Secretaries', 'OCCUPATION_TYPE_Security staff', 'OCCUPATION_TYPE_Waiters/barmen staff', 'WEEKDAY_APPR_PROCESS_START_FRIDAY', 'WEEKDAY_APPR_PROCESS_START_MONDAY', 'WEEKDAY_APPR_PROCESS_START_SATURDAY', 'WEEKDAY_APPR_PROCESS_START_SUNDAY', 'WEEKDAY_APPR_PROCESS_START_THURSDAY', 'WEEKDAY_APPR_PROCESS_START_TUESDAY', 'WEEKDAY_APPR_PROCESS_START_WEDNESDAY', 'ORGANIZATION_TYPE_Advertising', 'ORGANIZATION_TYPE_Agriculture', 'ORGANIZATION_TYPE_Bank', 'ORGANIZATION_TYPE_Business Entity Type 1', 'ORGANIZATION_TYPE_Business Entity Type 2', 'ORGANIZATION_TYPE_Business Entity Type 3', 'ORGANIZATION_TYPE_Cleaning', 'ORGANIZATION_TYPE_Construction', 'ORGANIZATION_TYPE_Culture', 'ORGANIZATION_TYPE_Electricity', 'ORGANIZATION_TYPE_Emergency', 'ORGANIZATION_TYPE_Government', 'ORGANIZATION_TYPE_Hotel', 'ORGANIZATION_TYPE_Housing', 'ORGANIZATION_TYPE_Industry: type 1', 'ORGANIZATION_TYPE_Industry: type 10', 'ORGANIZATION_TYPE_Industry: type 11', 'ORGANIZATION_TYPE_Industry: type 12', 'ORGANIZATION_TYPE_Industry: type 13', 'ORGANIZATION_TYPE_Industry: type 2', 'ORGANIZATION_TYPE_Industry: type 3', 'ORGANIZATION_TYPE_Industry: type 4', 'ORGANIZATION_TYPE_Industry: type 5', 'ORGANIZATION_TYPE_Industry: type 6', 'ORGANIZATION_TYPE_Industry: type 7', 'ORGANIZATION_TYPE_Industry: type 8', 'ORGANIZATION_TYPE_Industry: type 9', 'ORGANIZATION_TYPE_Insurance', 'ORGANIZATION_TYPE_Kindergarten', 'ORGANIZATION_TYPE_Legal Services', 'ORGANIZATION_TYPE_Medicine', 'ORGANIZATION_TYPE_Military', 'ORGANIZATION_TYPE_Mobile', 'ORGANIZATION_TYPE_Other', 'ORGANIZATION_TYPE_Police', 'ORGANIZATION_TYPE_Postal', 'ORGANIZATION_TYPE_Realtor', 'ORGANIZATION_TYPE_Religion', 'ORGANIZATION_TYPE_Restaurant', 'ORGANIZATION_TYPE_School', 'ORGANIZATION_TYPE_Security', 'ORGANIZATION_TYPE_Security Ministries', 'ORGANIZATION_TYPE_Self-employed', 'ORGANIZATION_TYPE_Services', 'ORGANIZATION_TYPE_Telecom', 'ORGANIZATION_TYPE_Trade: type 1', 'ORGANIZATION_TYPE_Trade: type 2', 'ORGANIZATION_TYPE_Trade: type 3', 'ORGANIZATION_TYPE_Trade: type 4', 'ORGANIZATION_TYPE_Trade: type 5', 'ORGANIZATION_TYPE_Trade: type 6', 'ORGANIZATION_TYPE_Trade: type 7', 'ORGANIZATION_TYPE_Transport: type 1', 'ORGANIZATION_TYPE_Transport: type 2', 'ORGANIZATION_TYPE_Transport: type 3', 'ORGANIZATION_TYPE_Transport: type 4', 'ORGANIZATION_TYPE_University', 'FONDKAPREMONT_MODE_not specified', 'FONDKAPREMONT_MODE_org spec account', 'FONDKAPREMONT_MODE_reg oper account', 'FONDKAPREMONT_MODE_reg oper spec account', 'HOUSETYPE_MODE_block of flats', 'HOUSETYPE_MODE_specific housing', 'HOUSETYPE_MODE_terraced house', 'WALLSMATERIAL_MODE_Block', 'WALLSMATERIAL_MODE_Mixed', 'WALLSMATERIAL_MODE_Monolithic', 'WALLSMATERIAL_MODE_Others', 'WALLSMATERIAL_MODE_Panel', 'WALLSMATERIAL_MODE_Stone, brick', 'WALLSMATERIAL_MODE_Wooden', 'BURO_DAYS_CREDIT_MIN', 'BURO_DAYS_CREDIT_MAX', 'BURO_DAYS_CREDIT_MEAN', 'BURO_DAYS_CREDIT_VAR', 'BURO_DAYS_CREDIT_ENDDATE_MIN', 'BURO_DAYS_CREDIT_ENDDATE_MAX', 'BURO_DAYS_CREDIT_ENDDATE_MEAN', 'BURO_DAYS_CREDIT_UPDATE_MEAN', 'BURO_CREDIT_DAY_OVERDUE_MAX', 'BURO_CREDIT_DAY_OVERDUE_MEAN', 'BURO_AMT_CREDIT_MAX_OVERDUE_MEAN', 'BURO_AMT_CREDIT_SUM_MAX', 'BURO_AMT_CREDIT_SUM_MEAN', 'BURO_AMT_CREDIT_SUM_SUM', 'BURO_AMT_CREDIT_SUM_DEBT_MAX', 'BURO_AMT_CREDIT_SUM_DEBT_MEAN', 'BURO_AMT_CREDIT_SUM_DEBT_SUM', 'BURO_AMT_CREDIT_SUM_OVERDUE_MEAN', 'BURO_AMT_CREDIT_SUM_LIMIT_MEAN', 'BURO_AMT_CREDIT_SUM_LIMIT_SUM', 'BURO_AMT_ANNUITY_MAX', 'BURO_AMT_ANNUITY_MEAN', 'BURO_CNT_CREDIT_PROLONG_SUM', 'BURO_MONTHS_BALANCE_MAX_MAX', 'BURO_MONTHS_BALANCE_SIZE_MEAN', 'BURO_MONTHS_BALANCE_SIZE_SUM', 'BURO_CREDIT_ACTIVE_Active_MEAN', 'BURO_CREDIT_ACTIVE_Bad debt_MEAN', 'BURO_CREDIT_ACTIVE_Sold_MEAN', 'BURO_CREDIT_CURRENCY_currency 1_MEAN', 'BURO_CREDIT_CURRENCY_currency 2_MEAN', 'BURO_CREDIT_CURRENCY_currency 3_MEAN', 'BURO_CREDIT_CURRENCY_currency 4_MEAN', 'BURO_CREDIT_TYPE_Another type of loan_MEAN', 'BURO_CREDIT_TYPE_Car loan_MEAN', 'BURO_CREDIT_TYPE_Cash loan (non-earmarked)_MEAN', 'BURO_CREDIT_TYPE_Consumer credit_MEAN', 'BURO_CREDIT_TYPE_Credit card_MEAN', 'BURO_CREDIT_TYPE_Interbank credit_MEAN', 'BURO_CREDIT_TYPE_Loan for business development_MEAN', 'BURO_CREDIT_TYPE_Loan for purchase of shares (margin lending)_MEAN', 'BURO_CREDIT_TYPE_Loan for the purchase of equipment_MEAN', 'BURO_CREDIT_TYPE_Loan for working capital replenishment_MEAN', 'BURO_CREDIT_TYPE_Microloan_MEAN', 'BURO_CREDIT_TYPE_Mobile operator loan_MEAN', 'BURO_CREDIT_TYPE_Mortgage_MEAN', 'BURO_CREDIT_TYPE_Real estate loan_MEAN', 'BURO_CREDIT_TYPE_Unknown type of loan_MEAN', 'BURO_STATUS_0_MEAN_MEAN', 'BURO_STATUS_1_MEAN_MEAN', 'BURO_STATUS_2_MEAN_MEAN', 'BURO_STATUS_3_MEAN_MEAN', 'BURO_STATUS_4_MEAN_MEAN', 'BURO_STATUS_5_MEAN_MEAN', 'BURO_STATUS_C_MEAN_MEAN', 'BURO_STATUS_X_MEAN_MEAN', 'BURO_COUNT', 'CC_MONTHS_BALANCE_MIN', 'CC_MONTHS_BALANCE_MAX', 'CC_AMT_BALANCE_MIN', 'CC_AMT_BALANCE_MAX', 'CC_AMT_BALANCE_MEAN', 'CC_AMT_BALANCE_SUM', 'CC_AMT_BALANCE_VAR', 'CC_AMT_CREDIT_LIMIT_ACTUAL_MIN', 'CC_AMT_CREDIT_LIMIT_ACTUAL_MAX', 'CC_AMT_CREDIT_LIMIT_ACTUAL_MEAN', 'CC_AMT_CREDIT_LIMIT_ACTUAL_SUM', 'CC_AMT_CREDIT_LIMIT_ACTUAL_VAR', 'CC_AMT_DRAWINGS_ATM_CURRENT_MIN', 'CC_AMT_DRAWINGS_ATM_CURRENT_MAX', 'CC_AMT_DRAWINGS_ATM_CURRENT_MEAN', 'CC_AMT_DRAWINGS_ATM_CURRENT_SUM', 'CC_AMT_DRAWINGS_ATM_CURRENT_VAR', 'CC_AMT_DRAWINGS_CURRENT_MIN', 'CC_AMT_DRAWINGS_CURRENT_MAX', 'CC_AMT_DRAWINGS_CURRENT_MEAN', 'CC_AMT_DRAWINGS_CURRENT_SUM', 'CC_AMT_DRAWINGS_CURRENT_VAR', 'CC_AMT_DRAWINGS_OTHER_CURRENT_MIN', 'CC_AMT_DRAWINGS_OTHER_CURRENT_MAX', 'CC_AMT_DRAWINGS_OTHER_CURRENT_MEAN', 'CC_AMT_DRAWINGS_OTHER_CURRENT_SUM', 'CC_AMT_DRAWINGS_OTHER_CURRENT_VAR', 'CC_AMT_DRAWINGS_POS_CURRENT_MIN', 'CC_AMT_DRAWINGS_POS_CURRENT_MAX', 'CC_AMT_DRAWINGS_POS_CURRENT_MEAN', 'CC_AMT_DRAWINGS_POS_CURRENT_SUM', 'CC_AMT_DRAWINGS_POS_CURRENT_VAR', 'CC_AMT_INST_MIN_REGULARITY_MIN', 'CC_AMT_INST_MIN_REGULARITY_MAX', 'CC_AMT_INST_MIN_REGULARITY_MEAN', 'CC_AMT_INST_MIN_REGULARITY_SUM', 'CC_AMT_INST_MIN_REGULARITY_VAR', 'CC_AMT_PAYMENT_CURRENT_MIN', 'CC_AMT_PAYMENT_CURRENT_MAX', 'CC_AMT_PAYMENT_CURRENT_MEAN', 'CC_AMT_PAYMENT_CURRENT_SUM', 'CC_AMT_PAYMENT_CURRENT_VAR', 'CC_AMT_PAYMENT_TOTAL_CURRENT_MIN', 'CC_AMT_PAYMENT_TOTAL_CURRENT_MEAN', 'CC_CNT_DRAWINGS_ATM_CURRENT_MIN', 'CC_CNT_DRAWINGS_ATM_CURRENT_MAX', 'CC_CNT_DRAWINGS_ATM_CURRENT_MEAN', 'CC_CNT_DRAWINGS_ATM_CURRENT_SUM', 'CC_CNT_DRAWINGS_ATM_CURRENT_VAR', 'CC_CNT_DRAWINGS_CURRENT_MIN', 'CC_CNT_DRAWINGS_CURRENT_MAX', 'CC_CNT_DRAWINGS_CURRENT_MEAN', 'CC_CNT_DRAWINGS_CURRENT_SUM', 'CC_CNT_DRAWINGS_CURRENT_VAR', 'CC_CNT_DRAWINGS_OTHER_CURRENT_MIN', 'CC_CNT_DRAWINGS_OTHER_CURRENT_MAX', 'CC_CNT_DRAWINGS_OTHER_CURRENT_MEAN', 'CC_CNT_DRAWINGS_OTHER_CURRENT_SUM', 'CC_CNT_DRAWINGS_OTHER_CURRENT_VAR', 'CC_CNT_DRAWINGS_POS_CURRENT_MIN', 'CC_CNT_DRAWINGS_POS_CURRENT_MAX', 'CC_CNT_DRAWINGS_POS_CURRENT_MEAN', 'CC_CNT_DRAWINGS_POS_CURRENT_SUM', 'CC_CNT_INSTALMENT_MATURE_CUM_MIN', 'CC_CNT_INSTALMENT_MATURE_CUM_MAX', 'CC_CNT_INSTALMENT_MATURE_CUM_MEAN', 'CC_CNT_INSTALMENT_MATURE_CUM_SUM', 'CC_CNT_INSTALMENT_MATURE_CUM_VAR', 'CC_SK_DPD_MIN', 'CC_SK_DPD_MAX', 'CC_SK_DPD_MEAN', 'CC_SK_DPD_DEF_MAX', 'CC_SK_DPD_DEF_MEAN', 'CC_NAME_CONTRACT_STATUS_Active_MIN', 'CC_NAME_CONTRACT_STATUS_Active_MAX', 'CC_NAME_CONTRACT_STATUS_Active_MEAN', 'CC_NAME_CONTRACT_STATUS_Active_VAR', 'CC_NAME_CONTRACT_STATUS_Approved_MIN', 'CC_NAME_CONTRACT_STATUS_Approved_MAX', 'CC_NAME_CONTRACT_STATUS_Completed_MIN', 'CC_NAME_CONTRACT_STATUS_Completed_MAX', 'CC_NAME_CONTRACT_STATUS_Completed_MEAN', 'CC_NAME_CONTRACT_STATUS_Completed_SUM', 'CC_NAME_CONTRACT_STATUS_Completed_VAR', 'CC_NAME_CONTRACT_STATUS_Demand_MIN', 'CC_NAME_CONTRACT_STATUS_Demand_MAX', 'CC_NAME_CONTRACT_STATUS_Demand_MEAN', 'CC_NAME_CONTRACT_STATUS_Demand_VAR', 'CC_NAME_CONTRACT_STATUS_Refused_MIN', 'CC_NAME_CONTRACT_STATUS_Refused_MAX', 'CC_NAME_CONTRACT_STATUS_Sent proposal_MIN', 'CC_NAME_CONTRACT_STATUS_Sent proposal_MAX', 'CC_NAME_CONTRACT_STATUS_Signed_MIN', 'CC_NAME_CONTRACT_STATUS_Signed_MAX', 'CC_NAME_CONTRACT_STATUS_Signed_MEAN', 'CC_NAME_CONTRACT_STATUS_Signed_SUM', 'CC_NAME_CONTRACT_STATUS_Signed_VAR', 'INSTAL_NUM_INSTALMENT_VERSION_NUNIQUE', 'INSTAL_DPD_MAX', 'INSTAL_DPD_MEAN', 'INSTAL_DPD_SUM', 'INSTAL_DBD_MAX', 'INSTAL_DBD_MEAN', 'INSTAL_DBD_SUM', 'INSTAL_PAYMENT_PERC_MAX', 'INSTAL_PAYMENT_PERC_MEAN', 'INSTAL_PAYMENT_PERC_VAR', 'INSTAL_PAYMENT_DIFF_MAX', 'INSTAL_PAYMENT_DIFF_MEAN', 'INSTAL_PAYMENT_DIFF_SUM', 'INSTAL_PAYMENT_DIFF_VAR', 'INSTAL_AMT_INSTALMENT_MAX', 'INSTAL_AMT_INSTALMENT_MEAN', 'INSTAL_AMT_INSTALMENT_SUM', 'INSTAL_AMT_PAYMENT_MIN', 'INSTAL_AMT_PAYMENT_MEAN', 'INSTAL_DAYS_ENTRY_PAYMENT_MAX', 'INSTAL_DAYS_ENTRY_PAYMENT_MEAN', 'INSTAL_DAYS_ENTRY_PAYMENT_SUM', 'INSTAL_COUNT', 'INSTAL_MONTHS_BALANCE_MAX', 'INSTAL_MONTHS_BALANCE_MEAN', 'INSTAL_MONTHS_BALANCE_SIZE', 'INSTAL_SK_DPD_MAX', 'INSTAL_SK_DPD_MEAN', 'INSTAL_SK_DPD_DEF_MAX', 'INSTAL_SK_DPD_DEF_MEAN', 'INSTAL_NAME_CONTRACT_STATUS_Active_MEAN', 'INSTAL_NAME_CONTRACT_STATUS_Amortized debt_MEAN', 'INSTAL_NAME_CONTRACT_STATUS_Approved_MEAN', 'INSTAL_NAME_CONTRACT_STATUS_Canceled_MEAN', 'INSTAL_NAME_CONTRACT_STATUS_Completed_MEAN', 'INSTAL_NAME_CONTRACT_STATUS_Demand_MEAN', 'INSTAL_NAME_CONTRACT_STATUS_Returned to the store_MEAN', 'INSTAL_NAME_CONTRACT_STATUS_Signed_MEAN', 'INSTAL_NAME_CONTRACT_STATUS_XNA_MEAN', 'INSTAL_NAME_CONTRACT_STATUS_nan_MEAN', 'PREV_AMT_ANNUITY_MIN', 'PREV_AMT_ANNUITY_MAX', 'PREV_AMT_ANNUITY_MEAN', 'PREV_AMT_APPLICATION_MIN', 'PREV_AMT_APPLICATION_MAX', 'PREV_AMT_APPLICATION_MEAN', 'PREV_AMT_CREDIT_MIN', 'PREV_AMT_CREDIT_MEAN', 'PREV_APP_CREDIT_PERC_MIN', 'PREV_APP_CREDIT_PERC_MAX', 'PREV_APP_CREDIT_PERC_MEAN', 'PREV_APP_CREDIT_PERC_VAR', 'PREV_AMT_DOWN_PAYMENT_MIN', 'PREV_AMT_DOWN_PAYMENT_MAX', 'PREV_AMT_DOWN_PAYMENT_MEAN', 'PREV_AMT_GOODS_PRICE_MIN', 'PREV_AMT_GOODS_PRICE_MEAN', 'PREV_HOUR_APPR_PROCESS_START_MIN', 'PREV_HOUR_APPR_PROCESS_START_MAX', 'PREV_HOUR_APPR_PROCESS_START_MEAN', 'PREV_RATE_DOWN_PAYMENT_MIN', 'PREV_RATE_DOWN_PAYMENT_MAX', 'PREV_RATE_DOWN_PAYMENT_MEAN', 'PREV_DAYS_DECISION_MIN', 'PREV_DAYS_DECISION_MAX', 'PREV_DAYS_DECISION_MEAN', 'PREV_CNT_PAYMENT_MEAN', 'PREV_CNT_PAYMENT_SUM', 'PREV_NAME_CONTRACT_TYPE_Cash loans_MEAN', 'PREV_NAME_CONTRACT_TYPE_Consumer loans_MEAN', 'PREV_NAME_CONTRACT_TYPE_Revolving loans_MEAN', 'PREV_NAME_CONTRACT_TYPE_XNA_MEAN', 'PREV_NAME_CONTRACT_TYPE_nan_MEAN', 'PREV_WEEKDAY_APPR_PROCESS_START_FRIDAY_MEAN', 'PREV_WEEKDAY_APPR_PROCESS_START_MONDAY_MEAN', 'PREV_WEEKDAY_APPR_PROCESS_START_SATURDAY_MEAN', 'PREV_WEEKDAY_APPR_PROCESS_START_SUNDAY_MEAN', 'PREV_WEEKDAY_APPR_PROCESS_START_THURSDAY_MEAN', 'PREV_WEEKDAY_APPR_PROCESS_START_TUESDAY_MEAN', 'PREV_WEEKDAY_APPR_PROCESS_START_WEDNESDAY_MEAN', 'PREV_WEEKDAY_APPR_PROCESS_START_nan_MEAN', 'PREV_FLAG_LAST_APPL_PER_CONTRACT_N_MEAN', 'PREV_FLAG_LAST_APPL_PER_CONTRACT_nan_MEAN', 'PREV_NAME_CASH_LOAN_PURPOSE_Building a house or an annex_MEAN', 'PREV_NAME_CASH_LOAN_PURPOSE_Business development_MEAN', 'PREV_NAME_CASH_LOAN_PURPOSE_Buying a garage_MEAN', 'PREV_NAME_CASH_LOAN_PURPOSE_Buying a holiday home / land_MEAN', 'PREV_NAME_CASH_LOAN_PURPOSE_Buying a home_MEAN', 'PREV_NAME_CASH_LOAN_PURPOSE_Buying a new car_MEAN', 'PREV_NAME_CASH_LOAN_PURPOSE_Buying a used car_MEAN', 'PREV_NAME_CASH_LOAN_PURPOSE_Car repairs_MEAN', 'PREV_NAME_CASH_LOAN_PURPOSE_Education_MEAN', 'PREV_NAME_CASH_LOAN_PURPOSE_Everyday expenses_MEAN', 'PREV_NAME_CASH_LOAN_PURPOSE_Furniture_MEAN', 'PREV_NAME_CASH_LOAN_PURPOSE_Gasification / water supply_MEAN', 'PREV_NAME_CASH_LOAN_PURPOSE_Hobby_MEAN', 'PREV_NAME_CASH_LOAN_PURPOSE_Journey_MEAN', 'PREV_NAME_CASH_LOAN_PURPOSE_Medicine_MEAN', 'PREV_NAME_CASH_LOAN_PURPOSE_Money for a third person_MEAN', 'PREV_NAME_CASH_LOAN_PURPOSE_Other_MEAN', 'PREV_NAME_CASH_LOAN_PURPOSE_Payments on other loans_MEAN', 'PREV_NAME_CASH_LOAN_PURPOSE_Purchase of electronic equipment_MEAN', 'PREV_NAME_CASH_LOAN_PURPOSE_Refusal to name the goal_MEAN', 'PREV_NAME_CASH_LOAN_PURPOSE_Repairs_MEAN', 'PREV_NAME_CASH_LOAN_PURPOSE_Urgent needs_MEAN', 'PREV_NAME_CASH_LOAN_PURPOSE_Wedding / gift / holiday_MEAN', 'PREV_NAME_CASH_LOAN_PURPOSE_XNA_MEAN', 'PREV_NAME_CASH_LOAN_PURPOSE_nan_MEAN', 'PREV_NAME_CONTRACT_STATUS_Approved_MEAN', 'PREV_NAME_CONTRACT_STATUS_Canceled_MEAN', 'PREV_NAME_CONTRACT_STATUS_Refused_MEAN', 'PREV_NAME_CONTRACT_STATUS_Unused offer_MEAN', 'PREV_NAME_CONTRACT_STATUS_nan_MEAN', 'PREV_NAME_PAYMENT_TYPE_Cash through the bank_MEAN', 'PREV_NAME_PAYMENT_TYPE_Cashless from the account of the employer_MEAN', 'PREV_NAME_PAYMENT_TYPE_Non-cash from your account_MEAN', 'PREV_NAME_PAYMENT_TYPE_nan_MEAN', 'PREV_CODE_REJECT_REASON_HC_MEAN', 'PREV_CODE_REJECT_REASON_LIMIT_MEAN', 'PREV_CODE_REJECT_REASON_SCO_MEAN', 'PREV_CODE_REJECT_REASON_SCOFR_MEAN', 'PREV_CODE_REJECT_REASON_SYSTEM_MEAN', 'PREV_CODE_REJECT_REASON_VERIF_MEAN', 'PREV_CODE_REJECT_REASON_XAP_MEAN', 'PREV_CODE_REJECT_REASON_XNA_MEAN', 'PREV_CODE_REJECT_REASON_nan_MEAN', 'PREV_NAME_TYPE_SUITE_Children_MEAN', 'PREV_NAME_TYPE_SUITE_Family_MEAN', 'PREV_NAME_TYPE_SUITE_Group of people_MEAN', 'PREV_NAME_TYPE_SUITE_Other_A_MEAN', 'PREV_NAME_TYPE_SUITE_Other_B_MEAN', 'PREV_NAME_TYPE_SUITE_Spouse, partner_MEAN', 'PREV_NAME_TYPE_SUITE_Unaccompanied_MEAN', 'PREV_NAME_TYPE_SUITE_nan_MEAN', 'PREV_NAME_CLIENT_TYPE_New_MEAN', 'PREV_NAME_CLIENT_TYPE_Refreshed_MEAN', 'PREV_NAME_CLIENT_TYPE_Repeater_MEAN', 'PREV_NAME_CLIENT_TYPE_XNA_MEAN', 'PREV_NAME_CLIENT_TYPE_nan_MEAN', 'PREV_NAME_GOODS_CATEGORY_Additional Service_MEAN', 'PREV_NAME_GOODS_CATEGORY_Animals_MEAN', 'PREV_NAME_GOODS_CATEGORY_Audio/Video_MEAN', 'PREV_NAME_GOODS_CATEGORY_Auto Accessories_MEAN', 'PREV_NAME_GOODS_CATEGORY_Clothing and Accessories_MEAN', 'PREV_NAME_GOODS_CATEGORY_Computers_MEAN', 'PREV_NAME_GOODS_CATEGORY_Construction Materials_MEAN', 'PREV_NAME_GOODS_CATEGORY_Consumer Electronics_MEAN', 'PREV_NAME_GOODS_CATEGORY_Direct Sales_MEAN', 'PREV_NAME_GOODS_CATEGORY_Education_MEAN', 'PREV_NAME_GOODS_CATEGORY_Fitness_MEAN', 'PREV_NAME_GOODS_CATEGORY_Furniture_MEAN', 'PREV_NAME_GOODS_CATEGORY_Gardening_MEAN', 'PREV_NAME_GOODS_CATEGORY_Homewares_MEAN', 'PREV_NAME_GOODS_CATEGORY_House Construction_MEAN', 'PREV_NAME_GOODS_CATEGORY_Insurance_MEAN', 'PREV_NAME_GOODS_CATEGORY_Jewelry_MEAN', 'PREV_NAME_GOODS_CATEGORY_Medical Supplies_MEAN', 'PREV_NAME_GOODS_CATEGORY_Medicine_MEAN', 'PREV_NAME_GOODS_CATEGORY_Mobile_MEAN', 'PREV_NAME_GOODS_CATEGORY_Office Appliances_MEAN', 'PREV_NAME_GOODS_CATEGORY_Other_MEAN', 'PREV_NAME_GOODS_CATEGORY_Photo / Cinema Equipment_MEAN', 'PREV_NAME_GOODS_CATEGORY_Sport and Leisure_MEAN', 'PREV_NAME_GOODS_CATEGORY_Tourism_MEAN', 'PREV_NAME_GOODS_CATEGORY_Vehicles_MEAN', 'PREV_NAME_GOODS_CATEGORY_Weapon_MEAN', 'PREV_NAME_GOODS_CATEGORY_nan_MEAN', 'PREV_NAME_PORTFOLIO_Cards_MEAN', 'PREV_NAME_PORTFOLIO_Cars_MEAN', 'PREV_NAME_PORTFOLIO_Cash_MEAN', 'PREV_NAME_PORTFOLIO_POS_MEAN', 'PREV_NAME_PORTFOLIO_XNA_MEAN', 'PREV_NAME_PORTFOLIO_nan_MEAN', 'PREV_NAME_PRODUCT_TYPE_XNA_MEAN', 'PREV_NAME_PRODUCT_TYPE_walk-in_MEAN', 'PREV_NAME_PRODUCT_TYPE_x-sell_MEAN', 'PREV_NAME_PRODUCT_TYPE_nan_MEAN', 'PREV_CHANNEL_TYPE_AP+ (Cash loan)_MEAN', 'PREV_CHANNEL_TYPE_Car dealer_MEAN', 'PREV_CHANNEL_TYPE_Channel of corporate sales_MEAN', 'PREV_CHANNEL_TYPE_Contact center_MEAN', 'PREV_CHANNEL_TYPE_Country-wide_MEAN', 'PREV_CHANNEL_TYPE_Credit and cash offices_MEAN', 'PREV_CHANNEL_TYPE_Regional / Local_MEAN', 'PREV_CHANNEL_TYPE_Stone_MEAN', 'PREV_CHANNEL_TYPE_nan_MEAN', 'PREV_NAME_SELLER_INDUSTRY_Auto technology_MEAN', 'PREV_NAME_SELLER_INDUSTRY_Clothing_MEAN', 'PREV_NAME_SELLER_INDUSTRY_Connectivity_MEAN', 'PREV_NAME_SELLER_INDUSTRY_Construction_MEAN', 'PREV_NAME_SELLER_INDUSTRY_Consumer electronics_MEAN', 'PREV_NAME_SELLER_INDUSTRY_Furniture_MEAN', 'PREV_NAME_SELLER_INDUSTRY_Industry_MEAN', 'PREV_NAME_SELLER_INDUSTRY_Jewelry_MEAN', 'PREV_NAME_SELLER_INDUSTRY_MLM partners_MEAN', 'PREV_NAME_SELLER_INDUSTRY_Tourism_MEAN', 'PREV_NAME_SELLER_INDUSTRY_XNA_MEAN', 'PREV_NAME_SELLER_INDUSTRY_nan_MEAN', 'PREV_NAME_YIELD_GROUP_XNA_MEAN', 'PREV_NAME_YIELD_GROUP_high_MEAN', 'PREV_NAME_YIELD_GROUP_low_action_MEAN', 'PREV_NAME_YIELD_GROUP_low_normal_MEAN', 'PREV_NAME_YIELD_GROUP_middle_MEAN', 'PREV_NAME_YIELD_GROUP_nan_MEAN', 'PREV_PRODUCT_COMBINATION_Card Street_MEAN', 'PREV_PRODUCT_COMBINATION_Card X-Sell_MEAN', 'PREV_PRODUCT_COMBINATION_Cash_MEAN', 'PREV_PRODUCT_COMBINATION_Cash Street: high_MEAN', 'PREV_PRODUCT_COMBINATION_Cash Street: low_MEAN', 'PREV_PRODUCT_COMBINATION_Cash Street: middle_MEAN', 'PREV_PRODUCT_COMBINATION_Cash X-Sell: high_MEAN', 'PREV_PRODUCT_COMBINATION_Cash X-Sell: low_MEAN', 'PREV_PRODUCT_COMBINATION_Cash X-Sell: middle_MEAN', 'PREV_PRODUCT_COMBINATION_POS household with interest_MEAN', 'PREV_PRODUCT_COMBINATION_POS household without interest_MEAN', 'PREV_PRODUCT_COMBINATION_POS industry with interest_MEAN', 'PREV_PRODUCT_COMBINATION_POS industry without interest_MEAN', 'PREV_PRODUCT_COMBINATION_POS mobile with interest_MEAN', 'PREV_PRODUCT_COMBINATION_POS mobile without interest_MEAN', 'PREV_PRODUCT_COMBINATION_POS other with interest_MEAN', 'PREV_PRODUCT_COMBINATION_POS others without interest_MEAN']\n",
      "Categorical Features: []\n"
     ]
    }
   ],
   "source": [
    "# Affichage des colonnes pour vérification\n",
    "print(data.columns)\n",
    "\n",
    "# Définition des features numériques et catégorielles\n",
    "numeric_features = [col for col in X.columns if X[col].dtype in ['int64', 'float64']]\n",
    "categorical_features = [col for col in X.columns if X[col].dtype == 'object']\n",
    "\n",
    "# Affichage des types de features\n",
    "print(\"Numeric Features:\", numeric_features)\n",
    "print(\"Categorical Features:\", categorical_features)"
   ]
  },
  {
   "cell_type": "markdown",
   "id": "4ced9d5b",
   "metadata": {},
   "source": [
    "### Création de pipelines et de transformations"
   ]
  },
  {
   "cell_type": "code",
   "execution_count": 15,
   "id": "611e28a3",
   "metadata": {},
   "outputs": [],
   "source": [
    "# Définition des transformations pour les données numériques et catégorielles\n",
    "numeric_transformer = Pipeline(steps=[\n",
    "    ('imputer', SimpleImputer(strategy='median')),\n",
    "    ('scaler', StandardScaler())])\n",
    "\n",
    "categorical_transformer = Pipeline(steps=[\n",
    "    ('imputer', SimpleImputer(strategy='most_frequent')),\n",
    "    ('onehot', OneHotEncoder(handle_unknown='ignore'))])\n",
    "\n",
    "preprocessor = ColumnTransformer(\n",
    "    transformers=[\n",
    "        ('num', numeric_transformer, numeric_features),\n",
    "        ('cat', categorical_transformer, categorical_features)])\n"
   ]
  },
  {
   "cell_type": "markdown",
   "id": "649c737b",
   "metadata": {},
   "source": [
    "# Entraînement et évaluation de XGBoost"
   ]
  },
  {
   "cell_type": "code",
   "execution_count": 16,
   "id": "b57d1a6f",
   "metadata": {
    "scrolled": false
   },
   "outputs": [
    {
     "data": {
      "text/plain": [
       "'\\n# Démarrage de la session MLFlow\\nmlflow.start_run(run_name=\"Optimized XGBoost with Fixed Thresholds\", experiment_id=313886723643097310)\\n\\n# Configuration de MLFlow pour le suivi des métriques\\ndef log_metrics(y_true, y_pred, y_proba, threshold):\\n    auc = roc_auc_score(y_true, y_proba[:, 1])\\n    business_score_value = business_score(y_true, (y_proba[:, 1] > threshold).astype(int))\\n    mlflow.log_metric(\"AUC\", auc)\\n    mlflow.log_metric(\"best_business_score\", business_score_value)\\n    mlflow.log_metric(\"Optimized Threshold\", threshold)\\n\\n# Définition de la pipeline avec XGBoost et FixedThresholdClassifier\\nmodel_xgb = XGBClassifier(n_estimators=100, max_depth=3, learning_rate=0.1, random_state=10)\\nfixed_threshold_classifier = FixedThresholdClassifier(estimator=model_xgb, threshold=0.5, response_method=\\'predict_proba\\')\\n\\nmodel_xgb_pipeline = make_pipeline_imblearn(\\n    preprocessor,\\n    SMOTE(sampling_strategy=0.5, random_state=42),\\n    fixed_threshold_classifier\\n)\\n\\n# Paramètres pour GridSearchCV\\nparam_grid = {\\n    \\'fixedthresholdclassifier__estimator__max_depth\\': [3, 5],\\n    \\'fixedthresholdclassifier__estimator__learning_rate\\': [0.1, 0.2],\\n    \\'fixedthresholdclassifier__estimator__n_estimators\\': [100, 200],\\n    \\'fixedthresholdclassifier__estimator__subsample\\': [0.7, 1],\\n    \\'fixedthresholdclassifier__threshold\\': [0.1, 0.5, 1.0]\\n}\\n\\n# Configuration de GridSearchCV avec une métrique personnalisée\\nbusiness_scorer = make_scorer(business_score, greater_is_better=True, needs_proba=False, cost_fn=10, cost_fp=1)\\ngrid_search = GridSearchCV(model_xgb_pipeline, param_grid, scoring=business_scorer, cv=3, verbose=2)\\ngrid_search.fit(X_train, y_train)\\n\\n# Récupération des résultats\\nbest_params = grid_search.best_params_\\nbest_score = grid_search.best_score_\\nbest_model = grid_search.best_estimator_\\ny_pred = best_model.predict(X_test)\\ny_proba = best_model.predict_proba(X_test)\\n\\n# Log des métriques\\nlog_metrics(y_test, y_pred, y_proba, best_params[\\'fixedthresholdclassifier__threshold\\'])\\nprint(\"Meilleurs paramètres : \", best_params)\\nprint(\"Meilleur score business : \", best_score)\\n\\n# Log dans MLFlow\\nmlflow.log_params(best_params)\\nmlflow.log_metric(\"best_business_score\", best_score)\\n\\n# Vérification et log des importances des caractéristiques\\nif hasattr(best_model.named_steps[\\'fixedthresholdclassifier\\'].estimator, \\'feature_importances_\\'):\\n    feature_importances = best_model.named_steps[\\'fixedthresholdclassifier\\'].estimator.feature_importances_\\n    feature_importance_df = pd.DataFrame({\\'Feature\\': feature_names, \\'Importance\\': feature_importances})\\n    feature_importance_df.sort_values(\\'Importance\\', ascending=False, inplace=True)\\n    print(feature_importance_df.head(20))\\n\\nmlflow.sklearn.log_model(best_model, \"model_v1\")\\nmlflow.end_run()\\n'"
      ]
     },
     "execution_count": 16,
     "metadata": {},
     "output_type": "execute_result"
    }
   ],
   "source": [
    "'''\n",
    "# Démarrage de la session MLFlow\n",
    "mlflow.start_run(run_name=\"Optimized XGBoost with Fixed Thresholds\", experiment_id=313886723643097310)\n",
    "\n",
    "# Configuration de MLFlow pour le suivi des métriques\n",
    "def log_metrics(y_true, y_pred, y_proba, threshold):\n",
    "    auc = roc_auc_score(y_true, y_proba[:, 1])\n",
    "    business_score_value = business_score(y_true, (y_proba[:, 1] > threshold).astype(int))\n",
    "    mlflow.log_metric(\"AUC\", auc)\n",
    "    mlflow.log_metric(\"best_business_score\", business_score_value)\n",
    "    mlflow.log_metric(\"Optimized Threshold\", threshold)\n",
    "\n",
    "# Définition de la pipeline avec XGBoost et FixedThresholdClassifier\n",
    "model_xgb = XGBClassifier(n_estimators=100, max_depth=3, learning_rate=0.1, random_state=10)\n",
    "fixed_threshold_classifier = FixedThresholdClassifier(estimator=model_xgb, threshold=0.5, response_method='predict_proba')\n",
    "\n",
    "model_xgb_pipeline = make_pipeline_imblearn(\n",
    "    preprocessor,\n",
    "    SMOTE(sampling_strategy=0.5, random_state=42),\n",
    "    fixed_threshold_classifier\n",
    ")\n",
    "\n",
    "# Paramètres pour GridSearchCV\n",
    "param_grid = {\n",
    "    'fixedthresholdclassifier__estimator__max_depth': [3, 5],\n",
    "    'fixedthresholdclassifier__estimator__learning_rate': [0.1, 0.2],\n",
    "    'fixedthresholdclassifier__estimator__n_estimators': [100, 200],\n",
    "    'fixedthresholdclassifier__estimator__subsample': [0.7, 1],\n",
    "    'fixedthresholdclassifier__threshold': [0.1, 0.5, 1.0]\n",
    "}\n",
    "\n",
    "# Configuration de GridSearchCV avec une métrique personnalisée\n",
    "business_scorer = make_scorer(business_score, greater_is_better=True, needs_proba=False, cost_fn=10, cost_fp=1)\n",
    "grid_search = GridSearchCV(model_xgb_pipeline, param_grid, scoring=business_scorer, cv=3, verbose=2)\n",
    "grid_search.fit(X_train, y_train)\n",
    "\n",
    "# Récupération des résultats\n",
    "best_params = grid_search.best_params_\n",
    "best_score = grid_search.best_score_\n",
    "best_model = grid_search.best_estimator_\n",
    "y_pred = best_model.predict(X_test)\n",
    "y_proba = best_model.predict_proba(X_test)\n",
    "\n",
    "# Log des métriques\n",
    "log_metrics(y_test, y_pred, y_proba, best_params['fixedthresholdclassifier__threshold'])\n",
    "print(\"Meilleurs paramètres : \", best_params)\n",
    "print(\"Meilleur score business : \", best_score)\n",
    "\n",
    "# Log dans MLFlow\n",
    "mlflow.log_params(best_params)\n",
    "mlflow.log_metric(\"best_business_score\", best_score)\n",
    "\n",
    "# Vérification et log des importances des caractéristiques\n",
    "if hasattr(best_model.named_steps['fixedthresholdclassifier'].estimator, 'feature_importances_'):\n",
    "    feature_importances = best_model.named_steps['fixedthresholdclassifier'].estimator.feature_importances_\n",
    "    feature_importance_df = pd.DataFrame({'Feature': feature_names, 'Importance': feature_importances})\n",
    "    feature_importance_df.sort_values('Importance', ascending=False, inplace=True)\n",
    "    print(feature_importance_df.head(20))\n",
    "\n",
    "mlflow.sklearn.log_model(best_model, \"model_v1\")\n",
    "mlflow.end_run()\n",
    "'''"
   ]
  },
  {
   "cell_type": "code",
   "execution_count": null,
   "id": "de1214d5",
   "metadata": {},
   "outputs": [
    {
     "name": "stderr",
     "output_type": "stream",
     "text": [
      "C:\\Users\\Farid\\anaconda3\\lib\\site-packages\\sklearn\\metrics\\_scorer.py:610: FutureWarning: The `needs_threshold` and `needs_proba` parameter are deprecated in version 1.4 and will be removed in 1.6. You can either let `response_method` be `None` or set it to `predict` to preserve the same behaviour.\n",
      "  warnings.warn(\n"
     ]
    },
    {
     "name": "stdout",
     "output_type": "stream",
     "text": [
      "Fitting 3 folds for each of 48 candidates, totalling 144 fits\n",
      "[CV] END classifier__estimator__learning_rate=0.1, classifier__estimator__max_depth=3, classifier__estimator__n_estimators=100, classifier__estimator__subsample=0.7, classifier__threshold=0.1; total time=  54.7s\n",
      "[CV] END classifier__estimator__learning_rate=0.1, classifier__estimator__max_depth=3, classifier__estimator__n_estimators=100, classifier__estimator__subsample=0.7, classifier__threshold=0.1; total time=  53.0s\n",
      "[CV] END classifier__estimator__learning_rate=0.1, classifier__estimator__max_depth=3, classifier__estimator__n_estimators=100, classifier__estimator__subsample=0.7, classifier__threshold=0.1; total time=  46.3s\n",
      "[CV] END classifier__estimator__learning_rate=0.1, classifier__estimator__max_depth=3, classifier__estimator__n_estimators=100, classifier__estimator__subsample=0.7, classifier__threshold=0.5; total time=  45.5s\n",
      "[CV] END classifier__estimator__learning_rate=0.1, classifier__estimator__max_depth=3, classifier__estimator__n_estimators=100, classifier__estimator__subsample=0.7, classifier__threshold=0.5; total time=  45.4s\n",
      "[CV] END classifier__estimator__learning_rate=0.1, classifier__estimator__max_depth=3, classifier__estimator__n_estimators=100, classifier__estimator__subsample=0.7, classifier__threshold=0.5; total time=  44.3s\n",
      "[CV] END classifier__estimator__learning_rate=0.1, classifier__estimator__max_depth=3, classifier__estimator__n_estimators=100, classifier__estimator__subsample=0.7, classifier__threshold=1.0; total time=  39.6s\n"
     ]
    }
   ],
   "source": [
    "# Démarrage de la session MLFlow\n",
    "mlflow.start_run(run_name=\"Optimized XGBoost with class_weight and Fixed Thresholds\", experiment_id=313886723643097310)\n",
    "\n",
    "# Calcul des poids des classes\n",
    "class_weights = class_weight.compute_class_weight('balanced', classes=np.unique(y_train), y=y_train)\n",
    "weight = class_weights[1] / class_weights[0]\n",
    "\n",
    "# Définition de la pipeline avec XGBoost et FixedThresholdClassifier\n",
    "model_xgb = XGBClassifier(n_estimators=100, max_depth=3, learning_rate=0.1, scale_pos_weight=weight, random_state=10)\n",
    "fixed_threshold_classifier = FixedThresholdClassifier(estimator=model_xgb, threshold=0.5, response_method='predict_proba')\n",
    "\n",
    "model_xgb_pipeline = Pipeline([\n",
    "    ('preprocessor', preprocessor),\n",
    "    ('classifier', fixed_threshold_classifier)\n",
    "])\n",
    "\n",
    "# Paramètres pour GridSearchCV\n",
    "param_grid = {\n",
    "    'classifier__estimator__max_depth': [3, 5],\n",
    "    'classifier__estimator__learning_rate': [0.1, 0.2],\n",
    "    'classifier__estimator__n_estimators': [100, 200],\n",
    "    'classifier__estimator__subsample': [0.7, 1],\n",
    "    'classifier__threshold': [0.1, 0.5, 1.0]\n",
    "}\n",
    "\n",
    "# Configuration de GridSearchCV avec une métrique personnalisée\n",
    "business_scorer = make_scorer(business_score, greater_is_better=True, needs_proba=False)\n",
    "grid_search = GridSearchCV(model_xgb_pipeline, param_grid, scoring=business_scorer, cv=3, verbose=2)\n",
    "grid_search.fit(X_train, y_train)\n",
    "\n",
    "# Récupération et affichage des résultats de validation croisée\n",
    "cv_results = grid_search.cv_results_\n",
    "best_params = grid_search.best_params_\n",
    "best_score = grid_search.best_score_\n",
    "print(\"CV Results: \", cv_results)\n",
    "print(\"Meilleurs paramètres : \", best_params)\n",
    "print(\"Meilleur score business : \", best_score)\n",
    "\n",
    "# Enregistrement dans MLFlow\n",
    "mlflow.log_params(best_params)\n",
    "mlflow.log_metric(\"best_business_score\", best_score)\n",
    "\n",
    "# Vérification et log des importances des caractéristiques si disponibles\n",
    "best_model = grid_search.best_estimator_\n",
    "if hasattr(best_model.named_steps['classifier'].estimator, 'feature_importances_'):\n",
    "    feature_importances = best_model.named_steps['classifier'].estimator.feature_importances_\n",
    "    feature_names = [name for name, _ in model_xgb_pipeline.steps[0][1].transformers_[0]]\n",
    "    feature_importance_df = pd.DataFrame({'Feature': feature_names, 'Importance': feature_importances})\n",
    "    feature_importance_df.sort_values('Importance', ascending=False, inplace=True)\n",
    "    print(feature_importance_df.head(20))\n",
    "\n",
    "mlflow.sklearn.log_model(best_model, \"model_v2\")\n",
    "mlflow.end_run()"
   ]
  },
  {
   "cell_type": "code",
   "execution_count": null,
   "id": "c5831adc",
   "metadata": {},
   "outputs": [],
   "source": [
    "dddd"
   ]
  },
  {
   "cell_type": "markdown",
   "id": "a6dca548",
   "metadata": {},
   "source": [
    "## Importance des caractéristiques\n",
    "Extraction de l'importance des caractéristiques après l'entraînement des modèles :\n",
    "* **Ajustement du préprocesseur :** J'ai ajusté le preprocessor sur les données d'entraînement, ce qui est essentiel pour préparer les features avant de récupérer leur nom.\n",
    "\n",
    "* **Gestion des features catégorielles :** J'ai conditionné l'ajustement des caractéristiques catégorielles et la récupération de leurs noms. C'est utile si la liste des caractéristiques catégorielles peut varier ou être vide.\n",
    "\n",
    "* **Extraction et affichage des importances des caractéristiques :** Après avoir entrainé le modèle, j'ai extrait l'importance de chaque caractéristique et affiché les plus importantes. Cela nous aide à identifier quelles variables ont le plus d'impact sur les prédictions du modèle."
   ]
  },
  {
   "cell_type": "code",
   "execution_count": null,
   "id": "4a77d83e",
   "metadata": {},
   "outputs": [],
   "source": [
    "# Assurez-vous que le préprocesseur est ajusté\n",
    "preprocessor.fit(X_train)"
   ]
  },
  {
   "cell_type": "code",
   "execution_count": null,
   "id": "157d8268",
   "metadata": {},
   "outputs": [],
   "source": [
    "# Récupération des noms des caractéristiques\n",
    "feature_names = list(preprocessor.transformers_[0][1].get_feature_names_out())\n",
    "if categorical_features:\n",
    "    feature_names += list(preprocessor.named_transformers_['cat'].named_steps['onehot'].get_feature_names_out(categorical_features))"
   ]
  },
  {
   "cell_type": "code",
   "execution_count": null,
   "id": "8b1cfe87",
   "metadata": {},
   "outputs": [],
   "source": [
    "# Récupération des importances des caractéristiques du modèle entraîné\n",
    "feature_importances = grid_search.best_estimator_.named_steps['fixedthresholdclassifier'].estimator.feature_importances_\n",
    "\n",
    "# Création et affichage du DataFrame\n",
    "feature_importance_df = pd.DataFrame({'Feature': feature_names, 'Importance': feature_importances})\n",
    "feature_importance_df.sort_values('Importance', ascending=False, inplace=True)\n",
    "print(feature_importance_df.head(20))"
   ]
  },
  {
   "cell_type": "markdown",
   "id": "18e268cc",
   "metadata": {},
   "source": [
    "## Outils d'interprétation des modèles\n",
    "Utilisation de SHAP pour l'interprétation des prédictions du modèle XGBoost :"
   ]
  },
  {
   "cell_type": "code",
   "execution_count": null,
   "id": "6c21f16d",
   "metadata": {},
   "outputs": [],
   "source": [
    "import shap\n",
    "\n",
    "explainer = shap.Explainer(best_model.named_steps['fixedthresholdclassifier'].estimator, X_train)\n",
    "shap_values = explainer(X_train)"
   ]
  },
  {
   "cell_type": "code",
   "execution_count": null,
   "id": "808544b1",
   "metadata": {},
   "outputs": [],
   "source": [
    "shap.summary_plot(shap_values, X_train, feature_names=feature_names)"
   ]
  },
  {
   "cell_type": "code",
   "execution_count": null,
   "id": "072a501b",
   "metadata": {},
   "outputs": [],
   "source": []
  },
  {
   "cell_type": "code",
   "execution_count": null,
   "id": "81dba53f",
   "metadata": {},
   "outputs": [],
   "source": [
    "import shap\n",
    "\n",
    "# Calcul des valeurs SHAP\n",
    "explainer = shap.TreeExplainer(grid_search.best_estimator_.named_steps['fixedthresholdclassifier'])\n",
    "shap_values = explainer.shap_values(X_train)\n",
    "\n",
    "# Visualisation\n",
    "shap.summary_plot(shap_values, X_train, feature_names=feature_names)"
   ]
  },
  {
   "cell_type": "code",
   "execution_count": null,
   "id": "857d9f4b",
   "metadata": {},
   "outputs": [],
   "source": [
    "# Création d'un objet Explanation pour les données de test\n",
    "explainer = shap.Explainer(grid_search.best_estimator_.named_steps['xgbclassifier'])\n",
    "shap_values_test = explainer(X_test)\n",
    "\n",
    "# Visualisation pour une instance spécifique des données de test\n",
    "index = 0  # Index de l'instance à expliquer\n",
    "shap.force_plot(explainer.expected_value, shap_values_test[index].values, X_test.iloc[index])\n",
    "\n",
    "# Visualisation de l'importance globale des caractéristiques\n",
    "shap.summary_plot(shap_values_test.values, X_test, plot_type=\"bar\")\n",
    "\n",
    "# Diagramme détaillé pour une instance spécifique\n",
    "shap.waterfall_plot(shap_values_test[index])"
   ]
  },
  {
   "cell_type": "code",
   "execution_count": null,
   "id": "ab67d32f",
   "metadata": {},
   "outputs": [],
   "source": []
  }
 ],
 "metadata": {
  "kernelspec": {
   "display_name": "Python 3 (ipykernel)",
   "language": "python",
   "name": "python3"
  },
  "language_info": {
   "codemirror_mode": {
    "name": "ipython",
    "version": 3
   },
   "file_extension": ".py",
   "mimetype": "text/x-python",
   "name": "python",
   "nbconvert_exporter": "python",
   "pygments_lexer": "ipython3",
   "version": "3.9.13"
  }
 },
 "nbformat": 4,
 "nbformat_minor": 5
}
