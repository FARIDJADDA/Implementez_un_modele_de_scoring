{
 "cells": [
  {
   "cell_type": "markdown",
   "id": "20b7c0c4",
   "metadata": {},
   "source": [
    "# Envoi d'une requête POST à l'API dans le cloud"
   ]
  },
  {
   "cell_type": "code",
   "execution_count": 1,
   "id": "433ad00c",
   "metadata": {},
   "outputs": [
    {
     "name": "stdout",
     "output_type": "stream",
     "text": [
      "Erreur 404: <!doctype html>\n",
      "<html lang=en>\n",
      "<title>404 Not Found</title>\n",
      "<h1>Not Found</h1>\n",
      "<p>The requested URL was not found on the server. If you entered the URL manually please check your spelling and try again.</p>\n",
      "\n"
     ]
    }
   ],
   "source": [
    "import requests\n",
    "import numpy as np\n",
    "import pandas as pd\n",
    "from joblib import load\n",
    "\n",
    "# Charger le preprocessor\n",
    "path_preprocessor = '../models/preprocessor.joblib'\n",
    "preprocessor = load(path_preprocessor)\n",
    "\n",
    "# Charger les noms des caractéristiques\n",
    "with open(\"../models/feature_names.txt\", \"r\") as f:\n",
    "    feature_names = f.read().splitlines()\n",
    "\n",
    "# Charger les données de test\n",
    "data_test = pd.read_csv(\"../data/processed/processed_data_test_sample.csv\")\n",
    "\n",
    "# Exclure les colonnes inutiles\n",
    "data_test = data_test.loc[:, ~data_test.columns.str.contains('^Unnamed')]\n",
    "\n",
    "# Réorganiser les colonnes pour qu'elles correspondent à celles utilisées lors de l'entraînement\n",
    "data_test = data_test[feature_names]\n",
    "\n",
    "# Appliquer le pipeline de prétraitement\n",
    "data_test_preprocessed = preprocessor.transform(data_test)\n",
    "\n",
    "# Convertir les données en dictionnaire avant l'envoi\n",
    "data_dict = pd.DataFrame(data_test_preprocessed, columns=feature_names).to_dict(orient='records')\n",
    "\n",
    "# URL de l'API\n",
    "url = \"https://app-flask-scoring.azurewebsites.net/predict\"\n",
    "\n",
    "# Envoyer la requête POST\n",
    "response = requests.post(url, json=data_dict)\n",
    "\n",
    "# Afficher la réponse\n",
    "if response.status_code == 200:\n",
    "    print(\"Réponse de l'API:\", response.json())\n",
    "else:\n",
    "    print(f\"Erreur {response.status_code}: {response.text}\")\n"
   ]
  }
 ],
 "metadata": {
  "kernelspec": {
   "display_name": "Python 3 (ipykernel)",
   "language": "python",
   "name": "python3"
  },
  "language_info": {
   "codemirror_mode": {
    "name": "ipython",
    "version": 3
   },
   "file_extension": ".py",
   "mimetype": "text/x-python",
   "name": "python",
   "nbconvert_exporter": "python",
   "pygments_lexer": "ipython3",
   "version": "3.9.13"
  }
 },
 "nbformat": 4,
 "nbformat_minor": 5
}
