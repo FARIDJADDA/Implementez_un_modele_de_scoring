{
 "cells": [
  {
   "cell_type": "code",
   "execution_count": 1,
   "id": "1f3ead3c",
   "metadata": {
    "scrolled": true
   },
   "outputs": [
    {
     "name": "stdout",
     "output_type": "stream",
     "text": [
      "Requirement already satisfied: imblearn in c:\\users\\farid\\anaconda3\\lib\\site-packages (0.0)\n",
      "Requirement already satisfied: imbalanced-learn in c:\\users\\farid\\anaconda3\\lib\\site-packages (from imblearn) (0.12.3)\n",
      "Requirement already satisfied: scikit-learn>=1.0.2 in c:\\users\\farid\\anaconda3\\lib\\site-packages (from imbalanced-learn->imblearn) (1.4.2)\n",
      "Requirement already satisfied: threadpoolctl>=2.0.0 in c:\\users\\farid\\anaconda3\\lib\\site-packages (from imbalanced-learn->imblearn) (3.5.0)\n",
      "Requirement already satisfied: joblib>=1.1.1 in c:\\users\\farid\\anaconda3\\lib\\site-packages (from imbalanced-learn->imblearn) (1.4.2)\n",
      "Requirement already satisfied: scipy>=1.5.0 in c:\\users\\farid\\anaconda3\\lib\\site-packages (from imbalanced-learn->imblearn) (1.9.1)\n",
      "Requirement already satisfied: numpy>=1.17.3 in c:\\users\\farid\\anaconda3\\lib\\site-packages (from imbalanced-learn->imblearn) (1.24.4)\n",
      "Requirement already satisfied: xgboost in c:\\users\\farid\\anaconda3\\lib\\site-packages (2.0.3)\n",
      "Requirement already satisfied: numpy in c:\\users\\farid\\anaconda3\\lib\\site-packages (from xgboost) (1.24.4)\n",
      "Requirement already satisfied: scipy in c:\\users\\farid\\anaconda3\\lib\\site-packages (from xgboost) (1.9.1)\n"
     ]
    }
   ],
   "source": [
    "!pip install imblearn\n",
    "!pip install xgboost\n",
    "!pip install numba\n",
    "!pip install shap"
   ]
  },
  {
   "cell_type": "code",
   "execution_count": 49,
   "id": "43e98330",
   "metadata": {},
   "outputs": [
    {
     "name": "stdout",
     "output_type": "stream",
     "text": [
      "Requirement already satisfied: numba in c:\\users\\farid\\appdata\\roaming\\python\\python39\\site-packages (0.59.1)\n",
      "Requirement already satisfied: shap in c:\\users\\farid\\appdata\\roaming\\python\\python39\\site-packages (0.45.1)\n",
      "Requirement already satisfied: numpy<1.27,>=1.22 in c:\\users\\farid\\anaconda3\\lib\\site-packages (from numba) (1.24.4)\n",
      "Requirement already satisfied: llvmlite<0.43,>=0.42.0dev0 in c:\\users\\farid\\appdata\\roaming\\python\\python39\\site-packages (from numba) (0.42.0)\n",
      "Requirement already satisfied: cloudpickle in c:\\users\\farid\\anaconda3\\lib\\site-packages (from shap) (2.0.0)\n",
      "Requirement already satisfied: slicer==0.0.8 in c:\\users\\farid\\anaconda3\\lib\\site-packages (from shap) (0.0.8)\n",
      "Requirement already satisfied: packaging>20.9 in c:\\users\\farid\\anaconda3\\lib\\site-packages (from shap) (21.3)\n",
      "Requirement already satisfied: scikit-learn in c:\\users\\farid\\anaconda3\\lib\\site-packages (from shap) (1.4.2)\n",
      "Requirement already satisfied: tqdm>=4.27.0 in c:\\users\\farid\\anaconda3\\lib\\site-packages (from shap) (4.64.1)\n",
      "Requirement already satisfied: pandas in c:\\users\\farid\\anaconda3\\lib\\site-packages (from shap) (1.4.4)\n",
      "Requirement already satisfied: scipy in c:\\users\\farid\\anaconda3\\lib\\site-packages (from shap) (1.9.1)\n",
      "Requirement already satisfied: pyparsing!=3.0.5,>=2.0.2 in c:\\users\\farid\\anaconda3\\lib\\site-packages (from packaging>20.9->shap) (3.0.9)\n",
      "Requirement already satisfied: colorama in c:\\users\\farid\\anaconda3\\lib\\site-packages (from tqdm>=4.27.0->shap) (0.4.5)\n",
      "Requirement already satisfied: pytz>=2020.1 in c:\\users\\farid\\anaconda3\\lib\\site-packages (from pandas->shap) (2022.1)\n",
      "Requirement already satisfied: python-dateutil>=2.8.1 in c:\\users\\farid\\anaconda3\\lib\\site-packages (from pandas->shap) (2.8.2)\n",
      "Requirement already satisfied: joblib>=1.2.0 in c:\\users\\farid\\anaconda3\\lib\\site-packages (from scikit-learn->shap) (1.4.2)\n",
      "Requirement already satisfied: threadpoolctl>=2.0.0 in c:\\users\\farid\\anaconda3\\lib\\site-packages (from scikit-learn->shap) (3.5.0)\n",
      "Requirement already satisfied: six>=1.5 in c:\\users\\farid\\anaconda3\\lib\\site-packages (from python-dateutil>=2.8.1->pandas->shap) (1.16.0)\n"
     ]
    }
   ],
   "source": [
    "!pip install --user numba shap"
   ]
  },
  {
   "cell_type": "markdown",
   "id": "2d0cc6a5",
   "metadata": {},
   "source": [
    "# Projet de Modèle de Scoring\n",
    "\n",
    "## Introduction\n",
    "Ce projet vise à développer un modèle de scoring de crédit qui prédit la probabilité qu'un client rembourse son crédit. Ce modèle aidera la société financière à prendre des décisions éclairées sur l'octroi de prêts.\n",
    "\n",
    "\n",
    "## Importation des Libraries"
   ]
  },
  {
   "cell_type": "code",
   "execution_count": 18,
   "id": "38b3d1f3",
   "metadata": {},
   "outputs": [],
   "source": [
    "import os\n",
    "import numpy as np\n",
    "import pandas as pd\n",
    "import matplotlib.pyplot as plt\n",
    "import seaborn as sns\n",
    "from sklearn.model_selection import train_test_split, GridSearchCV\n",
    "from sklearn.metrics import roc_auc_score, roc_curve, classification_report, confusion_matrix\n",
    "from sklearn.impute import SimpleImputer\n",
    "from sklearn.preprocessing import StandardScaler, OneHotEncoder\n",
    "from sklearn.ensemble import RandomForestClassifier\n",
    "from sklearn.pipeline import Pipeline\n",
    "from sklearn.compose import ColumnTransformer\n",
    "from imblearn.over_sampling import SMOTE\n",
    "from imblearn.pipeline import make_pipeline as make_pipeline_imblearn\n",
    "from imblearn.under_sampling import RandomUnderSampler\n",
    "import mlflow\n",
    "import mlflow.sklearn\n",
    "from collections import Counter\n",
    "from xgboost import XGBClassifier"
   ]
  },
  {
   "cell_type": "markdown",
   "id": "4f002b88",
   "metadata": {},
   "source": [
    "# Configuration de MLFlow"
   ]
  },
  {
   "cell_type": "code",
   "execution_count": 3,
   "id": "5d8d1eec",
   "metadata": {},
   "outputs": [
    {
     "name": "stdout",
     "output_type": "stream",
     "text": [
      "../mlruns/\n"
     ]
    }
   ],
   "source": [
    "import mlflow\n",
    "from mlflow import log_metric, log_param, log_artifacts\n",
    "\n",
    "# Définir l'URI de suivi de MLFlow\n",
    "path_mlruns = '../mlruns/'\n",
    "mlflow.set_tracking_uri(path_mlruns)\n",
    "\n",
    "# Affiche le URI de tracking actuel\n",
    "print(mlflow.get_tracking_uri())"
   ]
  },
  {
   "cell_type": "code",
   "execution_count": 4,
   "id": "0d144762",
   "metadata": {},
   "outputs": [
    {
     "data": {
      "text/plain": [
       "'\\n# Créer une nouvelle expérience et obtenir son ID\\nexperiment_id = mlflow.create_experiment(\"model_scoring\")\\nprint(f\"ID de la nouvelle expérience : {experiment_id}\")\\n'"
      ]
     },
     "execution_count": 4,
     "metadata": {},
     "output_type": "execute_result"
    }
   ],
   "source": [
    "'''\n",
    "# Créer une nouvelle expérience et obtenir son ID\n",
    "experiment_id = mlflow.create_experiment(\"model_scoring\")\n",
    "print(f\"ID de la nouvelle expérience : {experiment_id}\")\n",
    "'''"
   ]
  },
  {
   "cell_type": "markdown",
   "id": "e714e7ad",
   "metadata": {},
   "source": [
    "## Chargement des Données"
   ]
  },
  {
   "cell_type": "code",
   "execution_count": 5,
   "id": "aa555c40",
   "metadata": {},
   "outputs": [],
   "source": [
    "path_data_processed = \"../data/processed/\"\n",
    "data = pd.read_csv(path_data_processed + 'processed_data_train.csv', index_col=[0])\n",
    "data_test = pd.read_csv(path_data_processed + 'processed_data_test.csv', index_col=[0])"
   ]
  },
  {
   "cell_type": "markdown",
   "id": "0a3b489b",
   "metadata": {},
   "source": [
    "## Séparation des données en ensembles d'entraînement et de test"
   ]
  },
  {
   "cell_type": "code",
   "execution_count": 6,
   "id": "29606503",
   "metadata": {},
   "outputs": [],
   "source": [
    "X = data.drop('TARGET', axis=1)\n",
    "y = data['TARGET']\n",
    "X_train, X_test, y_train, y_test = train_test_split(X, y, test_size=0.2, random_state=10)"
   ]
  },
  {
   "cell_type": "markdown",
   "id": "50a01216",
   "metadata": {},
   "source": [
    "## Définition des Fonctions Utiles"
   ]
  },
  {
   "cell_type": "code",
   "execution_count": 7,
   "id": "55afab07",
   "metadata": {},
   "outputs": [],
   "source": [
    "def plot_roc_curve(y_test, y_scores, title=\"ROC Curve\"):\n",
    "    fpr, tpr, _ = roc_curve(y_test, y_scores)\n",
    "    auc = roc_auc_score(y_test, y_scores)\n",
    "    plt.figure(figsize=(8, 6))\n",
    "    plt.plot(fpr, tpr, label=f'AUC = {auc:.2f}')\n",
    "    plt.plot([0, 1], [0, 1], linestyle='--')\n",
    "    plt.xlabel('False Positive Rate')\n",
    "    plt.ylabel('True Positive Rate')\n",
    "    plt.title(title)\n",
    "    plt.legend()\n",
    "    plt.show()\n",
    "    return auc"
   ]
  },
  {
   "cell_type": "code",
   "execution_count": 8,
   "id": "f6b81dc8",
   "metadata": {},
   "outputs": [],
   "source": [
    "def business_cost(y_true, y_pred, cost_fn=10, cost_fp=1):\n",
    "    tn, fp, fn, tp = confusion_matrix(y_true, y_pred).ravel()\n",
    "    return -(cost_fn * fn + cost_fp * fp)  # Minimize business cost"
   ]
  },
  {
   "cell_type": "code",
   "execution_count": 9,
   "id": "e868bdd9",
   "metadata": {},
   "outputs": [],
   "source": [
    "def business_score(y_true, y_pred, cost_fn=10, cost_fp=1):\n",
    "    \"\"\"\n",
    "    Calculate the business score for predictions.\n",
    "\n",
    "    Parameters:\n",
    "    - y_true: array, true labels.\n",
    "    - y_pred: array, predicted labels.\n",
    "    - cost_fn: int, cost associated with a false negative.\n",
    "    - cost_fp: int, cost associated with a false, positive.\n",
    "\n",
    "    Returns:\n",
    "    - float, normalized business score between 0 and 1.\n",
    "    \"\"\"\n",
    "    tn, fp, fn, tp = confusion_matrix(y_true, y_pred).ravel()\n",
    "    total_cost = cost_fn * fn + cost_fp * fp\n",
    "    max_cost = cost_fn * (fn + tp) + cost_fp * (fp + tn)  # worst case scenario: all predictions are wrong\n",
    "    \n",
    "    # Normalize and subtract from 1 to flip the scale: higher is better\n",
    "    return 1 - (total_cost / max_cost)"
   ]
  },
  {
   "cell_type": "markdown",
   "id": "259fc67d",
   "metadata": {},
   "source": [
    "## Prétraitement des Données\n",
    "### Vérification des Valeurs Manquantes"
   ]
  },
  {
   "cell_type": "code",
   "execution_count": 10,
   "id": "10181f9d",
   "metadata": {},
   "outputs": [
    {
     "name": "stdout",
     "output_type": "stream",
     "text": [
      "Missing values: 36088183 (19.62%)\n"
     ]
    }
   ],
   "source": [
    "print(f\"Missing values: {data.isna().sum().sum()} ({data.isna().sum().sum()/data.size:.2%})\")"
   ]
  },
  {
   "cell_type": "code",
   "execution_count": 11,
   "id": "2fd8870d",
   "metadata": {
    "scrolled": false
   },
   "outputs": [
    {
     "name": "stdout",
     "output_type": "stream",
     "text": [
      "Index(['TARGET', 'NAME_CONTRACT_TYPE', 'CODE_GENDER', 'FLAG_OWN_CAR',\n",
      "       'FLAG_OWN_REALTY', 'CNT_CHILDREN', 'AMT_INCOME_TOTAL', 'AMT_CREDIT',\n",
      "       'AMT_ANNUITY', 'REGION_POPULATION_RELATIVE',\n",
      "       ...\n",
      "       'PREV_PRODUCT_COMBINATION_Cash X-Sell: low_MEAN',\n",
      "       'PREV_PRODUCT_COMBINATION_Cash X-Sell: middle_MEAN',\n",
      "       'PREV_PRODUCT_COMBINATION_POS household with interest_MEAN',\n",
      "       'PREV_PRODUCT_COMBINATION_POS household without interest_MEAN',\n",
      "       'PREV_PRODUCT_COMBINATION_POS industry with interest_MEAN',\n",
      "       'PREV_PRODUCT_COMBINATION_POS industry without interest_MEAN',\n",
      "       'PREV_PRODUCT_COMBINATION_POS mobile with interest_MEAN',\n",
      "       'PREV_PRODUCT_COMBINATION_POS mobile without interest_MEAN',\n",
      "       'PREV_PRODUCT_COMBINATION_POS other with interest_MEAN',\n",
      "       'PREV_PRODUCT_COMBINATION_POS others without interest_MEAN'],\n",
      "      dtype='object', length=598)\n",
      "Numeric Features: ['NAME_CONTRACT_TYPE', 'CODE_GENDER', 'FLAG_OWN_CAR', 'FLAG_OWN_REALTY', 'CNT_CHILDREN', 'AMT_INCOME_TOTAL', 'AMT_CREDIT', 'AMT_ANNUITY', 'REGION_POPULATION_RELATIVE', 'DAYS_BIRTH', 'DAYS_EMPLOYED', 'DAYS_REGISTRATION', 'DAYS_ID_PUBLISH', 'OWN_CAR_AGE', 'FLAG_MOBIL', 'FLAG_EMP_PHONE', 'FLAG_WORK_PHONE', 'FLAG_CONT_MOBILE', 'FLAG_PHONE', 'FLAG_EMAIL', 'CNT_FAM_MEMBERS', 'REGION_RATING_CLIENT', 'REGION_RATING_CLIENT_W_CITY', 'HOUR_APPR_PROCESS_START', 'REG_REGION_NOT_LIVE_REGION', 'REG_REGION_NOT_WORK_REGION', 'LIVE_REGION_NOT_WORK_REGION', 'REG_CITY_NOT_LIVE_CITY', 'REG_CITY_NOT_WORK_CITY', 'LIVE_CITY_NOT_WORK_CITY', 'EXT_SOURCE_1', 'EXT_SOURCE_2', 'EXT_SOURCE_3', 'APARTMENTS_AVG', 'BASEMENTAREA_AVG', 'YEARS_BEGINEXPLUATATION_AVG', 'YEARS_BUILD_AVG', 'COMMONAREA_AVG', 'ELEVATORS_AVG', 'ENTRANCES_AVG', 'FLOORSMAX_AVG', 'FLOORSMIN_AVG', 'LANDAREA_AVG', 'LIVINGAPARTMENTS_AVG', 'LIVINGAREA_AVG', 'NONLIVINGAPARTMENTS_AVG', 'NONLIVINGAREA_AVG', 'APARTMENTS_MODE', 'BASEMENTAREA_MODE', 'YEARS_BEGINEXPLUATATION_MODE', 'COMMONAREA_MODE', 'ELEVATORS_MODE', 'ENTRANCES_MODE', 'LANDAREA_MODE', 'LIVINGAPARTMENTS_MODE', 'LIVINGAREA_MODE', 'NONLIVINGAPARTMENTS_MODE', 'NONLIVINGAREA_MODE', 'TOTALAREA_MODE', 'EMERGENCYSTATE_MODE', 'OBS_30_CNT_SOCIAL_CIRCLE', 'DEF_30_CNT_SOCIAL_CIRCLE', 'DEF_60_CNT_SOCIAL_CIRCLE', 'DAYS_LAST_PHONE_CHANGE', 'FLAG_DOCUMENT_2', 'FLAG_DOCUMENT_3', 'FLAG_DOCUMENT_4', 'FLAG_DOCUMENT_5', 'FLAG_DOCUMENT_6', 'FLAG_DOCUMENT_7', 'FLAG_DOCUMENT_8', 'FLAG_DOCUMENT_9', 'FLAG_DOCUMENT_10', 'FLAG_DOCUMENT_11', 'FLAG_DOCUMENT_12', 'FLAG_DOCUMENT_13', 'FLAG_DOCUMENT_14', 'FLAG_DOCUMENT_15', 'FLAG_DOCUMENT_16', 'FLAG_DOCUMENT_17', 'FLAG_DOCUMENT_18', 'FLAG_DOCUMENT_19', 'FLAG_DOCUMENT_20', 'FLAG_DOCUMENT_21', 'AMT_REQ_CREDIT_BUREAU_HOUR', 'AMT_REQ_CREDIT_BUREAU_DAY', 'AMT_REQ_CREDIT_BUREAU_WEEK', 'AMT_REQ_CREDIT_BUREAU_MON', 'AMT_REQ_CREDIT_BUREAU_QRT', 'AMT_REQ_CREDIT_BUREAU_YEAR', 'DAYS_EMPLOYED_PERC', 'INCOME_CREDIT_PERC', 'INCOME_PER_PERSON', 'ANNUITY_INCOME_PERC', 'PAYMENT_RATE', 'NAME_TYPE_SUITE_Children', 'NAME_TYPE_SUITE_Family', 'NAME_TYPE_SUITE_Group of people', 'NAME_TYPE_SUITE_Other_A', 'NAME_TYPE_SUITE_Other_B', 'NAME_TYPE_SUITE_Spouse, partner', 'NAME_TYPE_SUITE_Unaccompanied', 'NAME_INCOME_TYPE_Businessman', 'NAME_INCOME_TYPE_Commercial associate', 'NAME_INCOME_TYPE_Maternity leave', 'NAME_INCOME_TYPE_State servant', 'NAME_INCOME_TYPE_Student', 'NAME_INCOME_TYPE_Unemployed', 'NAME_INCOME_TYPE_Working', 'NAME_EDUCATION_TYPE_Academic degree', 'NAME_EDUCATION_TYPE_Higher education', 'NAME_EDUCATION_TYPE_Incomplete higher', 'NAME_EDUCATION_TYPE_Lower secondary', 'NAME_EDUCATION_TYPE_Secondary / secondary special', 'NAME_FAMILY_STATUS_Civil marriage', 'NAME_FAMILY_STATUS_Married', 'NAME_FAMILY_STATUS_Separated', 'NAME_FAMILY_STATUS_Single / not married', 'NAME_FAMILY_STATUS_Unknown', 'NAME_FAMILY_STATUS_Widow', 'NAME_HOUSING_TYPE_Co-op apartment', 'NAME_HOUSING_TYPE_House / apartment', 'NAME_HOUSING_TYPE_Municipal apartment', 'NAME_HOUSING_TYPE_Office apartment', 'NAME_HOUSING_TYPE_Rented apartment', 'NAME_HOUSING_TYPE_With parents', 'OCCUPATION_TYPE_Accountants', 'OCCUPATION_TYPE_Cleaning staff', 'OCCUPATION_TYPE_Cooking staff', 'OCCUPATION_TYPE_Core staff', 'OCCUPATION_TYPE_Drivers', 'OCCUPATION_TYPE_HR staff', 'OCCUPATION_TYPE_High skill tech staff', 'OCCUPATION_TYPE_IT staff', 'OCCUPATION_TYPE_Laborers', 'OCCUPATION_TYPE_Low-skill Laborers', 'OCCUPATION_TYPE_Managers', 'OCCUPATION_TYPE_Medicine staff', 'OCCUPATION_TYPE_Private service staff', 'OCCUPATION_TYPE_Realty agents', 'OCCUPATION_TYPE_Sales staff', 'OCCUPATION_TYPE_Secretaries', 'OCCUPATION_TYPE_Security staff', 'OCCUPATION_TYPE_Waiters/barmen staff', 'WEEKDAY_APPR_PROCESS_START_FRIDAY', 'WEEKDAY_APPR_PROCESS_START_MONDAY', 'WEEKDAY_APPR_PROCESS_START_SATURDAY', 'WEEKDAY_APPR_PROCESS_START_SUNDAY', 'WEEKDAY_APPR_PROCESS_START_THURSDAY', 'WEEKDAY_APPR_PROCESS_START_TUESDAY', 'WEEKDAY_APPR_PROCESS_START_WEDNESDAY', 'ORGANIZATION_TYPE_Advertising', 'ORGANIZATION_TYPE_Agriculture', 'ORGANIZATION_TYPE_Bank', 'ORGANIZATION_TYPE_Business Entity Type 1', 'ORGANIZATION_TYPE_Business Entity Type 2', 'ORGANIZATION_TYPE_Business Entity Type 3', 'ORGANIZATION_TYPE_Cleaning', 'ORGANIZATION_TYPE_Construction', 'ORGANIZATION_TYPE_Culture', 'ORGANIZATION_TYPE_Electricity', 'ORGANIZATION_TYPE_Emergency', 'ORGANIZATION_TYPE_Government', 'ORGANIZATION_TYPE_Hotel', 'ORGANIZATION_TYPE_Housing', 'ORGANIZATION_TYPE_Industry: type 1', 'ORGANIZATION_TYPE_Industry: type 10', 'ORGANIZATION_TYPE_Industry: type 11', 'ORGANIZATION_TYPE_Industry: type 12', 'ORGANIZATION_TYPE_Industry: type 13', 'ORGANIZATION_TYPE_Industry: type 2', 'ORGANIZATION_TYPE_Industry: type 3', 'ORGANIZATION_TYPE_Industry: type 4', 'ORGANIZATION_TYPE_Industry: type 5', 'ORGANIZATION_TYPE_Industry: type 6', 'ORGANIZATION_TYPE_Industry: type 7', 'ORGANIZATION_TYPE_Industry: type 8', 'ORGANIZATION_TYPE_Industry: type 9', 'ORGANIZATION_TYPE_Insurance', 'ORGANIZATION_TYPE_Kindergarten', 'ORGANIZATION_TYPE_Legal Services', 'ORGANIZATION_TYPE_Medicine', 'ORGANIZATION_TYPE_Military', 'ORGANIZATION_TYPE_Mobile', 'ORGANIZATION_TYPE_Other', 'ORGANIZATION_TYPE_Police', 'ORGANIZATION_TYPE_Postal', 'ORGANIZATION_TYPE_Realtor', 'ORGANIZATION_TYPE_Religion', 'ORGANIZATION_TYPE_Restaurant', 'ORGANIZATION_TYPE_School', 'ORGANIZATION_TYPE_Security', 'ORGANIZATION_TYPE_Security Ministries', 'ORGANIZATION_TYPE_Self-employed', 'ORGANIZATION_TYPE_Services', 'ORGANIZATION_TYPE_Telecom', 'ORGANIZATION_TYPE_Trade: type 1', 'ORGANIZATION_TYPE_Trade: type 2', 'ORGANIZATION_TYPE_Trade: type 3', 'ORGANIZATION_TYPE_Trade: type 4', 'ORGANIZATION_TYPE_Trade: type 5', 'ORGANIZATION_TYPE_Trade: type 6', 'ORGANIZATION_TYPE_Trade: type 7', 'ORGANIZATION_TYPE_Transport: type 1', 'ORGANIZATION_TYPE_Transport: type 2', 'ORGANIZATION_TYPE_Transport: type 3', 'ORGANIZATION_TYPE_Transport: type 4', 'ORGANIZATION_TYPE_University', 'FONDKAPREMONT_MODE_not specified', 'FONDKAPREMONT_MODE_org spec account', 'FONDKAPREMONT_MODE_reg oper account', 'FONDKAPREMONT_MODE_reg oper spec account', 'HOUSETYPE_MODE_block of flats', 'HOUSETYPE_MODE_specific housing', 'HOUSETYPE_MODE_terraced house', 'WALLSMATERIAL_MODE_Block', 'WALLSMATERIAL_MODE_Mixed', 'WALLSMATERIAL_MODE_Monolithic', 'WALLSMATERIAL_MODE_Others', 'WALLSMATERIAL_MODE_Panel', 'WALLSMATERIAL_MODE_Stone, brick', 'WALLSMATERIAL_MODE_Wooden', 'BURO_DAYS_CREDIT_MIN', 'BURO_DAYS_CREDIT_MAX', 'BURO_DAYS_CREDIT_MEAN', 'BURO_DAYS_CREDIT_VAR', 'BURO_DAYS_CREDIT_ENDDATE_MIN', 'BURO_DAYS_CREDIT_ENDDATE_MAX', 'BURO_DAYS_CREDIT_ENDDATE_MEAN', 'BURO_DAYS_CREDIT_UPDATE_MEAN', 'BURO_CREDIT_DAY_OVERDUE_MAX', 'BURO_CREDIT_DAY_OVERDUE_MEAN', 'BURO_AMT_CREDIT_MAX_OVERDUE_MEAN', 'BURO_AMT_CREDIT_SUM_MAX', 'BURO_AMT_CREDIT_SUM_MEAN', 'BURO_AMT_CREDIT_SUM_SUM', 'BURO_AMT_CREDIT_SUM_DEBT_MAX', 'BURO_AMT_CREDIT_SUM_DEBT_MEAN', 'BURO_AMT_CREDIT_SUM_DEBT_SUM', 'BURO_AMT_CREDIT_SUM_OVERDUE_MEAN', 'BURO_AMT_CREDIT_SUM_LIMIT_MEAN', 'BURO_AMT_CREDIT_SUM_LIMIT_SUM', 'BURO_AMT_ANNUITY_MAX', 'BURO_AMT_ANNUITY_MEAN', 'BURO_CNT_CREDIT_PROLONG_SUM', 'BURO_MONTHS_BALANCE_MAX_MAX', 'BURO_MONTHS_BALANCE_SIZE_MEAN', 'BURO_MONTHS_BALANCE_SIZE_SUM', 'BURO_CREDIT_ACTIVE_Active_MEAN', 'BURO_CREDIT_ACTIVE_Bad debt_MEAN', 'BURO_CREDIT_ACTIVE_Sold_MEAN', 'BURO_CREDIT_CURRENCY_currency 1_MEAN', 'BURO_CREDIT_CURRENCY_currency 2_MEAN', 'BURO_CREDIT_CURRENCY_currency 3_MEAN', 'BURO_CREDIT_CURRENCY_currency 4_MEAN', 'BURO_CREDIT_TYPE_Another type of loan_MEAN', 'BURO_CREDIT_TYPE_Car loan_MEAN', 'BURO_CREDIT_TYPE_Cash loan (non-earmarked)_MEAN', 'BURO_CREDIT_TYPE_Consumer credit_MEAN', 'BURO_CREDIT_TYPE_Credit card_MEAN', 'BURO_CREDIT_TYPE_Interbank credit_MEAN', 'BURO_CREDIT_TYPE_Loan for business development_MEAN', 'BURO_CREDIT_TYPE_Loan for purchase of shares (margin lending)_MEAN', 'BURO_CREDIT_TYPE_Loan for the purchase of equipment_MEAN', 'BURO_CREDIT_TYPE_Loan for working capital replenishment_MEAN', 'BURO_CREDIT_TYPE_Microloan_MEAN', 'BURO_CREDIT_TYPE_Mobile operator loan_MEAN', 'BURO_CREDIT_TYPE_Mortgage_MEAN', 'BURO_CREDIT_TYPE_Real estate loan_MEAN', 'BURO_CREDIT_TYPE_Unknown type of loan_MEAN', 'BURO_STATUS_0_MEAN_MEAN', 'BURO_STATUS_1_MEAN_MEAN', 'BURO_STATUS_2_MEAN_MEAN', 'BURO_STATUS_3_MEAN_MEAN', 'BURO_STATUS_4_MEAN_MEAN', 'BURO_STATUS_5_MEAN_MEAN', 'BURO_STATUS_C_MEAN_MEAN', 'BURO_STATUS_X_MEAN_MEAN', 'BURO_COUNT', 'CC_MONTHS_BALANCE_MIN', 'CC_MONTHS_BALANCE_MAX', 'CC_AMT_BALANCE_MIN', 'CC_AMT_BALANCE_MAX', 'CC_AMT_BALANCE_MEAN', 'CC_AMT_BALANCE_SUM', 'CC_AMT_BALANCE_VAR', 'CC_AMT_CREDIT_LIMIT_ACTUAL_MIN', 'CC_AMT_CREDIT_LIMIT_ACTUAL_MAX', 'CC_AMT_CREDIT_LIMIT_ACTUAL_MEAN', 'CC_AMT_CREDIT_LIMIT_ACTUAL_SUM', 'CC_AMT_CREDIT_LIMIT_ACTUAL_VAR', 'CC_AMT_DRAWINGS_ATM_CURRENT_MIN', 'CC_AMT_DRAWINGS_ATM_CURRENT_MAX', 'CC_AMT_DRAWINGS_ATM_CURRENT_MEAN', 'CC_AMT_DRAWINGS_ATM_CURRENT_SUM', 'CC_AMT_DRAWINGS_ATM_CURRENT_VAR', 'CC_AMT_DRAWINGS_CURRENT_MIN', 'CC_AMT_DRAWINGS_CURRENT_MAX', 'CC_AMT_DRAWINGS_CURRENT_MEAN', 'CC_AMT_DRAWINGS_CURRENT_SUM', 'CC_AMT_DRAWINGS_CURRENT_VAR', 'CC_AMT_DRAWINGS_OTHER_CURRENT_MIN', 'CC_AMT_DRAWINGS_OTHER_CURRENT_MAX', 'CC_AMT_DRAWINGS_OTHER_CURRENT_MEAN', 'CC_AMT_DRAWINGS_OTHER_CURRENT_SUM', 'CC_AMT_DRAWINGS_OTHER_CURRENT_VAR', 'CC_AMT_DRAWINGS_POS_CURRENT_MIN', 'CC_AMT_DRAWINGS_POS_CURRENT_MAX', 'CC_AMT_DRAWINGS_POS_CURRENT_MEAN', 'CC_AMT_DRAWINGS_POS_CURRENT_SUM', 'CC_AMT_DRAWINGS_POS_CURRENT_VAR', 'CC_AMT_INST_MIN_REGULARITY_MIN', 'CC_AMT_INST_MIN_REGULARITY_MAX', 'CC_AMT_INST_MIN_REGULARITY_MEAN', 'CC_AMT_INST_MIN_REGULARITY_SUM', 'CC_AMT_INST_MIN_REGULARITY_VAR', 'CC_AMT_PAYMENT_CURRENT_MIN', 'CC_AMT_PAYMENT_CURRENT_MAX', 'CC_AMT_PAYMENT_CURRENT_MEAN', 'CC_AMT_PAYMENT_CURRENT_SUM', 'CC_AMT_PAYMENT_CURRENT_VAR', 'CC_AMT_PAYMENT_TOTAL_CURRENT_MIN', 'CC_AMT_PAYMENT_TOTAL_CURRENT_MEAN', 'CC_CNT_DRAWINGS_ATM_CURRENT_MIN', 'CC_CNT_DRAWINGS_ATM_CURRENT_MAX', 'CC_CNT_DRAWINGS_ATM_CURRENT_MEAN', 'CC_CNT_DRAWINGS_ATM_CURRENT_SUM', 'CC_CNT_DRAWINGS_ATM_CURRENT_VAR', 'CC_CNT_DRAWINGS_CURRENT_MIN', 'CC_CNT_DRAWINGS_CURRENT_MAX', 'CC_CNT_DRAWINGS_CURRENT_MEAN', 'CC_CNT_DRAWINGS_CURRENT_SUM', 'CC_CNT_DRAWINGS_CURRENT_VAR', 'CC_CNT_DRAWINGS_OTHER_CURRENT_MIN', 'CC_CNT_DRAWINGS_OTHER_CURRENT_MAX', 'CC_CNT_DRAWINGS_OTHER_CURRENT_MEAN', 'CC_CNT_DRAWINGS_OTHER_CURRENT_SUM', 'CC_CNT_DRAWINGS_OTHER_CURRENT_VAR', 'CC_CNT_DRAWINGS_POS_CURRENT_MIN', 'CC_CNT_DRAWINGS_POS_CURRENT_MAX', 'CC_CNT_DRAWINGS_POS_CURRENT_MEAN', 'CC_CNT_DRAWINGS_POS_CURRENT_SUM', 'CC_CNT_INSTALMENT_MATURE_CUM_MIN', 'CC_CNT_INSTALMENT_MATURE_CUM_MAX', 'CC_CNT_INSTALMENT_MATURE_CUM_MEAN', 'CC_CNT_INSTALMENT_MATURE_CUM_SUM', 'CC_CNT_INSTALMENT_MATURE_CUM_VAR', 'CC_SK_DPD_MIN', 'CC_SK_DPD_MAX', 'CC_SK_DPD_MEAN', 'CC_SK_DPD_DEF_MAX', 'CC_SK_DPD_DEF_MEAN', 'CC_NAME_CONTRACT_STATUS_Active_MIN', 'CC_NAME_CONTRACT_STATUS_Active_MAX', 'CC_NAME_CONTRACT_STATUS_Active_MEAN', 'CC_NAME_CONTRACT_STATUS_Active_VAR', 'CC_NAME_CONTRACT_STATUS_Approved_MIN', 'CC_NAME_CONTRACT_STATUS_Approved_MAX', 'CC_NAME_CONTRACT_STATUS_Completed_MIN', 'CC_NAME_CONTRACT_STATUS_Completed_MAX', 'CC_NAME_CONTRACT_STATUS_Completed_MEAN', 'CC_NAME_CONTRACT_STATUS_Completed_SUM', 'CC_NAME_CONTRACT_STATUS_Completed_VAR', 'CC_NAME_CONTRACT_STATUS_Demand_MIN', 'CC_NAME_CONTRACT_STATUS_Demand_MAX', 'CC_NAME_CONTRACT_STATUS_Demand_MEAN', 'CC_NAME_CONTRACT_STATUS_Demand_VAR', 'CC_NAME_CONTRACT_STATUS_Refused_MIN', 'CC_NAME_CONTRACT_STATUS_Refused_MAX', 'CC_NAME_CONTRACT_STATUS_Sent proposal_MIN', 'CC_NAME_CONTRACT_STATUS_Sent proposal_MAX', 'CC_NAME_CONTRACT_STATUS_Signed_MIN', 'CC_NAME_CONTRACT_STATUS_Signed_MAX', 'CC_NAME_CONTRACT_STATUS_Signed_MEAN', 'CC_NAME_CONTRACT_STATUS_Signed_SUM', 'CC_NAME_CONTRACT_STATUS_Signed_VAR', 'INSTAL_NUM_INSTALMENT_VERSION_NUNIQUE', 'INSTAL_DPD_MAX', 'INSTAL_DPD_MEAN', 'INSTAL_DPD_SUM', 'INSTAL_DBD_MAX', 'INSTAL_DBD_MEAN', 'INSTAL_DBD_SUM', 'INSTAL_PAYMENT_PERC_MAX', 'INSTAL_PAYMENT_PERC_MEAN', 'INSTAL_PAYMENT_PERC_VAR', 'INSTAL_PAYMENT_DIFF_MAX', 'INSTAL_PAYMENT_DIFF_MEAN', 'INSTAL_PAYMENT_DIFF_SUM', 'INSTAL_PAYMENT_DIFF_VAR', 'INSTAL_AMT_INSTALMENT_MAX', 'INSTAL_AMT_INSTALMENT_MEAN', 'INSTAL_AMT_INSTALMENT_SUM', 'INSTAL_AMT_PAYMENT_MIN', 'INSTAL_AMT_PAYMENT_MEAN', 'INSTAL_DAYS_ENTRY_PAYMENT_MAX', 'INSTAL_DAYS_ENTRY_PAYMENT_MEAN', 'INSTAL_DAYS_ENTRY_PAYMENT_SUM', 'INSTAL_COUNT', 'INSTAL_MONTHS_BALANCE_MAX', 'INSTAL_MONTHS_BALANCE_MEAN', 'INSTAL_MONTHS_BALANCE_SIZE', 'INSTAL_SK_DPD_MAX', 'INSTAL_SK_DPD_MEAN', 'INSTAL_SK_DPD_DEF_MAX', 'INSTAL_SK_DPD_DEF_MEAN', 'INSTAL_NAME_CONTRACT_STATUS_Active_MEAN', 'INSTAL_NAME_CONTRACT_STATUS_Amortized debt_MEAN', 'INSTAL_NAME_CONTRACT_STATUS_Approved_MEAN', 'INSTAL_NAME_CONTRACT_STATUS_Canceled_MEAN', 'INSTAL_NAME_CONTRACT_STATUS_Completed_MEAN', 'INSTAL_NAME_CONTRACT_STATUS_Demand_MEAN', 'INSTAL_NAME_CONTRACT_STATUS_Returned to the store_MEAN', 'INSTAL_NAME_CONTRACT_STATUS_Signed_MEAN', 'INSTAL_NAME_CONTRACT_STATUS_XNA_MEAN', 'INSTAL_NAME_CONTRACT_STATUS_nan_MEAN', 'PREV_AMT_ANNUITY_MIN', 'PREV_AMT_ANNUITY_MAX', 'PREV_AMT_ANNUITY_MEAN', 'PREV_AMT_APPLICATION_MIN', 'PREV_AMT_APPLICATION_MAX', 'PREV_AMT_APPLICATION_MEAN', 'PREV_AMT_CREDIT_MIN', 'PREV_AMT_CREDIT_MEAN', 'PREV_APP_CREDIT_PERC_MIN', 'PREV_APP_CREDIT_PERC_MAX', 'PREV_APP_CREDIT_PERC_MEAN', 'PREV_APP_CREDIT_PERC_VAR', 'PREV_AMT_DOWN_PAYMENT_MIN', 'PREV_AMT_DOWN_PAYMENT_MAX', 'PREV_AMT_DOWN_PAYMENT_MEAN', 'PREV_AMT_GOODS_PRICE_MIN', 'PREV_AMT_GOODS_PRICE_MEAN', 'PREV_HOUR_APPR_PROCESS_START_MIN', 'PREV_HOUR_APPR_PROCESS_START_MAX', 'PREV_HOUR_APPR_PROCESS_START_MEAN', 'PREV_RATE_DOWN_PAYMENT_MIN', 'PREV_RATE_DOWN_PAYMENT_MAX', 'PREV_RATE_DOWN_PAYMENT_MEAN', 'PREV_DAYS_DECISION_MIN', 'PREV_DAYS_DECISION_MAX', 'PREV_DAYS_DECISION_MEAN', 'PREV_CNT_PAYMENT_MEAN', 'PREV_CNT_PAYMENT_SUM', 'PREV_NAME_CONTRACT_TYPE_Cash loans_MEAN', 'PREV_NAME_CONTRACT_TYPE_Consumer loans_MEAN', 'PREV_NAME_CONTRACT_TYPE_Revolving loans_MEAN', 'PREV_NAME_CONTRACT_TYPE_XNA_MEAN', 'PREV_NAME_CONTRACT_TYPE_nan_MEAN', 'PREV_WEEKDAY_APPR_PROCESS_START_FRIDAY_MEAN', 'PREV_WEEKDAY_APPR_PROCESS_START_MONDAY_MEAN', 'PREV_WEEKDAY_APPR_PROCESS_START_SATURDAY_MEAN', 'PREV_WEEKDAY_APPR_PROCESS_START_SUNDAY_MEAN', 'PREV_WEEKDAY_APPR_PROCESS_START_THURSDAY_MEAN', 'PREV_WEEKDAY_APPR_PROCESS_START_TUESDAY_MEAN', 'PREV_WEEKDAY_APPR_PROCESS_START_WEDNESDAY_MEAN', 'PREV_WEEKDAY_APPR_PROCESS_START_nan_MEAN', 'PREV_FLAG_LAST_APPL_PER_CONTRACT_N_MEAN', 'PREV_FLAG_LAST_APPL_PER_CONTRACT_nan_MEAN', 'PREV_NAME_CASH_LOAN_PURPOSE_Building a house or an annex_MEAN', 'PREV_NAME_CASH_LOAN_PURPOSE_Business development_MEAN', 'PREV_NAME_CASH_LOAN_PURPOSE_Buying a garage_MEAN', 'PREV_NAME_CASH_LOAN_PURPOSE_Buying a holiday home / land_MEAN', 'PREV_NAME_CASH_LOAN_PURPOSE_Buying a home_MEAN', 'PREV_NAME_CASH_LOAN_PURPOSE_Buying a new car_MEAN', 'PREV_NAME_CASH_LOAN_PURPOSE_Buying a used car_MEAN', 'PREV_NAME_CASH_LOAN_PURPOSE_Car repairs_MEAN', 'PREV_NAME_CASH_LOAN_PURPOSE_Education_MEAN', 'PREV_NAME_CASH_LOAN_PURPOSE_Everyday expenses_MEAN', 'PREV_NAME_CASH_LOAN_PURPOSE_Furniture_MEAN', 'PREV_NAME_CASH_LOAN_PURPOSE_Gasification / water supply_MEAN', 'PREV_NAME_CASH_LOAN_PURPOSE_Hobby_MEAN', 'PREV_NAME_CASH_LOAN_PURPOSE_Journey_MEAN', 'PREV_NAME_CASH_LOAN_PURPOSE_Medicine_MEAN', 'PREV_NAME_CASH_LOAN_PURPOSE_Money for a third person_MEAN', 'PREV_NAME_CASH_LOAN_PURPOSE_Other_MEAN', 'PREV_NAME_CASH_LOAN_PURPOSE_Payments on other loans_MEAN', 'PREV_NAME_CASH_LOAN_PURPOSE_Purchase of electronic equipment_MEAN', 'PREV_NAME_CASH_LOAN_PURPOSE_Refusal to name the goal_MEAN', 'PREV_NAME_CASH_LOAN_PURPOSE_Repairs_MEAN', 'PREV_NAME_CASH_LOAN_PURPOSE_Urgent needs_MEAN', 'PREV_NAME_CASH_LOAN_PURPOSE_Wedding / gift / holiday_MEAN', 'PREV_NAME_CASH_LOAN_PURPOSE_XNA_MEAN', 'PREV_NAME_CASH_LOAN_PURPOSE_nan_MEAN', 'PREV_NAME_CONTRACT_STATUS_Approved_MEAN', 'PREV_NAME_CONTRACT_STATUS_Canceled_MEAN', 'PREV_NAME_CONTRACT_STATUS_Refused_MEAN', 'PREV_NAME_CONTRACT_STATUS_Unused offer_MEAN', 'PREV_NAME_CONTRACT_STATUS_nan_MEAN', 'PREV_NAME_PAYMENT_TYPE_Cash through the bank_MEAN', 'PREV_NAME_PAYMENT_TYPE_Cashless from the account of the employer_MEAN', 'PREV_NAME_PAYMENT_TYPE_Non-cash from your account_MEAN', 'PREV_NAME_PAYMENT_TYPE_nan_MEAN', 'PREV_CODE_REJECT_REASON_HC_MEAN', 'PREV_CODE_REJECT_REASON_LIMIT_MEAN', 'PREV_CODE_REJECT_REASON_SCO_MEAN', 'PREV_CODE_REJECT_REASON_SCOFR_MEAN', 'PREV_CODE_REJECT_REASON_SYSTEM_MEAN', 'PREV_CODE_REJECT_REASON_VERIF_MEAN', 'PREV_CODE_REJECT_REASON_XAP_MEAN', 'PREV_CODE_REJECT_REASON_XNA_MEAN', 'PREV_CODE_REJECT_REASON_nan_MEAN', 'PREV_NAME_TYPE_SUITE_Children_MEAN', 'PREV_NAME_TYPE_SUITE_Family_MEAN', 'PREV_NAME_TYPE_SUITE_Group of people_MEAN', 'PREV_NAME_TYPE_SUITE_Other_A_MEAN', 'PREV_NAME_TYPE_SUITE_Other_B_MEAN', 'PREV_NAME_TYPE_SUITE_Spouse, partner_MEAN', 'PREV_NAME_TYPE_SUITE_Unaccompanied_MEAN', 'PREV_NAME_TYPE_SUITE_nan_MEAN', 'PREV_NAME_CLIENT_TYPE_New_MEAN', 'PREV_NAME_CLIENT_TYPE_Refreshed_MEAN', 'PREV_NAME_CLIENT_TYPE_Repeater_MEAN', 'PREV_NAME_CLIENT_TYPE_XNA_MEAN', 'PREV_NAME_CLIENT_TYPE_nan_MEAN', 'PREV_NAME_GOODS_CATEGORY_Additional Service_MEAN', 'PREV_NAME_GOODS_CATEGORY_Animals_MEAN', 'PREV_NAME_GOODS_CATEGORY_Audio/Video_MEAN', 'PREV_NAME_GOODS_CATEGORY_Auto Accessories_MEAN', 'PREV_NAME_GOODS_CATEGORY_Clothing and Accessories_MEAN', 'PREV_NAME_GOODS_CATEGORY_Computers_MEAN', 'PREV_NAME_GOODS_CATEGORY_Construction Materials_MEAN', 'PREV_NAME_GOODS_CATEGORY_Consumer Electronics_MEAN', 'PREV_NAME_GOODS_CATEGORY_Direct Sales_MEAN', 'PREV_NAME_GOODS_CATEGORY_Education_MEAN', 'PREV_NAME_GOODS_CATEGORY_Fitness_MEAN', 'PREV_NAME_GOODS_CATEGORY_Furniture_MEAN', 'PREV_NAME_GOODS_CATEGORY_Gardening_MEAN', 'PREV_NAME_GOODS_CATEGORY_Homewares_MEAN', 'PREV_NAME_GOODS_CATEGORY_House Construction_MEAN', 'PREV_NAME_GOODS_CATEGORY_Insurance_MEAN', 'PREV_NAME_GOODS_CATEGORY_Jewelry_MEAN', 'PREV_NAME_GOODS_CATEGORY_Medical Supplies_MEAN', 'PREV_NAME_GOODS_CATEGORY_Medicine_MEAN', 'PREV_NAME_GOODS_CATEGORY_Mobile_MEAN', 'PREV_NAME_GOODS_CATEGORY_Office Appliances_MEAN', 'PREV_NAME_GOODS_CATEGORY_Other_MEAN', 'PREV_NAME_GOODS_CATEGORY_Photo / Cinema Equipment_MEAN', 'PREV_NAME_GOODS_CATEGORY_Sport and Leisure_MEAN', 'PREV_NAME_GOODS_CATEGORY_Tourism_MEAN', 'PREV_NAME_GOODS_CATEGORY_Vehicles_MEAN', 'PREV_NAME_GOODS_CATEGORY_Weapon_MEAN', 'PREV_NAME_GOODS_CATEGORY_nan_MEAN', 'PREV_NAME_PORTFOLIO_Cards_MEAN', 'PREV_NAME_PORTFOLIO_Cars_MEAN', 'PREV_NAME_PORTFOLIO_Cash_MEAN', 'PREV_NAME_PORTFOLIO_POS_MEAN', 'PREV_NAME_PORTFOLIO_XNA_MEAN', 'PREV_NAME_PORTFOLIO_nan_MEAN', 'PREV_NAME_PRODUCT_TYPE_XNA_MEAN', 'PREV_NAME_PRODUCT_TYPE_walk-in_MEAN', 'PREV_NAME_PRODUCT_TYPE_x-sell_MEAN', 'PREV_NAME_PRODUCT_TYPE_nan_MEAN', 'PREV_CHANNEL_TYPE_AP+ (Cash loan)_MEAN', 'PREV_CHANNEL_TYPE_Car dealer_MEAN', 'PREV_CHANNEL_TYPE_Channel of corporate sales_MEAN', 'PREV_CHANNEL_TYPE_Contact center_MEAN', 'PREV_CHANNEL_TYPE_Country-wide_MEAN', 'PREV_CHANNEL_TYPE_Credit and cash offices_MEAN', 'PREV_CHANNEL_TYPE_Regional / Local_MEAN', 'PREV_CHANNEL_TYPE_Stone_MEAN', 'PREV_CHANNEL_TYPE_nan_MEAN', 'PREV_NAME_SELLER_INDUSTRY_Auto technology_MEAN', 'PREV_NAME_SELLER_INDUSTRY_Clothing_MEAN', 'PREV_NAME_SELLER_INDUSTRY_Connectivity_MEAN', 'PREV_NAME_SELLER_INDUSTRY_Construction_MEAN', 'PREV_NAME_SELLER_INDUSTRY_Consumer electronics_MEAN', 'PREV_NAME_SELLER_INDUSTRY_Furniture_MEAN', 'PREV_NAME_SELLER_INDUSTRY_Industry_MEAN', 'PREV_NAME_SELLER_INDUSTRY_Jewelry_MEAN', 'PREV_NAME_SELLER_INDUSTRY_MLM partners_MEAN', 'PREV_NAME_SELLER_INDUSTRY_Tourism_MEAN', 'PREV_NAME_SELLER_INDUSTRY_XNA_MEAN', 'PREV_NAME_SELLER_INDUSTRY_nan_MEAN', 'PREV_NAME_YIELD_GROUP_XNA_MEAN', 'PREV_NAME_YIELD_GROUP_high_MEAN', 'PREV_NAME_YIELD_GROUP_low_action_MEAN', 'PREV_NAME_YIELD_GROUP_low_normal_MEAN', 'PREV_NAME_YIELD_GROUP_middle_MEAN', 'PREV_NAME_YIELD_GROUP_nan_MEAN', 'PREV_PRODUCT_COMBINATION_Card Street_MEAN', 'PREV_PRODUCT_COMBINATION_Card X-Sell_MEAN', 'PREV_PRODUCT_COMBINATION_Cash_MEAN', 'PREV_PRODUCT_COMBINATION_Cash Street: high_MEAN', 'PREV_PRODUCT_COMBINATION_Cash Street: low_MEAN', 'PREV_PRODUCT_COMBINATION_Cash Street: middle_MEAN', 'PREV_PRODUCT_COMBINATION_Cash X-Sell: high_MEAN', 'PREV_PRODUCT_COMBINATION_Cash X-Sell: low_MEAN', 'PREV_PRODUCT_COMBINATION_Cash X-Sell: middle_MEAN', 'PREV_PRODUCT_COMBINATION_POS household with interest_MEAN', 'PREV_PRODUCT_COMBINATION_POS household without interest_MEAN', 'PREV_PRODUCT_COMBINATION_POS industry with interest_MEAN', 'PREV_PRODUCT_COMBINATION_POS industry without interest_MEAN', 'PREV_PRODUCT_COMBINATION_POS mobile with interest_MEAN', 'PREV_PRODUCT_COMBINATION_POS mobile without interest_MEAN', 'PREV_PRODUCT_COMBINATION_POS other with interest_MEAN', 'PREV_PRODUCT_COMBINATION_POS others without interest_MEAN']\n",
      "Categorical Features: []\n"
     ]
    }
   ],
   "source": [
    "# Affichage des colonnes pour vérification\n",
    "print(data.columns)\n",
    "\n",
    "# Définition des features numériques et catégorielles\n",
    "numeric_features = [col for col in X.columns if X[col].dtype in ['int64', 'float64']]\n",
    "categorical_features = [col for col in X.columns if X[col].dtype == 'object']\n",
    "\n",
    "# Affichage des types de features\n",
    "print(\"Numeric Features:\", numeric_features)\n",
    "print(\"Categorical Features:\", categorical_features)"
   ]
  },
  {
   "cell_type": "markdown",
   "id": "4ced9d5b",
   "metadata": {},
   "source": [
    "### Création de pipelines et de transformations"
   ]
  },
  {
   "cell_type": "code",
   "execution_count": 12,
   "id": "611e28a3",
   "metadata": {},
   "outputs": [],
   "source": [
    "# Définition des transformations pour les données numériques et catégorielles\n",
    "numeric_transformer = Pipeline(steps=[\n",
    "    ('imputer', SimpleImputer(strategy='median')),\n",
    "    ('scaler', StandardScaler())])\n",
    "\n",
    "categorical_transformer = Pipeline(steps=[\n",
    "    ('imputer', SimpleImputer(strategy='most_frequent')),\n",
    "    ('onehot', OneHotEncoder(handle_unknown='ignore'))])\n",
    "\n",
    "preprocessor = ColumnTransformer(\n",
    "    transformers=[\n",
    "        ('num', numeric_transformer, numeric_features),\n",
    "        ('cat', categorical_transformer, categorical_features)])\n"
   ]
  },
  {
   "cell_type": "markdown",
   "id": "5ded43e0",
   "metadata": {},
   "source": [
    "### Création et entraînement des pipelines des modèles"
   ]
  },
  {
   "cell_type": "code",
   "execution_count": 13,
   "id": "fbbf4d6c",
   "metadata": {},
   "outputs": [],
   "source": [
    "# Pipeline de modélisation avec RandomForest\n",
    "model_rf_pipeline = make_pipeline_imblearn(\n",
    "    preprocessor,\n",
    "    SMOTE(sampling_strategy=0.5, random_state=10),\n",
    "    RandomForestClassifier(n_estimators=100, random_state=10))\n",
    "\n",
    "# Pipeline de modélisation avec XGBoost\n",
    "model_xgb_pipeline = make_pipeline_imblearn(\n",
    "    preprocessor,\n",
    "    SMOTE(sampling_strategy=0.5, random_state=42),\n",
    "    XGBClassifier(n_estimators=100, max_depth=3, learning_rate=0.1, random_state=10))"
   ]
  },
  {
   "cell_type": "markdown",
   "id": "59e05a8f",
   "metadata": {},
   "source": [
    "## Entraînement et évaluation de RandomForest"
   ]
  },
  {
   "cell_type": "code",
   "execution_count": 14,
   "id": "beddc289",
   "metadata": {
    "scrolled": false
   },
   "outputs": [
    {
     "name": "stderr",
     "output_type": "stream",
     "text": [
      "C:\\Users\\Farid\\anaconda3\\lib\\site-packages\\joblib\\externals\\loky\\backend\\context.py:136: UserWarning: Could not find the number of physical cores for the following reason:\n",
      "found 0 physical cores < 1\n",
      "Returning the number of logical cores instead. You can silence this warning by setting LOKY_MAX_CPU_COUNT to the number of cores you want to use.\n",
      "  warnings.warn(\n",
      "  File \"C:\\Users\\Farid\\anaconda3\\lib\\site-packages\\joblib\\externals\\loky\\backend\\context.py\", line 282, in _count_physical_cores\n",
      "    raise ValueError(f\"found {cpu_count_physical} physical cores < 1\")\n"
     ]
    },
    {
     "data": {
      "image/png": "[encoded data removed]",
      "text/plain": [
       "<Figure size 800x600 with 1 Axes>"
      ]
     },
     "metadata": {},
     "output_type": "display_data"
    },
    {
     "name": "stdout",
     "output_type": "stream",
     "text": [
      "RandomForest AUC: 0.72\n",
      "RandomForest Business Cost: -48748\n",
      "RandomForest Business Score: 0.539\n"
     ]
    }
   ],
   "source": [
    "model_rf_pipeline.fit(X_train, y_train)\n",
    "y_pred_rf = model_rf_pipeline.predict(X_test)\n",
    "auc_rf = plot_roc_curve(y_test, model_rf_pipeline.predict_proba(X_test)[:, 1])\n",
    "business_cost_rf = business_cost(y_test, y_pred_rf)\n",
    "score_rf = business_score(y_test, y_pred_rf)\n",
    "\n",
    "print(f'RandomForest AUC: {auc_rf:.2f}')\n",
    "print(f'RandomForest Business Cost: {business_cost_rf}')\n",
    "print(f'RandomForest Business Score: {score_rf:.3f}')"
   ]
  },
  {
   "cell_type": "markdown",
   "id": "73286938",
   "metadata": {},
   "source": [
    "### Logging et Tracking avec MLFlow"
   ]
  },
  {
   "cell_type": "code",
   "execution_count": 15,
   "id": "94e2e85e",
   "metadata": {},
   "outputs": [
    {
     "data": {
      "text/plain": [
       "'\\n# Logging avec MLFlow pour RandomForest\\nmlflow.start_run()\\nparams_rf = model_rf_pipeline.named_steps[\\'randomforestclassifier\\'].get_params()\\nmetrics_rf = {\\'auc_score\\': auc_rf, \\'business_cost\\': business_cost_rf}\\nmlflow.log_params(params_rf)\\nmlflow.log_metrics(metrics_rf)\\nmlflow.sktech.log_model(model_rf_pipeline, \"model_rf\")\\nmlflow.end_run()\\n'"
      ]
     },
     "execution_count": 15,
     "metadata": {},
     "output_type": "execute_result"
    }
   ],
   "source": [
    "'''\n",
    "# Logging avec MLFlow pour RandomForest\n",
    "mlflow.start_run()\n",
    "params_rf = model_rf_pipeline.named_steps['randomforestclassifier'].get_params()\n",
    "metrics_rf = {'auc_score': auc_rf, 'business_cost': business_cost_rf}\n",
    "mlflow.log_params(params_rf)\n",
    "mlflow.log_metrics(metrics_rf)\n",
    "mlflow.sktech.log_model(model_rf_pipeline, \"model_rf\")\n",
    "mlflow.end_run()\n",
    "'''"
   ]
  },
  {
   "cell_type": "markdown",
   "id": "c50b555a",
   "metadata": {},
   "source": [
    "## Entraînement et évaluation de XGBoost"
   ]
  },
  {
   "cell_type": "code",
   "execution_count": 16,
   "id": "d7e06983",
   "metadata": {
    "scrolled": false
   },
   "outputs": [
    {
     "data": {
      "image/png": "[encoded data removed]",
      "text/plain": [
       "<Figure size 800x600 with 1 Axes>"
      ]
     },
     "metadata": {},
     "output_type": "display_data"
    },
    {
     "name": "stdout",
     "output_type": "stream",
     "text": [
      "XGBoost AUC: 0.73\n",
      "XGBoost Business Cost: -48711\n",
      "XGBoost Business Score: 0.539\n"
     ]
    }
   ],
   "source": [
    "model_xgb_pipeline.fit(X_train, y_train)\n",
    "y_pred_xgb = model_xgb_pipeline.predict(X_test)\n",
    "auc_xgb = plot_roc_curve(y_test, model_xgb_pipeline.predict_proba(X_test)[:, 1])\n",
    "business_cost_xgb = business_cost(y_test, y_pred_xgb)\n",
    "score_xgb = business_score(y_test, y_pred_xgb)\n",
    "\n",
    "print(f'XGBoost AUC: {auc_xgb:.2f}')\n",
    "print(f'XGBoost Business Cost: {business_cost_xgb}')\n",
    "print(f'XGBoost Business Score: {score_xgb:.3f}')"
   ]
  },
  {
   "cell_type": "markdown",
   "id": "09319d50",
   "metadata": {},
   "source": [
    "### Logging et Tracking avec MLFlow"
   ]
  },
  {
   "cell_type": "code",
   "execution_count": 17,
   "id": "e7f28439",
   "metadata": {},
   "outputs": [
    {
     "data": {
      "text/plain": [
       "'\\n# Logging avec MLFlow pour XGBoost\\nmlflow.start_run()\\nparams_xgb = model_xgb_pipeline.named_steps[\\'xgbclassifier\\'].get_params()\\nmetrics_xgb = {\\'auc_score\\': auc_xgb, \\'business_cost\\': business_cost_xgb}\\nmlflow.log_params(params_xgb)\\nmlflow.log_metrics(metrics_xgb)\\nmlflow.sktech.log_model(model_xgb_pipeline, \"model_xgb\")\\nmlflow.end_run()\\n'"
      ]
     },
     "execution_count": 17,
     "metadata": {},
     "output_type": "execute_result"
    }
   ],
   "source": [
    "'''\n",
    "# Logging avec MLFlow pour XGBoost\n",
    "mlflow.start_run()\n",
    "params_xgb = model_xgb_pipeline.named_steps['xgbclassifier'].get_params()\n",
    "metrics_xgb = {'auc_score': auc_xgb, 'business_cost': business_cost_xgb}\n",
    "mlflow.log_params(params_xgb)\n",
    "mlflow.log_metrics(metrics_xgb)\n",
    "mlflow.sktech.log_model(model_xgb_pipeline, \"model_xgb\")\n",
    "mlflow.end_run()\n",
    "'''"
   ]
  },
  {
   "cell_type": "markdown",
   "id": "1df121b2",
   "metadata": {},
   "source": [
    "# Ajustement des paramètres\n",
    "\n",
    "## Entraînement et évaluation de XGBoost"
   ]
  },
  {
   "cell_type": "code",
   "execution_count": 20,
   "id": "75abf6c6",
   "metadata": {
    "scrolled": false
   },
   "outputs": [
    {
     "data": {
      "text/plain": [
       "'\\n# Paramètres à tester\\nparam_grid = {\\n    \\'xgbclassifier__max_depth\\': [3, 5, 7],\\n    \\'xgbclassifier__learning_rate\\': [0.01, 0.1, 0.2],\\n    \\'xgbclassifier__n_estimators\\': [100, 200, 300],\\n    \\'xgbclassifier__subsample\\': [0.7, 0.9, 1]\\n}\\n\\n# Création du modèle XGBoost avec le pipeline\\nmodel_xgb_hyp_params = make_pipeline_imblearn(preprocessor, SMOTE(sampling_strategy=0.5, random_state=42), XGBClassifier(random_state=10))\\n\\n# Recherche sur grille\\ngrid_search = GridSearchCV(model_xgb_hyp_params, param_grid, cv=3, scoring=\\'roc_auc\\', verbose=2)\\ngrid_search.fit(X_train, y_train)\\n\\n# Effectuer des prédictions avec le meilleur modèle sur l\\'ensemble de test\\nbest_model = grid_search.best_estimator_\\ny_pred_best = best_model.predict(X_test)\\n\\n# Calculer la métrique business_score personnalisée\\nbest_business_score = business_score(y_test, y_pred_best)\\n\\n# Meilleurs paramètres et score\\nprint(\"Business Score du meilleur modèle : \", best_business_score)\\nprint(\"Meilleurs paramètres : \", grid_search.best_params_)\\nprint(\"Meilleur score AUC : \", grid_search.best_score_)\\n'"
      ]
     },
     "execution_count": 20,
     "metadata": {},
     "output_type": "execute_result"
    }
   ],
   "source": [
    "'''\n",
    "# Paramètres à tester\n",
    "param_grid = {\n",
    "    'xgbclassifier__max_depth': [3, 5, 7],\n",
    "    'xgbclassifier__learning_rate': [0.01, 0.1, 0.2],\n",
    "    'xgbclassifier__n_estimators': [100, 200, 300],\n",
    "    'xgbclassifier__subsample': [0.7, 0.9, 1]\n",
    "}\n",
    "\n",
    "# Création du modèle XGBoost avec le pipeline\n",
    "model_xgb_hyp_params = make_pipeline_imblearn(preprocessor, SMOTE(sampling_strategy=0.5, random_state=10), XGBClassifier(random_state=10))\n",
    "\n",
    "# Recherche sur grille\n",
    "grid_search = GridSearchCV(model_xgb_hyp_params, param_grid, cv=3, scoring='roc_auc', verbose=2)\n",
    "grid_search.fit(X_train, y_train)\n",
    "\n",
    "# Effectuer des prédictions avec le meilleur modèle sur l'ensemble de test\n",
    "best_model = grid_search.best_estimator_\n",
    "y_pred_best = best_model.predict(X_test)\n",
    "\n",
    "# Calculer la métrique business_score personnalisée\n",
    "best_business_score = business_score(y_test, y_pred_best)\n",
    "\n",
    "# Meilleurs paramètres et score\n",
    "print(\"Business Score du meilleur modèle : \", best_business_score)\n",
    "print(\"Meilleurs paramètres : \", grid_search.best_params_)\n",
    "print(\"Meilleur score AUC : \", grid_search.best_score_)\n",
    "'''"
   ]
  },
  {
   "cell_type": "code",
   "execution_count": 22,
   "id": "09250505",
   "metadata": {},
   "outputs": [
    {
     "name": "stdout",
     "output_type": "stream",
     "text": [
      "Fitting 3 folds for each of 16 candidates, totalling 48 fits\n",
      "[CV] END xgbclassifier__learning_rate=0.1, xgbclassifier__max_depth=3, xgbclassifier__n_estimators=100, xgbclassifier__subsample=0.7; total time=  59.1s\n",
      "[CV] END xgbclassifier__learning_rate=0.1, xgbclassifier__max_depth=3, xgbclassifier__n_estimators=100, xgbclassifier__subsample=0.7; total time=  53.9s\n",
      "[CV] END xgbclassifier__learning_rate=0.1, xgbclassifier__max_depth=3, xgbclassifier__n_estimators=100, xgbclassifier__subsample=0.7; total time=  51.3s\n",
      "[CV] END xgbclassifier__learning_rate=0.1, xgbclassifier__max_depth=3, xgbclassifier__n_estimators=100, xgbclassifier__subsample=1; total time=  54.5s\n",
      "[CV] END xgbclassifier__learning_rate=0.1, xgbclassifier__max_depth=3, xgbclassifier__n_estimators=100, xgbclassifier__subsample=1; total time=  52.7s\n",
      "[CV] END xgbclassifier__learning_rate=0.1, xgbclassifier__max_depth=3, xgbclassifier__n_estimators=100, xgbclassifier__subsample=1; total time=  52.7s\n",
      "[CV] END xgbclassifier__learning_rate=0.1, xgbclassifier__max_depth=3, xgbclassifier__n_estimators=200, xgbclassifier__subsample=0.7; total time= 1.2min\n",
      "[CV] END xgbclassifier__learning_rate=0.1, xgbclassifier__max_depth=3, xgbclassifier__n_estimators=200, xgbclassifier__subsample=0.7; total time= 1.2min\n",
      "[CV] END xgbclassifier__learning_rate=0.1, xgbclassifier__max_depth=3, xgbclassifier__n_estimators=200, xgbclassifier__subsample=0.7; total time= 1.2min\n",
      "[CV] END xgbclassifier__learning_rate=0.1, xgbclassifier__max_depth=3, xgbclassifier__n_estimators=200, xgbclassifier__subsample=1; total time= 1.2min\n",
      "[CV] END xgbclassifier__learning_rate=0.1, xgbclassifier__max_depth=3, xgbclassifier__n_estimators=200, xgbclassifier__subsample=1; total time= 1.2min\n",
      "[CV] END xgbclassifier__learning_rate=0.1, xgbclassifier__max_depth=3, xgbclassifier__n_estimators=200, xgbclassifier__subsample=1; total time= 1.2min\n",
      "[CV] END xgbclassifier__learning_rate=0.1, xgbclassifier__max_depth=5, xgbclassifier__n_estimators=100, xgbclassifier__subsample=0.7; total time=  59.6s\n",
      "[CV] END xgbclassifier__learning_rate=0.1, xgbclassifier__max_depth=5, xgbclassifier__n_estimators=100, xgbclassifier__subsample=0.7; total time=  59.7s\n",
      "[CV] END xgbclassifier__learning_rate=0.1, xgbclassifier__max_depth=5, xgbclassifier__n_estimators=100, xgbclassifier__subsample=0.7; total time= 1.0min\n",
      "[CV] END xgbclassifier__learning_rate=0.1, xgbclassifier__max_depth=5, xgbclassifier__n_estimators=100, xgbclassifier__subsample=1; total time=  59.6s\n",
      "[CV] END xgbclassifier__learning_rate=0.1, xgbclassifier__max_depth=5, xgbclassifier__n_estimators=100, xgbclassifier__subsample=1; total time=  59.7s\n",
      "[CV] END xgbclassifier__learning_rate=0.1, xgbclassifier__max_depth=5, xgbclassifier__n_estimators=100, xgbclassifier__subsample=1; total time= 1.0min\n",
      "[CV] END xgbclassifier__learning_rate=0.1, xgbclassifier__max_depth=5, xgbclassifier__n_estimators=200, xgbclassifier__subsample=0.7; total time= 1.6min\n",
      "[CV] END xgbclassifier__learning_rate=0.1, xgbclassifier__max_depth=5, xgbclassifier__n_estimators=200, xgbclassifier__subsample=0.7; total time= 1.4min\n",
      "[CV] END xgbclassifier__learning_rate=0.1, xgbclassifier__max_depth=5, xgbclassifier__n_estimators=200, xgbclassifier__subsample=0.7; total time= 1.4min\n",
      "[CV] END xgbclassifier__learning_rate=0.1, xgbclassifier__max_depth=5, xgbclassifier__n_estimators=200, xgbclassifier__subsample=1; total time= 1.7min\n",
      "[CV] END xgbclassifier__learning_rate=0.1, xgbclassifier__max_depth=5, xgbclassifier__n_estimators=200, xgbclassifier__subsample=1; total time= 1.4min\n",
      "[CV] END xgbclassifier__learning_rate=0.1, xgbclassifier__max_depth=5, xgbclassifier__n_estimators=200, xgbclassifier__subsample=1; total time= 1.5min\n",
      "[CV] END xgbclassifier__learning_rate=0.2, xgbclassifier__max_depth=3, xgbclassifier__n_estimators=100, xgbclassifier__subsample=0.7; total time=  51.9s\n",
      "[CV] END xgbclassifier__learning_rate=0.2, xgbclassifier__max_depth=3, xgbclassifier__n_estimators=100, xgbclassifier__subsample=0.7; total time=  53.8s\n",
      "[CV] END xgbclassifier__learning_rate=0.2, xgbclassifier__max_depth=3, xgbclassifier__n_estimators=100, xgbclassifier__subsample=0.7; total time=  52.2s\n",
      "[CV] END xgbclassifier__learning_rate=0.2, xgbclassifier__max_depth=3, xgbclassifier__n_estimators=100, xgbclassifier__subsample=1; total time=  52.6s\n",
      "[CV] END xgbclassifier__learning_rate=0.2, xgbclassifier__max_depth=3, xgbclassifier__n_estimators=100, xgbclassifier__subsample=1; total time= 1.0min\n",
      "[CV] END xgbclassifier__learning_rate=0.2, xgbclassifier__max_depth=3, xgbclassifier__n_estimators=100, xgbclassifier__subsample=1; total time=  52.5s\n",
      "[CV] END xgbclassifier__learning_rate=0.2, xgbclassifier__max_depth=3, xgbclassifier__n_estimators=200, xgbclassifier__subsample=0.7; total time= 1.2min\n",
      "[CV] END xgbclassifier__learning_rate=0.2, xgbclassifier__max_depth=3, xgbclassifier__n_estimators=200, xgbclassifier__subsample=0.7; total time= 1.2min\n",
      "[CV] END xgbclassifier__learning_rate=0.2, xgbclassifier__max_depth=3, xgbclassifier__n_estimators=200, xgbclassifier__subsample=0.7; total time= 1.2min\n",
      "[CV] END xgbclassifier__learning_rate=0.2, xgbclassifier__max_depth=3, xgbclassifier__n_estimators=200, xgbclassifier__subsample=1; total time= 1.1min\n",
      "[CV] END xgbclassifier__learning_rate=0.2, xgbclassifier__max_depth=3, xgbclassifier__n_estimators=200, xgbclassifier__subsample=1; total time= 1.1min\n",
      "[CV] END xgbclassifier__learning_rate=0.2, xgbclassifier__max_depth=3, xgbclassifier__n_estimators=200, xgbclassifier__subsample=1; total time= 1.1min\n",
      "[CV] END xgbclassifier__learning_rate=0.2, xgbclassifier__max_depth=5, xgbclassifier__n_estimators=100, xgbclassifier__subsample=0.7; total time=  57.9s\n",
      "[CV] END xgbclassifier__learning_rate=0.2, xgbclassifier__max_depth=5, xgbclassifier__n_estimators=100, xgbclassifier__subsample=0.7; total time=  57.5s\n",
      "[CV] END xgbclassifier__learning_rate=0.2, xgbclassifier__max_depth=5, xgbclassifier__n_estimators=100, xgbclassifier__subsample=0.7; total time= 1.0min\n",
      "[CV] END xgbclassifier__learning_rate=0.2, xgbclassifier__max_depth=5, xgbclassifier__n_estimators=100, xgbclassifier__subsample=1; total time=  58.7s\n",
      "[CV] END xgbclassifier__learning_rate=0.2, xgbclassifier__max_depth=5, xgbclassifier__n_estimators=100, xgbclassifier__subsample=1; total time=  57.6s\n",
      "[CV] END xgbclassifier__learning_rate=0.2, xgbclassifier__max_depth=5, xgbclassifier__n_estimators=100, xgbclassifier__subsample=1; total time=  57.3s\n",
      "[CV] END xgbclassifier__learning_rate=0.2, xgbclassifier__max_depth=5, xgbclassifier__n_estimators=200, xgbclassifier__subsample=0.7; total time= 1.4min\n",
      "[CV] END xgbclassifier__learning_rate=0.2, xgbclassifier__max_depth=5, xgbclassifier__n_estimators=200, xgbclassifier__subsample=0.7; total time= 1.4min\n",
      "[CV] END xgbclassifier__learning_rate=0.2, xgbclassifier__max_depth=5, xgbclassifier__n_estimators=200, xgbclassifier__subsample=0.7; total time= 1.4min\n",
      "[CV] END xgbclassifier__learning_rate=0.2, xgbclassifier__max_depth=5, xgbclassifier__n_estimators=200, xgbclassifier__subsample=1; total time= 1.3min\n",
      "[CV] END xgbclassifier__learning_rate=0.2, xgbclassifier__max_depth=5, xgbclassifier__n_estimators=200, xgbclassifier__subsample=1; total time= 1.3min\n",
      "[CV] END xgbclassifier__learning_rate=0.2, xgbclassifier__max_depth=5, xgbclassifier__n_estimators=200, xgbclassifier__subsample=1; total time= 1.3min\n",
      "Business Score du meilleur modèle :  0.5582820925172642\n",
      "Meilleurs paramètres :  {'xgbclassifier__learning_rate': 0.2, 'xgbclassifier__max_depth': 5, 'xgbclassifier__n_estimators': 200, 'xgbclassifier__subsample': 1}\n",
      "Meilleur score AUC :  0.7720339154236301\n"
     ]
    }
   ],
   "source": [
    "# Ajustement des hyperparamètres pour le modèle XGBoost\n",
    "param_grid = {\n",
    "    'xgbclassifier__max_depth': [3, 5],  \n",
    "    'xgbclassifier__learning_rate': [0.1, 0.2],\n",
    "    'xgbclassifier__n_estimators': [100, 200], \n",
    "    'xgbclassifier__subsample': [0.7, 1]\n",
    "}\n",
    "\n",
    "model_xgb_hyp_params = make_pipeline_imblearn(preprocessor, SMOTE(sampling_strategy=0.5, random_state=10), XGBClassifier(random_state=10))\n",
    "grid_search = GridSearchCV(model_xgb_hyp_params, param_grid, cv=3, scoring='roc_auc', verbose=2)\n",
    "grid_search.fit(X_train, y_train)\n",
    "\n",
    "# Sélection et évaluation du meilleur modèle\n",
    "best_model = grid_search.best_estimator_\n",
    "y_pred_best = best_model.predict(X_test)\n",
    "best_business_score = business_score(y_test, y_pred_best)\n",
    "\n",
    "print(\"Business Score du meilleur modèle : \", best_business_score)\n",
    "print(\"Meilleurs paramètres : \", grid_search.best_params_)\n",
    "print(\"Meilleur score AUC : \", grid_search.best_score_) \n"
   ]
  },
  {
   "cell_type": "markdown",
   "id": "64348518",
   "metadata": {},
   "source": [
    "Notre approche garantit que nous évaluons les modèles non seulement en termes de leur capacité à classer correctement les observations (`AUC`) mais aussi en termes de leur impact économique via `business_score`. Cela est particulièrement important dans des contextes où les coûts des erreurs de classification varient, comme dans le scoring de crédit."
   ]
  },
  {
   "cell_type": "markdown",
   "id": "616988c7",
   "metadata": {},
   "source": [
    "## Ajustement des seuils de prédiction\n",
    "\n",
    "Pour déterminer un seuil initial basé sur un bon équilibre entre la sensibilité et la spécificité, nous pourrions examiner la courbe `ROC (Receiver Operating Characteristic)`. Un point couramment utilisé est le point le plus proche du coin supérieur gauche de la courbe ROC, qui maximise à la fois la sensibilité et la spécificité (minimise le taux de faux positifs tout en maximisant le taux de vrais positifs).\n",
    "\n",
    "Une fois ce seuil trouvé, nous pouvons tester des valeurs autour de ce seuil pour voir si un ajustement légèrement différent donne de meilleurs résultats selon notre métrique `business_score`."
   ]
  },
  {
   "cell_type": "code",
   "execution_count": 24,
   "id": "ce779a12",
   "metadata": {},
   "outputs": [
    {
     "name": "stdout",
     "output_type": "stream",
     "text": [
      "Initial best threshold from ROC curve: 0.07982398\n",
      "Optimized Threshold: 0.09561345192946885\n",
      "Best Business Score: 0.708059786207549\n"
     ]
    }
   ],
   "source": [
    "from sklearn.metrics import roc_curve\n",
    "\n",
    "y_scores = best_model.predict_proba(X_test)[:, 1]  # Obtention des scores de probabilité pour la classe positive\n",
    "\n",
    "# Calculer la courbe ROC\n",
    "fpr, tpr, thresholds = roc_curve(y_test, y_scores)\n",
    "\n",
    "# Trouver le seuil le plus proche du coin supérieur gauche\n",
    "closest_zero = np.argmin(np.sqrt(fpr**2 + (1-tpr)**2))\n",
    "initial_best_threshold = thresholds[closest_zero]\n",
    "\n",
    "print(\"Initial best threshold from ROC curve:\", initial_best_threshold)\n",
    "\n",
    "# Tester différents seuils autour de ce seuil initial\n",
    "threshold_range = np.linspace(initial_best_threshold - 0.1, initial_best_threshold + 0.1, 20)\n",
    "best_business_score = 0\n",
    "best_threshold = initial_best_threshold\n",
    "\n",
    "for threshold in threshold_range:\n",
    "    y_pred_threshold = (y_scores >= threshold).astype(int)\n",
    "    score = business_score(y_test, y_pred_threshold)\n",
    "    if score > best_business_score:\n",
    "        best_business_score = score\n",
    "        best_threshold = threshold\n",
    "\n",
    "print(\"Optimized Threshold:\", best_threshold)\n",
    "print(\"Best Business Score:\", best_business_score)\n"
   ]
  },
  {
   "cell_type": "markdown",
   "id": "49a91a49",
   "metadata": {},
   "source": [
    "J'ai utilisé la fonction np.linspace pour générer 20 valeurs de seuils réparties uniformément dans un intervalle qui commence à **<span style=\"color:red\">0.1</span>** unité en dessous du initial_best_threshold et se termine à **<span style=\"color:green\">0.1</span>** unité au-dessus. Cela permet de **tester des seuils légèrement inférieurs et supérieurs au seuil initial estimé comme optimal par la courbe ROC**, afin de voir si un ajustement fin pourrait améliorer le score d'affaires (business_score).\n",
    "\n",
    "C'est une technique commune pour affiner la performance d'un modèle après avoir trouvé une première approximation du seuil qui maximise la balance entre les taux de vrais et faux positifs. Nous pouvez ajuster la gamme (-0.1 à +0.1) et le nombre de seuils (20 dans cet exemple) selon la précision souhaitée et la sensibilité du modèle aux variations de seuil."
   ]
  },
  {
   "cell_type": "markdown",
   "id": "a6dca548",
   "metadata": {},
   "source": [
    "## Importance des caractéristiques\n",
    "Extraction de l'importance des caractéristiques après l'entraînement des modèles :\n",
    "* **Ajustement du préprocesseur :** J'ai ajusté le preprocessor sur les données d'entraînement, ce qui est essentiel pour préparer les features avant de récupérer leur nom.\n",
    "\n",
    "* **Gestion des features catégorielles :** J'ai conditionné l'ajustement des caractéristiques catégorielles et la récupération de leurs noms. C'est utile si la liste des caractéristiques catégorielles peut varier ou être vide.\n",
    "\n",
    "* **Extraction et affichage des importances des caractéristiques :** Après avoir entrainé le modèle, j'ai extrait l'importance de chaque caractéristique et affiché les plus importantes. Cela nous aide à identifier quelles variables ont le plus d'impact sur les prédictions du modèle."
   ]
  },
  {
   "cell_type": "code",
   "execution_count": 32,
   "id": "d6d5eb43",
   "metadata": {},
   "outputs": [
    {
     "data": {
      "text/html": [
       "<style>#sk-container-id-1 {\n",
       "  /* Definition of color scheme common for light and dark mode */\n",
       "  --sklearn-color-text: black;\n",
       "  --sklearn-color-line: gray;\n",
       "  /* Definition of color scheme for unfitted estimators */\n",
       "  --sklearn-color-unfitted-level-0: #fff5e6;\n",
       "  --sklearn-color-unfitted-level-1: #f6e4d2;\n",
       "  --sklearn-color-unfitted-level-2: #ffe0b3;\n",
       "  --sklearn-color-unfitted-level-3: chocolate;\n",
       "  /* Definition of color scheme for fitted estimators */\n",
       "  --sklearn-color-fitted-level-0: #f0f8ff;\n",
       "  --sklearn-color-fitted-level-1: #d4ebff;\n",
       "  --sklearn-color-fitted-level-2: #b3dbfd;\n",
       "  --sklearn-color-fitted-level-3: cornflowerblue;\n",
       "\n",
       "  /* Specific color for light theme */\n",
       "  --sklearn-color-text-on-default-background: var(--sg-text-color, var(--theme-code-foreground, var(--jp-content-font-color1, black)));\n",
       "  --sklearn-color-background: var(--sg-background-color, var(--theme-background, var(--jp-layout-color0, white)));\n",
       "  --sklearn-color-border-box: var(--sg-text-color, var(--theme-code-foreground, var(--jp-content-font-color1, black)));\n",
       "  --sklearn-color-icon: #696969;\n",
       "\n",
       "  @media (prefers-color-scheme: dark) {\n",
       "    /* Redefinition of color scheme for dark theme */\n",
       "    --sklearn-color-text-on-default-background: var(--sg-text-color, var(--theme-code-foreground, var(--jp-content-font-color1, white)));\n",
       "    --sklearn-color-background: var(--sg-background-color, var(--theme-background, var(--jp-layout-color0, #111)));\n",
       "    --sklearn-color-border-box: var(--sg-text-color, var(--theme-code-foreground, var(--jp-content-font-color1, white)));\n",
       "    --sklearn-color-icon: #878787;\n",
       "  }\n",
       "}\n",
       "\n",
       "#sk-container-id-1 {\n",
       "  color: var(--sklearn-color-text);\n",
       "}\n",
       "\n",
       "#sk-container-id-1 pre {\n",
       "  padding: 0;\n",
       "}\n",
       "\n",
       "#sk-container-id-1 input.sk-hidden--visually {\n",
       "  border: 0;\n",
       "  clip: rect(1px 1px 1px 1px);\n",
       "  clip: rect(1px, 1px, 1px, 1px);\n",
       "  height: 1px;\n",
       "  margin: -1px;\n",
       "  overflow: hidden;\n",
       "  padding: 0;\n",
       "  position: absolute;\n",
       "  width: 1px;\n",
       "}\n",
       "\n",
       "#sk-container-id-1 div.sk-dashed-wrapped {\n",
       "  border: 1px dashed var(--sklearn-color-line);\n",
       "  margin: 0 0.4em 0.5em 0.4em;\n",
       "  box-sizing: border-box;\n",
       "  padding-bottom: 0.4em;\n",
       "  background-color: var(--sklearn-color-background);\n",
       "}\n",
       "\n",
       "#sk-container-id-1 div.sk-container {\n",
       "  /* jupyter's `normalize.less` sets `[hidden] { display: none; }`\n",
       "     but bootstrap.min.css set `[hidden] { display: none !important; }`\n",
       "     so we also need the `!important` here to be able to override the\n",
       "     default hidden behavior on the sphinx rendered scikit-learn.org.\n",
       "     See: https://github.com/scikit-learn/scikit-learn/issues/21755 */\n",
       "  display: inline-block !important;\n",
       "  position: relative;\n",
       "}\n",
       "\n",
       "#sk-container-id-1 div.sk-text-repr-fallback {\n",
       "  display: none;\n",
       "}\n",
       "\n",
       "div.sk-parallel-item,\n",
       "div.sk-serial,\n",
       "div.sk-item {\n",
       "  /* draw centered vertical line to link estimators */\n",
       "  background-image: linear-gradient(var(--sklearn-color-text-on-default-background), var(--sklearn-color-text-on-default-background));\n",
       "  background-size: 2px 100%;\n",
       "  background-repeat: no-repeat;\n",
       "  background-position: center center;\n",
       "}\n",
       "\n",
       "/* Parallel-specific style estimator block */\n",
       "\n",
       "#sk-container-id-1 div.sk-parallel-item::after {\n",
       "  content: \"\";\n",
       "  width: 100%;\n",
       "  border-bottom: 2px solid var(--sklearn-color-text-on-default-background);\n",
       "  flex-grow: 1;\n",
       "}\n",
       "\n",
       "#sk-container-id-1 div.sk-parallel {\n",
       "  display: flex;\n",
       "  align-items: stretch;\n",
       "  justify-content: center;\n",
       "  background-color: var(--sklearn-color-background);\n",
       "  position: relative;\n",
       "}\n",
       "\n",
       "#sk-container-id-1 div.sk-parallel-item {\n",
       "  display: flex;\n",
       "  flex-direction: column;\n",
       "}\n",
       "\n",
       "#sk-container-id-1 div.sk-parallel-item:first-child::after {\n",
       "  align-self: flex-end;\n",
       "  width: 50%;\n",
       "}\n",
       "\n",
       "#sk-container-id-1 div.sk-parallel-item:last-child::after {\n",
       "  align-self: flex-start;\n",
       "  width: 50%;\n",
       "}\n",
       "\n",
       "#sk-container-id-1 div.sk-parallel-item:only-child::after {\n",
       "  width: 0;\n",
       "}\n",
       "\n",
       "/* Serial-specific style estimator block */\n",
       "\n",
       "#sk-container-id-1 div.sk-serial {\n",
       "  display: flex;\n",
       "  flex-direction: column;\n",
       "  align-items: center;\n",
       "  background-color: var(--sklearn-color-background);\n",
       "  padding-right: 1em;\n",
       "  padding-left: 1em;\n",
       "}\n",
       "\n",
       "\n",
       "/* Toggleable style: style used for estimator/Pipeline/ColumnTransformer box that is\n",
       "clickable and can be expanded/collapsed.\n",
       "- Pipeline and ColumnTransformer use this feature and define the default style\n",
       "- Estimators will overwrite some part of the style using the `sk-estimator` class\n",
       "*/\n",
       "\n",
       "/* Pipeline and ColumnTransformer style (default) */\n",
       "\n",
       "#sk-container-id-1 div.sk-toggleable {\n",
       "  /* Default theme specific background. It is overwritten whether we have a\n",
       "  specific estimator or a Pipeline/ColumnTransformer */\n",
       "  background-color: var(--sklearn-color-background);\n",
       "}\n",
       "\n",
       "/* Toggleable label */\n",
       "#sk-container-id-1 label.sk-toggleable__label {\n",
       "  cursor: pointer;\n",
       "  display: block;\n",
       "  width: 100%;\n",
       "  margin-bottom: 0;\n",
       "  padding: 0.5em;\n",
       "  box-sizing: border-box;\n",
       "  text-align: center;\n",
       "}\n",
       "\n",
       "#sk-container-id-1 label.sk-toggleable__label-arrow:before {\n",
       "  /* Arrow on the left of the label */\n",
       "  content: \"▸\";\n",
       "  float: left;\n",
       "  margin-right: 0.25em;\n",
       "  color: var(--sklearn-color-icon);\n",
       "}\n",
       "\n",
       "#sk-container-id-1 label.sk-toggleable__label-arrow:hover:before {\n",
       "  color: var(--sklearn-color-text);\n",
       "}\n",
       "\n",
       "/* Toggleable content - dropdown */\n",
       "\n",
       "#sk-container-id-1 div.sk-toggleable__content {\n",
       "  max-height: 0;\n",
       "  max-width: 0;\n",
       "  overflow: hidden;\n",
       "  text-align: left;\n",
       "  /* unfitted */\n",
       "  background-color: var(--sklearn-color-unfitted-level-0);\n",
       "}\n",
       "\n",
       "#sk-container-id-1 div.sk-toggleable__content.fitted {\n",
       "  /* fitted */\n",
       "  background-color: var(--sklearn-color-fitted-level-0);\n",
       "}\n",
       "\n",
       "#sk-container-id-1 div.sk-toggleable__content pre {\n",
       "  margin: 0.2em;\n",
       "  border-radius: 0.25em;\n",
       "  color: var(--sklearn-color-text);\n",
       "  /* unfitted */\n",
       "  background-color: var(--sklearn-color-unfitted-level-0);\n",
       "}\n",
       "\n",
       "#sk-container-id-1 div.sk-toggleable__content.fitted pre {\n",
       "  /* unfitted */\n",
       "  background-color: var(--sklearn-color-fitted-level-0);\n",
       "}\n",
       "\n",
       "#sk-container-id-1 input.sk-toggleable__control:checked~div.sk-toggleable__content {\n",
       "  /* Expand drop-down */\n",
       "  max-height: 200px;\n",
       "  max-width: 100%;\n",
       "  overflow: auto;\n",
       "}\n",
       "\n",
       "#sk-container-id-1 input.sk-toggleable__control:checked~label.sk-toggleable__label-arrow:before {\n",
       "  content: \"▾\";\n",
       "}\n",
       "\n",
       "/* Pipeline/ColumnTransformer-specific style */\n",
       "\n",
       "#sk-container-id-1 div.sk-label input.sk-toggleable__control:checked~label.sk-toggleable__label {\n",
       "  color: var(--sklearn-color-text);\n",
       "  background-color: var(--sklearn-color-unfitted-level-2);\n",
       "}\n",
       "\n",
       "#sk-container-id-1 div.sk-label.fitted input.sk-toggleable__control:checked~label.sk-toggleable__label {\n",
       "  background-color: var(--sklearn-color-fitted-level-2);\n",
       "}\n",
       "\n",
       "/* Estimator-specific style */\n",
       "\n",
       "/* Colorize estimator box */\n",
       "#sk-container-id-1 div.sk-estimator input.sk-toggleable__control:checked~label.sk-toggleable__label {\n",
       "  /* unfitted */\n",
       "  background-color: var(--sklearn-color-unfitted-level-2);\n",
       "}\n",
       "\n",
       "#sk-container-id-1 div.sk-estimator.fitted input.sk-toggleable__control:checked~label.sk-toggleable__label {\n",
       "  /* fitted */\n",
       "  background-color: var(--sklearn-color-fitted-level-2);\n",
       "}\n",
       "\n",
       "#sk-container-id-1 div.sk-label label.sk-toggleable__label,\n",
       "#sk-container-id-1 div.sk-label label {\n",
       "  /* The background is the default theme color */\n",
       "  color: var(--sklearn-color-text-on-default-background);\n",
       "}\n",
       "\n",
       "/* On hover, darken the color of the background */\n",
       "#sk-container-id-1 div.sk-label:hover label.sk-toggleable__label {\n",
       "  color: var(--sklearn-color-text);\n",
       "  background-color: var(--sklearn-color-unfitted-level-2);\n",
       "}\n",
       "\n",
       "/* Label box, darken color on hover, fitted */\n",
       "#sk-container-id-1 div.sk-label.fitted:hover label.sk-toggleable__label.fitted {\n",
       "  color: var(--sklearn-color-text);\n",
       "  background-color: var(--sklearn-color-fitted-level-2);\n",
       "}\n",
       "\n",
       "/* Estimator label */\n",
       "\n",
       "#sk-container-id-1 div.sk-label label {\n",
       "  font-family: monospace;\n",
       "  font-weight: bold;\n",
       "  display: inline-block;\n",
       "  line-height: 1.2em;\n",
       "}\n",
       "\n",
       "#sk-container-id-1 div.sk-label-container {\n",
       "  text-align: center;\n",
       "}\n",
       "\n",
       "/* Estimator-specific */\n",
       "#sk-container-id-1 div.sk-estimator {\n",
       "  font-family: monospace;\n",
       "  border: 1px dotted var(--sklearn-color-border-box);\n",
       "  border-radius: 0.25em;\n",
       "  box-sizing: border-box;\n",
       "  margin-bottom: 0.5em;\n",
       "  /* unfitted */\n",
       "  background-color: var(--sklearn-color-unfitted-level-0);\n",
       "}\n",
       "\n",
       "#sk-container-id-1 div.sk-estimator.fitted {\n",
       "  /* fitted */\n",
       "  background-color: var(--sklearn-color-fitted-level-0);\n",
       "}\n",
       "\n",
       "/* on hover */\n",
       "#sk-container-id-1 div.sk-estimator:hover {\n",
       "  /* unfitted */\n",
       "  background-color: var(--sklearn-color-unfitted-level-2);\n",
       "}\n",
       "\n",
       "#sk-container-id-1 div.sk-estimator.fitted:hover {\n",
       "  /* fitted */\n",
       "  background-color: var(--sklearn-color-fitted-level-2);\n",
       "}\n",
       "\n",
       "/* Specification for estimator info (e.g. \"i\" and \"?\") */\n",
       "\n",
       "/* Common style for \"i\" and \"?\" */\n",
       "\n",
       ".sk-estimator-doc-link,\n",
       "a:link.sk-estimator-doc-link,\n",
       "a:visited.sk-estimator-doc-link {\n",
       "  float: right;\n",
       "  font-size: smaller;\n",
       "  line-height: 1em;\n",
       "  font-family: monospace;\n",
       "  background-color: var(--sklearn-color-background);\n",
       "  border-radius: 1em;\n",
       "  height: 1em;\n",
       "  width: 1em;\n",
       "  text-decoration: none !important;\n",
       "  margin-left: 1ex;\n",
       "  /* unfitted */\n",
       "  border: var(--sklearn-color-unfitted-level-1) 1pt solid;\n",
       "  color: var(--sklearn-color-unfitted-level-1);\n",
       "}\n",
       "\n",
       ".sk-estimator-doc-link.fitted,\n",
       "a:link.sk-estimator-doc-link.fitted,\n",
       "a:visited.sk-estimator-doc-link.fitted {\n",
       "  /* fitted */\n",
       "  border: var(--sklearn-color-fitted-level-1) 1pt solid;\n",
       "  color: var(--sklearn-color-fitted-level-1);\n",
       "}\n",
       "\n",
       "/* On hover */\n",
       "div.sk-estimator:hover .sk-estimator-doc-link:hover,\n",
       ".sk-estimator-doc-link:hover,\n",
       "div.sk-label-container:hover .sk-estimator-doc-link:hover,\n",
       ".sk-estimator-doc-link:hover {\n",
       "  /* unfitted */\n",
       "  background-color: var(--sklearn-color-unfitted-level-3);\n",
       "  color: var(--sklearn-color-background);\n",
       "  text-decoration: none;\n",
       "}\n",
       "\n",
       "div.sk-estimator.fitted:hover .sk-estimator-doc-link.fitted:hover,\n",
       ".sk-estimator-doc-link.fitted:hover,\n",
       "div.sk-label-container:hover .sk-estimator-doc-link.fitted:hover,\n",
       ".sk-estimator-doc-link.fitted:hover {\n",
       "  /* fitted */\n",
       "  background-color: var(--sklearn-color-fitted-level-3);\n",
       "  color: var(--sklearn-color-background);\n",
       "  text-decoration: none;\n",
       "}\n",
       "\n",
       "/* Span, style for the box shown on hovering the info icon */\n",
       ".sk-estimator-doc-link span {\n",
       "  display: none;\n",
       "  z-index: 9999;\n",
       "  position: relative;\n",
       "  font-weight: normal;\n",
       "  right: .2ex;\n",
       "  padding: .5ex;\n",
       "  margin: .5ex;\n",
       "  width: min-content;\n",
       "  min-width: 20ex;\n",
       "  max-width: 50ex;\n",
       "  color: var(--sklearn-color-text);\n",
       "  box-shadow: 2pt 2pt 4pt #999;\n",
       "  /* unfitted */\n",
       "  background: var(--sklearn-color-unfitted-level-0);\n",
       "  border: .5pt solid var(--sklearn-color-unfitted-level-3);\n",
       "}\n",
       "\n",
       ".sk-estimator-doc-link.fitted span {\n",
       "  /* fitted */\n",
       "  background: var(--sklearn-color-fitted-level-0);\n",
       "  border: var(--sklearn-color-fitted-level-3);\n",
       "}\n",
       "\n",
       ".sk-estimator-doc-link:hover span {\n",
       "  display: block;\n",
       "}\n",
       "\n",
       "/* \"?\"-specific style due to the `<a>` HTML tag */\n",
       "\n",
       "#sk-container-id-1 a.estimator_doc_link {\n",
       "  float: right;\n",
       "  font-size: 1rem;\n",
       "  line-height: 1em;\n",
       "  font-family: monospace;\n",
       "  background-color: var(--sklearn-color-background);\n",
       "  border-radius: 1rem;\n",
       "  height: 1rem;\n",
       "  width: 1rem;\n",
       "  text-decoration: none;\n",
       "  /* unfitted */\n",
       "  color: var(--sklearn-color-unfitted-level-1);\n",
       "  border: var(--sklearn-color-unfitted-level-1) 1pt solid;\n",
       "}\n",
       "\n",
       "#sk-container-id-1 a.estimator_doc_link.fitted {\n",
       "  /* fitted */\n",
       "  border: var(--sklearn-color-fitted-level-1) 1pt solid;\n",
       "  color: var(--sklearn-color-fitted-level-1);\n",
       "}\n",
       "\n",
       "/* On hover */\n",
       "#sk-container-id-1 a.estimator_doc_link:hover {\n",
       "  /* unfitted */\n",
       "  background-color: var(--sklearn-color-unfitted-level-3);\n",
       "  color: var(--sklearn-color-background);\n",
       "  text-decoration: none;\n",
       "}\n",
       "\n",
       "#sk-container-id-1 a.estimator_doc_link.fitted:hover {\n",
       "  /* fitted */\n",
       "  background-color: var(--sklearn-color-fitted-level-3);\n",
       "}\n",
       "</style><div id=\"sk-container-id-1\" class=\"sk-top-container\"><div class=\"sk-text-repr-fallback\"><pre>ColumnTransformer(transformers=[(&#x27;num&#x27;,\n",
       "                                 Pipeline(steps=[(&#x27;imputer&#x27;,\n",
       "                                                  SimpleImputer(strategy=&#x27;median&#x27;)),\n",
       "                                                 (&#x27;scaler&#x27;, StandardScaler())]),\n",
       "                                 [&#x27;NAME_CONTRACT_TYPE&#x27;, &#x27;CODE_GENDER&#x27;,\n",
       "                                  &#x27;FLAG_OWN_CAR&#x27;, &#x27;FLAG_OWN_REALTY&#x27;,\n",
       "                                  &#x27;CNT_CHILDREN&#x27;, &#x27;AMT_INCOME_TOTAL&#x27;,\n",
       "                                  &#x27;AMT_CREDIT&#x27;, &#x27;AMT_ANNUITY&#x27;,\n",
       "                                  &#x27;REGION_POPULATION_RELATIVE&#x27;, &#x27;DAYS_BIRTH&#x27;,\n",
       "                                  &#x27;DAYS_EMPLOYED&#x27;, &#x27;DAYS_REGISTRATION&#x27;,\n",
       "                                  &#x27;DAYS_ID_PUB...\n",
       "                                  &#x27;REGION_RATING_CLIENT_W_CITY&#x27;,\n",
       "                                  &#x27;HOUR_APPR_PROCESS_START&#x27;,\n",
       "                                  &#x27;REG_REGION_NOT_LIVE_REGION&#x27;,\n",
       "                                  &#x27;REG_REGION_NOT_WORK_REGION&#x27;,\n",
       "                                  &#x27;LIVE_REGION_NOT_WORK_REGION&#x27;,\n",
       "                                  &#x27;REG_CITY_NOT_LIVE_CITY&#x27;,\n",
       "                                  &#x27;REG_CITY_NOT_WORK_CITY&#x27;,\n",
       "                                  &#x27;LIVE_CITY_NOT_WORK_CITY&#x27;, ...]),\n",
       "                                (&#x27;cat&#x27;,\n",
       "                                 Pipeline(steps=[(&#x27;imputer&#x27;,\n",
       "                                                  SimpleImputer(strategy=&#x27;most_frequent&#x27;)),\n",
       "                                                 (&#x27;onehot&#x27;,\n",
       "                                                  OneHotEncoder(handle_unknown=&#x27;ignore&#x27;))]),\n",
       "                                 [])])</pre><b>In a Jupyter environment, please rerun this cell to show the HTML representation or trust the notebook. <br />On GitHub, the HTML representation is unable to render, please try loading this page with nbviewer.org.</b></div><div class=\"sk-container\" hidden><div class=\"sk-item sk-dashed-wrapped\"><div class=\"sk-label-container\"><div class=\"sk-label fitted sk-toggleable\"><input class=\"sk-toggleable__control sk-hidden--visually\" id=\"sk-estimator-id-1\" type=\"checkbox\" ><label for=\"sk-estimator-id-1\" class=\"sk-toggleable__label fitted sk-toggleable__label-arrow fitted\">&nbsp;&nbsp;ColumnTransformer<a class=\"sk-estimator-doc-link fitted\" rel=\"noreferrer\" target=\"_blank\" href=\"https://scikit-learn.org/1.4/modules/generated/sklearn.compose.ColumnTransformer.html\">?<span>Documentation for ColumnTransformer</span></a><span class=\"sk-estimator-doc-link fitted\">i<span>Fitted</span></span></label><div class=\"sk-toggleable__content fitted\"><pre>ColumnTransformer(transformers=[(&#x27;num&#x27;,\n",
       "                                 Pipeline(steps=[(&#x27;imputer&#x27;,\n",
       "                                                  SimpleImputer(strategy=&#x27;median&#x27;)),\n",
       "                                                 (&#x27;scaler&#x27;, StandardScaler())]),\n",
       "                                 [&#x27;NAME_CONTRACT_TYPE&#x27;, &#x27;CODE_GENDER&#x27;,\n",
       "                                  &#x27;FLAG_OWN_CAR&#x27;, &#x27;FLAG_OWN_REALTY&#x27;,\n",
       "                                  &#x27;CNT_CHILDREN&#x27;, &#x27;AMT_INCOME_TOTAL&#x27;,\n",
       "                                  &#x27;AMT_CREDIT&#x27;, &#x27;AMT_ANNUITY&#x27;,\n",
       "                                  &#x27;REGION_POPULATION_RELATIVE&#x27;, &#x27;DAYS_BIRTH&#x27;,\n",
       "                                  &#x27;DAYS_EMPLOYED&#x27;, &#x27;DAYS_REGISTRATION&#x27;,\n",
       "                                  &#x27;DAYS_ID_PUB...\n",
       "                                  &#x27;REGION_RATING_CLIENT_W_CITY&#x27;,\n",
       "                                  &#x27;HOUR_APPR_PROCESS_START&#x27;,\n",
       "                                  &#x27;REG_REGION_NOT_LIVE_REGION&#x27;,\n",
       "                                  &#x27;REG_REGION_NOT_WORK_REGION&#x27;,\n",
       "                                  &#x27;LIVE_REGION_NOT_WORK_REGION&#x27;,\n",
       "                                  &#x27;REG_CITY_NOT_LIVE_CITY&#x27;,\n",
       "                                  &#x27;REG_CITY_NOT_WORK_CITY&#x27;,\n",
       "                                  &#x27;LIVE_CITY_NOT_WORK_CITY&#x27;, ...]),\n",
       "                                (&#x27;cat&#x27;,\n",
       "                                 Pipeline(steps=[(&#x27;imputer&#x27;,\n",
       "                                                  SimpleImputer(strategy=&#x27;most_frequent&#x27;)),\n",
       "                                                 (&#x27;onehot&#x27;,\n",
       "                                                  OneHotEncoder(handle_unknown=&#x27;ignore&#x27;))]),\n",
       "                                 [])])</pre></div> </div></div><div class=\"sk-parallel\"><div class=\"sk-parallel-item\"><div class=\"sk-item\"><div class=\"sk-label-container\"><div class=\"sk-label fitted sk-toggleable\"><input class=\"sk-toggleable__control sk-hidden--visually\" id=\"sk-estimator-id-2\" type=\"checkbox\" ><label for=\"sk-estimator-id-2\" class=\"sk-toggleable__label fitted sk-toggleable__label-arrow fitted\">num</label><div class=\"sk-toggleable__content fitted\"><pre>[&#x27;NAME_CONTRACT_TYPE&#x27;, &#x27;CODE_GENDER&#x27;, &#x27;FLAG_OWN_CAR&#x27;, &#x27;FLAG_OWN_REALTY&#x27;, &#x27;CNT_CHILDREN&#x27;, &#x27;AMT_INCOME_TOTAL&#x27;, &#x27;AMT_CREDIT&#x27;, &#x27;AMT_ANNUITY&#x27;, &#x27;REGION_POPULATION_RELATIVE&#x27;, &#x27;DAYS_BIRTH&#x27;, &#x27;DAYS_EMPLOYED&#x27;, &#x27;DAYS_REGISTRATION&#x27;, &#x27;DAYS_ID_PUBLISH&#x27;, &#x27;OWN_CAR_AGE&#x27;, &#x27;FLAG_MOBIL&#x27;, &#x27;FLAG_EMP_PHONE&#x27;, &#x27;FLAG_WORK_PHONE&#x27;, &#x27;FLAG_CONT_MOBILE&#x27;, &#x27;FLAG_PHONE&#x27;, &#x27;FLAG_EMAIL&#x27;, &#x27;CNT_FAM_MEMBERS&#x27;, &#x27;REGION_RATING_CLIENT&#x27;, &#x27;REGION_RATING_CLIENT_W_CITY&#x27;, &#x27;HOUR_APPR_PROCESS_START&#x27;, &#x27;REG_REGION_NOT_LIVE_REGION&#x27;, &#x27;REG_REGION_NOT_WORK_REGION&#x27;, &#x27;LIVE_REGION_NOT_WORK_REGION&#x27;, &#x27;REG_CITY_NOT_LIVE_CITY&#x27;, &#x27;REG_CITY_NOT_WORK_CITY&#x27;, &#x27;LIVE_CITY_NOT_WORK_CITY&#x27;, &#x27;EXT_SOURCE_1&#x27;, &#x27;EXT_SOURCE_2&#x27;, &#x27;EXT_SOURCE_3&#x27;, &#x27;APARTMENTS_AVG&#x27;, &#x27;BASEMENTAREA_AVG&#x27;, &#x27;YEARS_BEGINEXPLUATATION_AVG&#x27;, &#x27;YEARS_BUILD_AVG&#x27;, &#x27;COMMONAREA_AVG&#x27;, &#x27;ELEVATORS_AVG&#x27;, &#x27;ENTRANCES_AVG&#x27;, &#x27;FLOORSMAX_AVG&#x27;, &#x27;FLOORSMIN_AVG&#x27;, &#x27;LANDAREA_AVG&#x27;, &#x27;LIVINGAPARTMENTS_AVG&#x27;, &#x27;LIVINGAREA_AVG&#x27;, &#x27;NONLIVINGAPARTMENTS_AVG&#x27;, &#x27;NONLIVINGAREA_AVG&#x27;, &#x27;APARTMENTS_MODE&#x27;, &#x27;BASEMENTAREA_MODE&#x27;, &#x27;YEARS_BEGINEXPLUATATION_MODE&#x27;, &#x27;COMMONAREA_MODE&#x27;, &#x27;ELEVATORS_MODE&#x27;, &#x27;ENTRANCES_MODE&#x27;, &#x27;LANDAREA_MODE&#x27;, &#x27;LIVINGAPARTMENTS_MODE&#x27;, &#x27;LIVINGAREA_MODE&#x27;, &#x27;NONLIVINGAPARTMENTS_MODE&#x27;, &#x27;NONLIVINGAREA_MODE&#x27;, &#x27;TOTALAREA_MODE&#x27;, &#x27;EMERGENCYSTATE_MODE&#x27;, &#x27;OBS_30_CNT_SOCIAL_CIRCLE&#x27;, &#x27;DEF_30_CNT_SOCIAL_CIRCLE&#x27;, &#x27;DEF_60_CNT_SOCIAL_CIRCLE&#x27;, &#x27;DAYS_LAST_PHONE_CHANGE&#x27;, &#x27;FLAG_DOCUMENT_2&#x27;, &#x27;FLAG_DOCUMENT_3&#x27;, &#x27;FLAG_DOCUMENT_4&#x27;, &#x27;FLAG_DOCUMENT_5&#x27;, &#x27;FLAG_DOCUMENT_6&#x27;, &#x27;FLAG_DOCUMENT_7&#x27;, &#x27;FLAG_DOCUMENT_8&#x27;, &#x27;FLAG_DOCUMENT_9&#x27;, &#x27;FLAG_DOCUMENT_10&#x27;, &#x27;FLAG_DOCUMENT_11&#x27;, &#x27;FLAG_DOCUMENT_12&#x27;, &#x27;FLAG_DOCUMENT_13&#x27;, &#x27;FLAG_DOCUMENT_14&#x27;, &#x27;FLAG_DOCUMENT_15&#x27;, &#x27;FLAG_DOCUMENT_16&#x27;, &#x27;FLAG_DOCUMENT_17&#x27;, &#x27;FLAG_DOCUMENT_18&#x27;, &#x27;FLAG_DOCUMENT_19&#x27;, &#x27;FLAG_DOCUMENT_20&#x27;, &#x27;FLAG_DOCUMENT_21&#x27;, &#x27;AMT_REQ_CREDIT_BUREAU_HOUR&#x27;, &#x27;AMT_REQ_CREDIT_BUREAU_DAY&#x27;, &#x27;AMT_REQ_CREDIT_BUREAU_WEEK&#x27;, &#x27;AMT_REQ_CREDIT_BUREAU_MON&#x27;, &#x27;AMT_REQ_CREDIT_BUREAU_QRT&#x27;, &#x27;AMT_REQ_CREDIT_BUREAU_YEAR&#x27;, &#x27;DAYS_EMPLOYED_PERC&#x27;, &#x27;INCOME_CREDIT_PERC&#x27;, &#x27;INCOME_PER_PERSON&#x27;, &#x27;ANNUITY_INCOME_PERC&#x27;, &#x27;PAYMENT_RATE&#x27;, &#x27;NAME_TYPE_SUITE_Children&#x27;, &#x27;NAME_TYPE_SUITE_Family&#x27;, &#x27;NAME_TYPE_SUITE_Group of people&#x27;, &#x27;NAME_TYPE_SUITE_Other_A&#x27;, &#x27;NAME_TYPE_SUITE_Other_B&#x27;, &#x27;NAME_TYPE_SUITE_Spouse, partner&#x27;, &#x27;NAME_TYPE_SUITE_Unaccompanied&#x27;, &#x27;NAME_INCOME_TYPE_Businessman&#x27;, &#x27;NAME_INCOME_TYPE_Commercial associate&#x27;, &#x27;NAME_INCOME_TYPE_Maternity leave&#x27;, &#x27;NAME_INCOME_TYPE_State servant&#x27;, &#x27;NAME_INCOME_TYPE_Student&#x27;, &#x27;NAME_INCOME_TYPE_Unemployed&#x27;, &#x27;NAME_INCOME_TYPE_Working&#x27;, &#x27;NAME_EDUCATION_TYPE_Academic degree&#x27;, &#x27;NAME_EDUCATION_TYPE_Higher education&#x27;, &#x27;NAME_EDUCATION_TYPE_Incomplete higher&#x27;, &#x27;NAME_EDUCATION_TYPE_Lower secondary&#x27;, &#x27;NAME_EDUCATION_TYPE_Secondary / secondary special&#x27;, &#x27;NAME_FAMILY_STATUS_Civil marriage&#x27;, &#x27;NAME_FAMILY_STATUS_Married&#x27;, &#x27;NAME_FAMILY_STATUS_Separated&#x27;, &#x27;NAME_FAMILY_STATUS_Single / not married&#x27;, &#x27;NAME_FAMILY_STATUS_Unknown&#x27;, &#x27;NAME_FAMILY_STATUS_Widow&#x27;, &#x27;NAME_HOUSING_TYPE_Co-op apartment&#x27;, &#x27;NAME_HOUSING_TYPE_House / apartment&#x27;, &#x27;NAME_HOUSING_TYPE_Municipal apartment&#x27;, &#x27;NAME_HOUSING_TYPE_Office apartment&#x27;, &#x27;NAME_HOUSING_TYPE_Rented apartment&#x27;, &#x27;NAME_HOUSING_TYPE_With parents&#x27;, &#x27;OCCUPATION_TYPE_Accountants&#x27;, &#x27;OCCUPATION_TYPE_Cleaning staff&#x27;, &#x27;OCCUPATION_TYPE_Cooking staff&#x27;, &#x27;OCCUPATION_TYPE_Core staff&#x27;, &#x27;OCCUPATION_TYPE_Drivers&#x27;, &#x27;OCCUPATION_TYPE_HR staff&#x27;, &#x27;OCCUPATION_TYPE_High skill tech staff&#x27;, &#x27;OCCUPATION_TYPE_IT staff&#x27;, &#x27;OCCUPATION_TYPE_Laborers&#x27;, &#x27;OCCUPATION_TYPE_Low-skill Laborers&#x27;, &#x27;OCCUPATION_TYPE_Managers&#x27;, &#x27;OCCUPATION_TYPE_Medicine staff&#x27;, &#x27;OCCUPATION_TYPE_Private service staff&#x27;, &#x27;OCCUPATION_TYPE_Realty agents&#x27;, &#x27;OCCUPATION_TYPE_Sales staff&#x27;, &#x27;OCCUPATION_TYPE_Secretaries&#x27;, &#x27;OCCUPATION_TYPE_Security staff&#x27;, &#x27;OCCUPATION_TYPE_Waiters/barmen staff&#x27;, &#x27;WEEKDAY_APPR_PROCESS_START_FRIDAY&#x27;, &#x27;WEEKDAY_APPR_PROCESS_START_MONDAY&#x27;, &#x27;WEEKDAY_APPR_PROCESS_START_SATURDAY&#x27;, &#x27;WEEKDAY_APPR_PROCESS_START_SUNDAY&#x27;, &#x27;WEEKDAY_APPR_PROCESS_START_THURSDAY&#x27;, &#x27;WEEKDAY_APPR_PROCESS_START_TUESDAY&#x27;, &#x27;WEEKDAY_APPR_PROCESS_START_WEDNESDAY&#x27;, &#x27;ORGANIZATION_TYPE_Advertising&#x27;, &#x27;ORGANIZATION_TYPE_Agriculture&#x27;, &#x27;ORGANIZATION_TYPE_Bank&#x27;, &#x27;ORGANIZATION_TYPE_Business Entity Type 1&#x27;, &#x27;ORGANIZATION_TYPE_Business Entity Type 2&#x27;, &#x27;ORGANIZATION_TYPE_Business Entity Type 3&#x27;, &#x27;ORGANIZATION_TYPE_Cleaning&#x27;, &#x27;ORGANIZATION_TYPE_Construction&#x27;, &#x27;ORGANIZATION_TYPE_Culture&#x27;, &#x27;ORGANIZATION_TYPE_Electricity&#x27;, &#x27;ORGANIZATION_TYPE_Emergency&#x27;, &#x27;ORGANIZATION_TYPE_Government&#x27;, &#x27;ORGANIZATION_TYPE_Hotel&#x27;, &#x27;ORGANIZATION_TYPE_Housing&#x27;, &#x27;ORGANIZATION_TYPE_Industry: type 1&#x27;, &#x27;ORGANIZATION_TYPE_Industry: type 10&#x27;, &#x27;ORGANIZATION_TYPE_Industry: type 11&#x27;, &#x27;ORGANIZATION_TYPE_Industry: type 12&#x27;, &#x27;ORGANIZATION_TYPE_Industry: type 13&#x27;, &#x27;ORGANIZATION_TYPE_Industry: type 2&#x27;, &#x27;ORGANIZATION_TYPE_Industry: type 3&#x27;, &#x27;ORGANIZATION_TYPE_Industry: type 4&#x27;, &#x27;ORGANIZATION_TYPE_Industry: type 5&#x27;, &#x27;ORGANIZATION_TYPE_Industry: type 6&#x27;, &#x27;ORGANIZATION_TYPE_Industry: type 7&#x27;, &#x27;ORGANIZATION_TYPE_Industry: type 8&#x27;, &#x27;ORGANIZATION_TYPE_Industry: type 9&#x27;, &#x27;ORGANIZATION_TYPE_Insurance&#x27;, &#x27;ORGANIZATION_TYPE_Kindergarten&#x27;, &#x27;ORGANIZATION_TYPE_Legal Services&#x27;, &#x27;ORGANIZATION_TYPE_Medicine&#x27;, &#x27;ORGANIZATION_TYPE_Military&#x27;, &#x27;ORGANIZATION_TYPE_Mobile&#x27;, &#x27;ORGANIZATION_TYPE_Other&#x27;, &#x27;ORGANIZATION_TYPE_Police&#x27;, &#x27;ORGANIZATION_TYPE_Postal&#x27;, &#x27;ORGANIZATION_TYPE_Realtor&#x27;, &#x27;ORGANIZATION_TYPE_Religion&#x27;, &#x27;ORGANIZATION_TYPE_Restaurant&#x27;, &#x27;ORGANIZATION_TYPE_School&#x27;, &#x27;ORGANIZATION_TYPE_Security&#x27;, &#x27;ORGANIZATION_TYPE_Security Ministries&#x27;, &#x27;ORGANIZATION_TYPE_Self-employed&#x27;, &#x27;ORGANIZATION_TYPE_Services&#x27;, &#x27;ORGANIZATION_TYPE_Telecom&#x27;, &#x27;ORGANIZATION_TYPE_Trade: type 1&#x27;, &#x27;ORGANIZATION_TYPE_Trade: type 2&#x27;, &#x27;ORGANIZATION_TYPE_Trade: type 3&#x27;, &#x27;ORGANIZATION_TYPE_Trade: type 4&#x27;, &#x27;ORGANIZATION_TYPE_Trade: type 5&#x27;, &#x27;ORGANIZATION_TYPE_Trade: type 6&#x27;, &#x27;ORGANIZATION_TYPE_Trade: type 7&#x27;, &#x27;ORGANIZATION_TYPE_Transport: type 1&#x27;, &#x27;ORGANIZATION_TYPE_Transport: type 2&#x27;, &#x27;ORGANIZATION_TYPE_Transport: type 3&#x27;, &#x27;ORGANIZATION_TYPE_Transport: type 4&#x27;, &#x27;ORGANIZATION_TYPE_University&#x27;, &#x27;FONDKAPREMONT_MODE_not specified&#x27;, &#x27;FONDKAPREMONT_MODE_org spec account&#x27;, &#x27;FONDKAPREMONT_MODE_reg oper account&#x27;, &#x27;FONDKAPREMONT_MODE_reg oper spec account&#x27;, &#x27;HOUSETYPE_MODE_block of flats&#x27;, &#x27;HOUSETYPE_MODE_specific housing&#x27;, &#x27;HOUSETYPE_MODE_terraced house&#x27;, &#x27;WALLSMATERIAL_MODE_Block&#x27;, &#x27;WALLSMATERIAL_MODE_Mixed&#x27;, &#x27;WALLSMATERIAL_MODE_Monolithic&#x27;, &#x27;WALLSMATERIAL_MODE_Others&#x27;, &#x27;WALLSMATERIAL_MODE_Panel&#x27;, &#x27;WALLSMATERIAL_MODE_Stone, brick&#x27;, &#x27;WALLSMATERIAL_MODE_Wooden&#x27;, &#x27;BURO_DAYS_CREDIT_MIN&#x27;, &#x27;BURO_DAYS_CREDIT_MAX&#x27;, &#x27;BURO_DAYS_CREDIT_MEAN&#x27;, &#x27;BURO_DAYS_CREDIT_VAR&#x27;, &#x27;BURO_DAYS_CREDIT_ENDDATE_MIN&#x27;, &#x27;BURO_DAYS_CREDIT_ENDDATE_MAX&#x27;, &#x27;BURO_DAYS_CREDIT_ENDDATE_MEAN&#x27;, &#x27;BURO_DAYS_CREDIT_UPDATE_MEAN&#x27;, &#x27;BURO_CREDIT_DAY_OVERDUE_MAX&#x27;, &#x27;BURO_CREDIT_DAY_OVERDUE_MEAN&#x27;, &#x27;BURO_AMT_CREDIT_MAX_OVERDUE_MEAN&#x27;, &#x27;BURO_AMT_CREDIT_SUM_MAX&#x27;, &#x27;BURO_AMT_CREDIT_SUM_MEAN&#x27;, &#x27;BURO_AMT_CREDIT_SUM_SUM&#x27;, &#x27;BURO_AMT_CREDIT_SUM_DEBT_MAX&#x27;, &#x27;BURO_AMT_CREDIT_SUM_DEBT_MEAN&#x27;, &#x27;BURO_AMT_CREDIT_SUM_DEBT_SUM&#x27;, &#x27;BURO_AMT_CREDIT_SUM_OVERDUE_MEAN&#x27;, &#x27;BURO_AMT_CREDIT_SUM_LIMIT_MEAN&#x27;, &#x27;BURO_AMT_CREDIT_SUM_LIMIT_SUM&#x27;, &#x27;BURO_AMT_ANNUITY_MAX&#x27;, &#x27;BURO_AMT_ANNUITY_MEAN&#x27;, &#x27;BURO_CNT_CREDIT_PROLONG_SUM&#x27;, &#x27;BURO_MONTHS_BALANCE_MAX_MAX&#x27;, &#x27;BURO_MONTHS_BALANCE_SIZE_MEAN&#x27;, &#x27;BURO_MONTHS_BALANCE_SIZE_SUM&#x27;, &#x27;BURO_CREDIT_ACTIVE_Active_MEAN&#x27;, &#x27;BURO_CREDIT_ACTIVE_Bad debt_MEAN&#x27;, &#x27;BURO_CREDIT_ACTIVE_Sold_MEAN&#x27;, &#x27;BURO_CREDIT_CURRENCY_currency 1_MEAN&#x27;, &#x27;BURO_CREDIT_CURRENCY_currency 2_MEAN&#x27;, &#x27;BURO_CREDIT_CURRENCY_currency 3_MEAN&#x27;, &#x27;BURO_CREDIT_CURRENCY_currency 4_MEAN&#x27;, &#x27;BURO_CREDIT_TYPE_Another type of loan_MEAN&#x27;, &#x27;BURO_CREDIT_TYPE_Car loan_MEAN&#x27;, &#x27;BURO_CREDIT_TYPE_Cash loan (non-earmarked)_MEAN&#x27;, &#x27;BURO_CREDIT_TYPE_Consumer credit_MEAN&#x27;, &#x27;BURO_CREDIT_TYPE_Credit card_MEAN&#x27;, &#x27;BURO_CREDIT_TYPE_Interbank credit_MEAN&#x27;, &#x27;BURO_CREDIT_TYPE_Loan for business development_MEAN&#x27;, &#x27;BURO_CREDIT_TYPE_Loan for purchase of shares (margin lending)_MEAN&#x27;, &#x27;BURO_CREDIT_TYPE_Loan for the purchase of equipment_MEAN&#x27;, &#x27;BURO_CREDIT_TYPE_Loan for working capital replenishment_MEAN&#x27;, &#x27;BURO_CREDIT_TYPE_Microloan_MEAN&#x27;, &#x27;BURO_CREDIT_TYPE_Mobile operator loan_MEAN&#x27;, &#x27;BURO_CREDIT_TYPE_Mortgage_MEAN&#x27;, &#x27;BURO_CREDIT_TYPE_Real estate loan_MEAN&#x27;, &#x27;BURO_CREDIT_TYPE_Unknown type of loan_MEAN&#x27;, &#x27;BURO_STATUS_0_MEAN_MEAN&#x27;, &#x27;BURO_STATUS_1_MEAN_MEAN&#x27;, &#x27;BURO_STATUS_2_MEAN_MEAN&#x27;, &#x27;BURO_STATUS_3_MEAN_MEAN&#x27;, &#x27;BURO_STATUS_4_MEAN_MEAN&#x27;, &#x27;BURO_STATUS_5_MEAN_MEAN&#x27;, &#x27;BURO_STATUS_C_MEAN_MEAN&#x27;, &#x27;BURO_STATUS_X_MEAN_MEAN&#x27;, &#x27;BURO_COUNT&#x27;, &#x27;CC_MONTHS_BALANCE_MIN&#x27;, &#x27;CC_MONTHS_BALANCE_MAX&#x27;, &#x27;CC_AMT_BALANCE_MIN&#x27;, &#x27;CC_AMT_BALANCE_MAX&#x27;, &#x27;CC_AMT_BALANCE_MEAN&#x27;, &#x27;CC_AMT_BALANCE_SUM&#x27;, &#x27;CC_AMT_BALANCE_VAR&#x27;, &#x27;CC_AMT_CREDIT_LIMIT_ACTUAL_MIN&#x27;, &#x27;CC_AMT_CREDIT_LIMIT_ACTUAL_MAX&#x27;, &#x27;CC_AMT_CREDIT_LIMIT_ACTUAL_MEAN&#x27;, &#x27;CC_AMT_CREDIT_LIMIT_ACTUAL_SUM&#x27;, &#x27;CC_AMT_CREDIT_LIMIT_ACTUAL_VAR&#x27;, &#x27;CC_AMT_DRAWINGS_ATM_CURRENT_MIN&#x27;, &#x27;CC_AMT_DRAWINGS_ATM_CURRENT_MAX&#x27;, &#x27;CC_AMT_DRAWINGS_ATM_CURRENT_MEAN&#x27;, &#x27;CC_AMT_DRAWINGS_ATM_CURRENT_SUM&#x27;, &#x27;CC_AMT_DRAWINGS_ATM_CURRENT_VAR&#x27;, &#x27;CC_AMT_DRAWINGS_CURRENT_MIN&#x27;, &#x27;CC_AMT_DRAWINGS_CURRENT_MAX&#x27;, &#x27;CC_AMT_DRAWINGS_CURRENT_MEAN&#x27;, &#x27;CC_AMT_DRAWINGS_CURRENT_SUM&#x27;, &#x27;CC_AMT_DRAWINGS_CURRENT_VAR&#x27;, &#x27;CC_AMT_DRAWINGS_OTHER_CURRENT_MIN&#x27;, &#x27;CC_AMT_DRAWINGS_OTHER_CURRENT_MAX&#x27;, &#x27;CC_AMT_DRAWINGS_OTHER_CURRENT_MEAN&#x27;, &#x27;CC_AMT_DRAWINGS_OTHER_CURRENT_SUM&#x27;, &#x27;CC_AMT_DRAWINGS_OTHER_CURRENT_VAR&#x27;, &#x27;CC_AMT_DRAWINGS_POS_CURRENT_MIN&#x27;, &#x27;CC_AMT_DRAWINGS_POS_CURRENT_MAX&#x27;, &#x27;CC_AMT_DRAWINGS_POS_CURRENT_MEAN&#x27;, &#x27;CC_AMT_DRAWINGS_POS_CURRENT_SUM&#x27;, &#x27;CC_AMT_DRAWINGS_POS_CURRENT_VAR&#x27;, &#x27;CC_AMT_INST_MIN_REGULARITY_MIN&#x27;, &#x27;CC_AMT_INST_MIN_REGULARITY_MAX&#x27;, &#x27;CC_AMT_INST_MIN_REGULARITY_MEAN&#x27;, &#x27;CC_AMT_INST_MIN_REGULARITY_SUM&#x27;, &#x27;CC_AMT_INST_MIN_REGULARITY_VAR&#x27;, &#x27;CC_AMT_PAYMENT_CURRENT_MIN&#x27;, &#x27;CC_AMT_PAYMENT_CURRENT_MAX&#x27;, &#x27;CC_AMT_PAYMENT_CURRENT_MEAN&#x27;, &#x27;CC_AMT_PAYMENT_CURRENT_SUM&#x27;, &#x27;CC_AMT_PAYMENT_CURRENT_VAR&#x27;, &#x27;CC_AMT_PAYMENT_TOTAL_CURRENT_MIN&#x27;, &#x27;CC_AMT_PAYMENT_TOTAL_CURRENT_MEAN&#x27;, &#x27;CC_CNT_DRAWINGS_ATM_CURRENT_MIN&#x27;, &#x27;CC_CNT_DRAWINGS_ATM_CURRENT_MAX&#x27;, &#x27;CC_CNT_DRAWINGS_ATM_CURRENT_MEAN&#x27;, &#x27;CC_CNT_DRAWINGS_ATM_CURRENT_SUM&#x27;, &#x27;CC_CNT_DRAWINGS_ATM_CURRENT_VAR&#x27;, &#x27;CC_CNT_DRAWINGS_CURRENT_MIN&#x27;, &#x27;CC_CNT_DRAWINGS_CURRENT_MAX&#x27;, &#x27;CC_CNT_DRAWINGS_CURRENT_MEAN&#x27;, &#x27;CC_CNT_DRAWINGS_CURRENT_SUM&#x27;, &#x27;CC_CNT_DRAWINGS_CURRENT_VAR&#x27;, &#x27;CC_CNT_DRAWINGS_OTHER_CURRENT_MIN&#x27;, &#x27;CC_CNT_DRAWINGS_OTHER_CURRENT_MAX&#x27;, &#x27;CC_CNT_DRAWINGS_OTHER_CURRENT_MEAN&#x27;, &#x27;CC_CNT_DRAWINGS_OTHER_CURRENT_SUM&#x27;, &#x27;CC_CNT_DRAWINGS_OTHER_CURRENT_VAR&#x27;, &#x27;CC_CNT_DRAWINGS_POS_CURRENT_MIN&#x27;, &#x27;CC_CNT_DRAWINGS_POS_CURRENT_MAX&#x27;, &#x27;CC_CNT_DRAWINGS_POS_CURRENT_MEAN&#x27;, &#x27;CC_CNT_DRAWINGS_POS_CURRENT_SUM&#x27;, &#x27;CC_CNT_INSTALMENT_MATURE_CUM_MIN&#x27;, &#x27;CC_CNT_INSTALMENT_MATURE_CUM_MAX&#x27;, &#x27;CC_CNT_INSTALMENT_MATURE_CUM_MEAN&#x27;, &#x27;CC_CNT_INSTALMENT_MATURE_CUM_SUM&#x27;, &#x27;CC_CNT_INSTALMENT_MATURE_CUM_VAR&#x27;, &#x27;CC_SK_DPD_MIN&#x27;, &#x27;CC_SK_DPD_MAX&#x27;, &#x27;CC_SK_DPD_MEAN&#x27;, &#x27;CC_SK_DPD_DEF_MAX&#x27;, &#x27;CC_SK_DPD_DEF_MEAN&#x27;, &#x27;CC_NAME_CONTRACT_STATUS_Active_MIN&#x27;, &#x27;CC_NAME_CONTRACT_STATUS_Active_MAX&#x27;, &#x27;CC_NAME_CONTRACT_STATUS_Active_MEAN&#x27;, &#x27;CC_NAME_CONTRACT_STATUS_Active_VAR&#x27;, &#x27;CC_NAME_CONTRACT_STATUS_Approved_MIN&#x27;, &#x27;CC_NAME_CONTRACT_STATUS_Approved_MAX&#x27;, &#x27;CC_NAME_CONTRACT_STATUS_Completed_MIN&#x27;, &#x27;CC_NAME_CONTRACT_STATUS_Completed_MAX&#x27;, &#x27;CC_NAME_CONTRACT_STATUS_Completed_MEAN&#x27;, &#x27;CC_NAME_CONTRACT_STATUS_Completed_SUM&#x27;, &#x27;CC_NAME_CONTRACT_STATUS_Completed_VAR&#x27;, &#x27;CC_NAME_CONTRACT_STATUS_Demand_MIN&#x27;, &#x27;CC_NAME_CONTRACT_STATUS_Demand_MAX&#x27;, &#x27;CC_NAME_CONTRACT_STATUS_Demand_MEAN&#x27;, &#x27;CC_NAME_CONTRACT_STATUS_Demand_VAR&#x27;, &#x27;CC_NAME_CONTRACT_STATUS_Refused_MIN&#x27;, &#x27;CC_NAME_CONTRACT_STATUS_Refused_MAX&#x27;, &#x27;CC_NAME_CONTRACT_STATUS_Sent proposal_MIN&#x27;, &#x27;CC_NAME_CONTRACT_STATUS_Sent proposal_MAX&#x27;, &#x27;CC_NAME_CONTRACT_STATUS_Signed_MIN&#x27;, &#x27;CC_NAME_CONTRACT_STATUS_Signed_MAX&#x27;, &#x27;CC_NAME_CONTRACT_STATUS_Signed_MEAN&#x27;, &#x27;CC_NAME_CONTRACT_STATUS_Signed_SUM&#x27;, &#x27;CC_NAME_CONTRACT_STATUS_Signed_VAR&#x27;, &#x27;INSTAL_NUM_INSTALMENT_VERSION_NUNIQUE&#x27;, &#x27;INSTAL_DPD_MAX&#x27;, &#x27;INSTAL_DPD_MEAN&#x27;, &#x27;INSTAL_DPD_SUM&#x27;, &#x27;INSTAL_DBD_MAX&#x27;, &#x27;INSTAL_DBD_MEAN&#x27;, &#x27;INSTAL_DBD_SUM&#x27;, &#x27;INSTAL_PAYMENT_PERC_MAX&#x27;, &#x27;INSTAL_PAYMENT_PERC_MEAN&#x27;, &#x27;INSTAL_PAYMENT_PERC_VAR&#x27;, &#x27;INSTAL_PAYMENT_DIFF_MAX&#x27;, &#x27;INSTAL_PAYMENT_DIFF_MEAN&#x27;, &#x27;INSTAL_PAYMENT_DIFF_SUM&#x27;, &#x27;INSTAL_PAYMENT_DIFF_VAR&#x27;, &#x27;INSTAL_AMT_INSTALMENT_MAX&#x27;, &#x27;INSTAL_AMT_INSTALMENT_MEAN&#x27;, &#x27;INSTAL_AMT_INSTALMENT_SUM&#x27;, &#x27;INSTAL_AMT_PAYMENT_MIN&#x27;, &#x27;INSTAL_AMT_PAYMENT_MEAN&#x27;, &#x27;INSTAL_DAYS_ENTRY_PAYMENT_MAX&#x27;, &#x27;INSTAL_DAYS_ENTRY_PAYMENT_MEAN&#x27;, &#x27;INSTAL_DAYS_ENTRY_PAYMENT_SUM&#x27;, &#x27;INSTAL_COUNT&#x27;, &#x27;INSTAL_MONTHS_BALANCE_MAX&#x27;, &#x27;INSTAL_MONTHS_BALANCE_MEAN&#x27;, &#x27;INSTAL_MONTHS_BALANCE_SIZE&#x27;, &#x27;INSTAL_SK_DPD_MAX&#x27;, &#x27;INSTAL_SK_DPD_MEAN&#x27;, &#x27;INSTAL_SK_DPD_DEF_MAX&#x27;, &#x27;INSTAL_SK_DPD_DEF_MEAN&#x27;, &#x27;INSTAL_NAME_CONTRACT_STATUS_Active_MEAN&#x27;, &#x27;INSTAL_NAME_CONTRACT_STATUS_Amortized debt_MEAN&#x27;, &#x27;INSTAL_NAME_CONTRACT_STATUS_Approved_MEAN&#x27;, &#x27;INSTAL_NAME_CONTRACT_STATUS_Canceled_MEAN&#x27;, &#x27;INSTAL_NAME_CONTRACT_STATUS_Completed_MEAN&#x27;, &#x27;INSTAL_NAME_CONTRACT_STATUS_Demand_MEAN&#x27;, &#x27;INSTAL_NAME_CONTRACT_STATUS_Returned to the store_MEAN&#x27;, &#x27;INSTAL_NAME_CONTRACT_STATUS_Signed_MEAN&#x27;, &#x27;INSTAL_NAME_CONTRACT_STATUS_XNA_MEAN&#x27;, &#x27;INSTAL_NAME_CONTRACT_STATUS_nan_MEAN&#x27;, &#x27;PREV_AMT_ANNUITY_MIN&#x27;, &#x27;PREV_AMT_ANNUITY_MAX&#x27;, &#x27;PREV_AMT_ANNUITY_MEAN&#x27;, &#x27;PREV_AMT_APPLICATION_MIN&#x27;, &#x27;PREV_AMT_APPLICATION_MAX&#x27;, &#x27;PREV_AMT_APPLICATION_MEAN&#x27;, &#x27;PREV_AMT_CREDIT_MIN&#x27;, &#x27;PREV_AMT_CREDIT_MEAN&#x27;, &#x27;PREV_APP_CREDIT_PERC_MIN&#x27;, &#x27;PREV_APP_CREDIT_PERC_MAX&#x27;, &#x27;PREV_APP_CREDIT_PERC_MEAN&#x27;, &#x27;PREV_APP_CREDIT_PERC_VAR&#x27;, &#x27;PREV_AMT_DOWN_PAYMENT_MIN&#x27;, &#x27;PREV_AMT_DOWN_PAYMENT_MAX&#x27;, &#x27;PREV_AMT_DOWN_PAYMENT_MEAN&#x27;, &#x27;PREV_AMT_GOODS_PRICE_MIN&#x27;, &#x27;PREV_AMT_GOODS_PRICE_MEAN&#x27;, &#x27;PREV_HOUR_APPR_PROCESS_START_MIN&#x27;, &#x27;PREV_HOUR_APPR_PROCESS_START_MAX&#x27;, &#x27;PREV_HOUR_APPR_PROCESS_START_MEAN&#x27;, &#x27;PREV_RATE_DOWN_PAYMENT_MIN&#x27;, &#x27;PREV_RATE_DOWN_PAYMENT_MAX&#x27;, &#x27;PREV_RATE_DOWN_PAYMENT_MEAN&#x27;, &#x27;PREV_DAYS_DECISION_MIN&#x27;, &#x27;PREV_DAYS_DECISION_MAX&#x27;, &#x27;PREV_DAYS_DECISION_MEAN&#x27;, &#x27;PREV_CNT_PAYMENT_MEAN&#x27;, &#x27;PREV_CNT_PAYMENT_SUM&#x27;, &#x27;PREV_NAME_CONTRACT_TYPE_Cash loans_MEAN&#x27;, &#x27;PREV_NAME_CONTRACT_TYPE_Consumer loans_MEAN&#x27;, &#x27;PREV_NAME_CONTRACT_TYPE_Revolving loans_MEAN&#x27;, &#x27;PREV_NAME_CONTRACT_TYPE_XNA_MEAN&#x27;, &#x27;PREV_NAME_CONTRACT_TYPE_nan_MEAN&#x27;, &#x27;PREV_WEEKDAY_APPR_PROCESS_START_FRIDAY_MEAN&#x27;, &#x27;PREV_WEEKDAY_APPR_PROCESS_START_MONDAY_MEAN&#x27;, &#x27;PREV_WEEKDAY_APPR_PROCESS_START_SATURDAY_MEAN&#x27;, &#x27;PREV_WEEKDAY_APPR_PROCESS_START_SUNDAY_MEAN&#x27;, &#x27;PREV_WEEKDAY_APPR_PROCESS_START_THURSDAY_MEAN&#x27;, &#x27;PREV_WEEKDAY_APPR_PROCESS_START_TUESDAY_MEAN&#x27;, &#x27;PREV_WEEKDAY_APPR_PROCESS_START_WEDNESDAY_MEAN&#x27;, &#x27;PREV_WEEKDAY_APPR_PROCESS_START_nan_MEAN&#x27;, &#x27;PREV_FLAG_LAST_APPL_PER_CONTRACT_N_MEAN&#x27;, &#x27;PREV_FLAG_LAST_APPL_PER_CONTRACT_nan_MEAN&#x27;, &#x27;PREV_NAME_CASH_LOAN_PURPOSE_Building a house or an annex_MEAN&#x27;, &#x27;PREV_NAME_CASH_LOAN_PURPOSE_Business development_MEAN&#x27;, &#x27;PREV_NAME_CASH_LOAN_PURPOSE_Buying a garage_MEAN&#x27;, &#x27;PREV_NAME_CASH_LOAN_PURPOSE_Buying a holiday home / land_MEAN&#x27;, &#x27;PREV_NAME_CASH_LOAN_PURPOSE_Buying a home_MEAN&#x27;, &#x27;PREV_NAME_CASH_LOAN_PURPOSE_Buying a new car_MEAN&#x27;, &#x27;PREV_NAME_CASH_LOAN_PURPOSE_Buying a used car_MEAN&#x27;, &#x27;PREV_NAME_CASH_LOAN_PURPOSE_Car repairs_MEAN&#x27;, &#x27;PREV_NAME_CASH_LOAN_PURPOSE_Education_MEAN&#x27;, &#x27;PREV_NAME_CASH_LOAN_PURPOSE_Everyday expenses_MEAN&#x27;, &#x27;PREV_NAME_CASH_LOAN_PURPOSE_Furniture_MEAN&#x27;, &#x27;PREV_NAME_CASH_LOAN_PURPOSE_Gasification / water supply_MEAN&#x27;, &#x27;PREV_NAME_CASH_LOAN_PURPOSE_Hobby_MEAN&#x27;, &#x27;PREV_NAME_CASH_LOAN_PURPOSE_Journey_MEAN&#x27;, &#x27;PREV_NAME_CASH_LOAN_PURPOSE_Medicine_MEAN&#x27;, &#x27;PREV_NAME_CASH_LOAN_PURPOSE_Money for a third person_MEAN&#x27;, &#x27;PREV_NAME_CASH_LOAN_PURPOSE_Other_MEAN&#x27;, &#x27;PREV_NAME_CASH_LOAN_PURPOSE_Payments on other loans_MEAN&#x27;, &#x27;PREV_NAME_CASH_LOAN_PURPOSE_Purchase of electronic equipment_MEAN&#x27;, &#x27;PREV_NAME_CASH_LOAN_PURPOSE_Refusal to name the goal_MEAN&#x27;, &#x27;PREV_NAME_CASH_LOAN_PURPOSE_Repairs_MEAN&#x27;, &#x27;PREV_NAME_CASH_LOAN_PURPOSE_Urgent needs_MEAN&#x27;, &#x27;PREV_NAME_CASH_LOAN_PURPOSE_Wedding / gift / holiday_MEAN&#x27;, &#x27;PREV_NAME_CASH_LOAN_PURPOSE_XNA_MEAN&#x27;, &#x27;PREV_NAME_CASH_LOAN_PURPOSE_nan_MEAN&#x27;, &#x27;PREV_NAME_CONTRACT_STATUS_Approved_MEAN&#x27;, &#x27;PREV_NAME_CONTRACT_STATUS_Canceled_MEAN&#x27;, &#x27;PREV_NAME_CONTRACT_STATUS_Refused_MEAN&#x27;, &#x27;PREV_NAME_CONTRACT_STATUS_Unused offer_MEAN&#x27;, &#x27;PREV_NAME_CONTRACT_STATUS_nan_MEAN&#x27;, &#x27;PREV_NAME_PAYMENT_TYPE_Cash through the bank_MEAN&#x27;, &#x27;PREV_NAME_PAYMENT_TYPE_Cashless from the account of the employer_MEAN&#x27;, &#x27;PREV_NAME_PAYMENT_TYPE_Non-cash from your account_MEAN&#x27;, &#x27;PREV_NAME_PAYMENT_TYPE_nan_MEAN&#x27;, &#x27;PREV_CODE_REJECT_REASON_HC_MEAN&#x27;, &#x27;PREV_CODE_REJECT_REASON_LIMIT_MEAN&#x27;, &#x27;PREV_CODE_REJECT_REASON_SCO_MEAN&#x27;, &#x27;PREV_CODE_REJECT_REASON_SCOFR_MEAN&#x27;, &#x27;PREV_CODE_REJECT_REASON_SYSTEM_MEAN&#x27;, &#x27;PREV_CODE_REJECT_REASON_VERIF_MEAN&#x27;, &#x27;PREV_CODE_REJECT_REASON_XAP_MEAN&#x27;, &#x27;PREV_CODE_REJECT_REASON_XNA_MEAN&#x27;, &#x27;PREV_CODE_REJECT_REASON_nan_MEAN&#x27;, &#x27;PREV_NAME_TYPE_SUITE_Children_MEAN&#x27;, &#x27;PREV_NAME_TYPE_SUITE_Family_MEAN&#x27;, &#x27;PREV_NAME_TYPE_SUITE_Group of people_MEAN&#x27;, &#x27;PREV_NAME_TYPE_SUITE_Other_A_MEAN&#x27;, &#x27;PREV_NAME_TYPE_SUITE_Other_B_MEAN&#x27;, &#x27;PREV_NAME_TYPE_SUITE_Spouse, partner_MEAN&#x27;, &#x27;PREV_NAME_TYPE_SUITE_Unaccompanied_MEAN&#x27;, &#x27;PREV_NAME_TYPE_SUITE_nan_MEAN&#x27;, &#x27;PREV_NAME_CLIENT_TYPE_New_MEAN&#x27;, &#x27;PREV_NAME_CLIENT_TYPE_Refreshed_MEAN&#x27;, &#x27;PREV_NAME_CLIENT_TYPE_Repeater_MEAN&#x27;, &#x27;PREV_NAME_CLIENT_TYPE_XNA_MEAN&#x27;, &#x27;PREV_NAME_CLIENT_TYPE_nan_MEAN&#x27;, &#x27;PREV_NAME_GOODS_CATEGORY_Additional Service_MEAN&#x27;, &#x27;PREV_NAME_GOODS_CATEGORY_Animals_MEAN&#x27;, &#x27;PREV_NAME_GOODS_CATEGORY_Audio/Video_MEAN&#x27;, &#x27;PREV_NAME_GOODS_CATEGORY_Auto Accessories_MEAN&#x27;, &#x27;PREV_NAME_GOODS_CATEGORY_Clothing and Accessories_MEAN&#x27;, &#x27;PREV_NAME_GOODS_CATEGORY_Computers_MEAN&#x27;, &#x27;PREV_NAME_GOODS_CATEGORY_Construction Materials_MEAN&#x27;, &#x27;PREV_NAME_GOODS_CATEGORY_Consumer Electronics_MEAN&#x27;, &#x27;PREV_NAME_GOODS_CATEGORY_Direct Sales_MEAN&#x27;, &#x27;PREV_NAME_GOODS_CATEGORY_Education_MEAN&#x27;, &#x27;PREV_NAME_GOODS_CATEGORY_Fitness_MEAN&#x27;, &#x27;PREV_NAME_GOODS_CATEGORY_Furniture_MEAN&#x27;, &#x27;PREV_NAME_GOODS_CATEGORY_Gardening_MEAN&#x27;, &#x27;PREV_NAME_GOODS_CATEGORY_Homewares_MEAN&#x27;, &#x27;PREV_NAME_GOODS_CATEGORY_House Construction_MEAN&#x27;, &#x27;PREV_NAME_GOODS_CATEGORY_Insurance_MEAN&#x27;, &#x27;PREV_NAME_GOODS_CATEGORY_Jewelry_MEAN&#x27;, &#x27;PREV_NAME_GOODS_CATEGORY_Medical Supplies_MEAN&#x27;, &#x27;PREV_NAME_GOODS_CATEGORY_Medicine_MEAN&#x27;, &#x27;PREV_NAME_GOODS_CATEGORY_Mobile_MEAN&#x27;, &#x27;PREV_NAME_GOODS_CATEGORY_Office Appliances_MEAN&#x27;, &#x27;PREV_NAME_GOODS_CATEGORY_Other_MEAN&#x27;, &#x27;PREV_NAME_GOODS_CATEGORY_Photo / Cinema Equipment_MEAN&#x27;, &#x27;PREV_NAME_GOODS_CATEGORY_Sport and Leisure_MEAN&#x27;, &#x27;PREV_NAME_GOODS_CATEGORY_Tourism_MEAN&#x27;, &#x27;PREV_NAME_GOODS_CATEGORY_Vehicles_MEAN&#x27;, &#x27;PREV_NAME_GOODS_CATEGORY_Weapon_MEAN&#x27;, &#x27;PREV_NAME_GOODS_CATEGORY_nan_MEAN&#x27;, &#x27;PREV_NAME_PORTFOLIO_Cards_MEAN&#x27;, &#x27;PREV_NAME_PORTFOLIO_Cars_MEAN&#x27;, &#x27;PREV_NAME_PORTFOLIO_Cash_MEAN&#x27;, &#x27;PREV_NAME_PORTFOLIO_POS_MEAN&#x27;, &#x27;PREV_NAME_PORTFOLIO_XNA_MEAN&#x27;, &#x27;PREV_NAME_PORTFOLIO_nan_MEAN&#x27;, &#x27;PREV_NAME_PRODUCT_TYPE_XNA_MEAN&#x27;, &#x27;PREV_NAME_PRODUCT_TYPE_walk-in_MEAN&#x27;, &#x27;PREV_NAME_PRODUCT_TYPE_x-sell_MEAN&#x27;, &#x27;PREV_NAME_PRODUCT_TYPE_nan_MEAN&#x27;, &#x27;PREV_CHANNEL_TYPE_AP+ (Cash loan)_MEAN&#x27;, &#x27;PREV_CHANNEL_TYPE_Car dealer_MEAN&#x27;, &#x27;PREV_CHANNEL_TYPE_Channel of corporate sales_MEAN&#x27;, &#x27;PREV_CHANNEL_TYPE_Contact center_MEAN&#x27;, &#x27;PREV_CHANNEL_TYPE_Country-wide_MEAN&#x27;, &#x27;PREV_CHANNEL_TYPE_Credit and cash offices_MEAN&#x27;, &#x27;PREV_CHANNEL_TYPE_Regional / Local_MEAN&#x27;, &#x27;PREV_CHANNEL_TYPE_Stone_MEAN&#x27;, &#x27;PREV_CHANNEL_TYPE_nan_MEAN&#x27;, &#x27;PREV_NAME_SELLER_INDUSTRY_Auto technology_MEAN&#x27;, &#x27;PREV_NAME_SELLER_INDUSTRY_Clothing_MEAN&#x27;, &#x27;PREV_NAME_SELLER_INDUSTRY_Connectivity_MEAN&#x27;, &#x27;PREV_NAME_SELLER_INDUSTRY_Construction_MEAN&#x27;, &#x27;PREV_NAME_SELLER_INDUSTRY_Consumer electronics_MEAN&#x27;, &#x27;PREV_NAME_SELLER_INDUSTRY_Furniture_MEAN&#x27;, &#x27;PREV_NAME_SELLER_INDUSTRY_Industry_MEAN&#x27;, &#x27;PREV_NAME_SELLER_INDUSTRY_Jewelry_MEAN&#x27;, &#x27;PREV_NAME_SELLER_INDUSTRY_MLM partners_MEAN&#x27;, &#x27;PREV_NAME_SELLER_INDUSTRY_Tourism_MEAN&#x27;, &#x27;PREV_NAME_SELLER_INDUSTRY_XNA_MEAN&#x27;, &#x27;PREV_NAME_SELLER_INDUSTRY_nan_MEAN&#x27;, &#x27;PREV_NAME_YIELD_GROUP_XNA_MEAN&#x27;, &#x27;PREV_NAME_YIELD_GROUP_high_MEAN&#x27;, &#x27;PREV_NAME_YIELD_GROUP_low_action_MEAN&#x27;, &#x27;PREV_NAME_YIELD_GROUP_low_normal_MEAN&#x27;, &#x27;PREV_NAME_YIELD_GROUP_middle_MEAN&#x27;, &#x27;PREV_NAME_YIELD_GROUP_nan_MEAN&#x27;, &#x27;PREV_PRODUCT_COMBINATION_Card Street_MEAN&#x27;, &#x27;PREV_PRODUCT_COMBINATION_Card X-Sell_MEAN&#x27;, &#x27;PREV_PRODUCT_COMBINATION_Cash_MEAN&#x27;, &#x27;PREV_PRODUCT_COMBINATION_Cash Street: high_MEAN&#x27;, &#x27;PREV_PRODUCT_COMBINATION_Cash Street: low_MEAN&#x27;, &#x27;PREV_PRODUCT_COMBINATION_Cash Street: middle_MEAN&#x27;, &#x27;PREV_PRODUCT_COMBINATION_Cash X-Sell: high_MEAN&#x27;, &#x27;PREV_PRODUCT_COMBINATION_Cash X-Sell: low_MEAN&#x27;, &#x27;PREV_PRODUCT_COMBINATION_Cash X-Sell: middle_MEAN&#x27;, &#x27;PREV_PRODUCT_COMBINATION_POS household with interest_MEAN&#x27;, &#x27;PREV_PRODUCT_COMBINATION_POS household without interest_MEAN&#x27;, &#x27;PREV_PRODUCT_COMBINATION_POS industry with interest_MEAN&#x27;, &#x27;PREV_PRODUCT_COMBINATION_POS industry without interest_MEAN&#x27;, &#x27;PREV_PRODUCT_COMBINATION_POS mobile with interest_MEAN&#x27;, &#x27;PREV_PRODUCT_COMBINATION_POS mobile without interest_MEAN&#x27;, &#x27;PREV_PRODUCT_COMBINATION_POS other with interest_MEAN&#x27;, &#x27;PREV_PRODUCT_COMBINATION_POS others without interest_MEAN&#x27;]</pre></div> </div></div><div class=\"sk-serial\"><div class=\"sk-item\"><div class=\"sk-serial\"><div class=\"sk-item\"><div class=\"sk-estimator fitted sk-toggleable\"><input class=\"sk-toggleable__control sk-hidden--visually\" id=\"sk-estimator-id-3\" type=\"checkbox\" ><label for=\"sk-estimator-id-3\" class=\"sk-toggleable__label fitted sk-toggleable__label-arrow fitted\">&nbsp;SimpleImputer<a class=\"sk-estimator-doc-link fitted\" rel=\"noreferrer\" target=\"_blank\" href=\"https://scikit-learn.org/1.4/modules/generated/sklearn.impute.SimpleImputer.html\">?<span>Documentation for SimpleImputer</span></a></label><div class=\"sk-toggleable__content fitted\"><pre>SimpleImputer(strategy=&#x27;median&#x27;)</pre></div> </div></div><div class=\"sk-item\"><div class=\"sk-estimator fitted sk-toggleable\"><input class=\"sk-toggleable__control sk-hidden--visually\" id=\"sk-estimator-id-4\" type=\"checkbox\" ><label for=\"sk-estimator-id-4\" class=\"sk-toggleable__label fitted sk-toggleable__label-arrow fitted\">&nbsp;StandardScaler<a class=\"sk-estimator-doc-link fitted\" rel=\"noreferrer\" target=\"_blank\" href=\"https://scikit-learn.org/1.4/modules/generated/sklearn.preprocessing.StandardScaler.html\">?<span>Documentation for StandardScaler</span></a></label><div class=\"sk-toggleable__content fitted\"><pre>StandardScaler()</pre></div> </div></div></div></div></div></div></div><div class=\"sk-parallel-item\"><div class=\"sk-item\"><div class=\"sk-label-container\"><div class=\"sk-label fitted sk-toggleable\"><input class=\"sk-toggleable__control sk-hidden--visually\" id=\"sk-estimator-id-5\" type=\"checkbox\" ><label for=\"sk-estimator-id-5\" class=\"sk-toggleable__label fitted sk-toggleable__label-arrow fitted\">cat</label><div class=\"sk-toggleable__content fitted\"><pre>[]</pre></div> </div></div><div class=\"sk-serial\"><div class=\"sk-item\"><div class=\"sk-serial\"><div class=\"sk-item\"><div class=\"sk-estimator fitted sk-toggleable\"><input class=\"sk-toggleable__control sk-hidden--visually\" id=\"sk-estimator-id-6\" type=\"checkbox\" ><label for=\"sk-estimator-id-6\" class=\"sk-toggleable__label fitted sk-toggleable__label-arrow fitted\">&nbsp;SimpleImputer<a class=\"sk-estimator-doc-link fitted\" rel=\"noreferrer\" target=\"_blank\" href=\"https://scikit-learn.org/1.4/modules/generated/sklearn.impute.SimpleImputer.html\">?<span>Documentation for SimpleImputer</span></a></label><div class=\"sk-toggleable__content fitted\"><pre>SimpleImputer(strategy=&#x27;most_frequent&#x27;)</pre></div> </div></div><div class=\"sk-item\"><div class=\"sk-estimator fitted sk-toggleable\"><input class=\"sk-toggleable__control sk-hidden--visually\" id=\"sk-estimator-id-7\" type=\"checkbox\" ><label for=\"sk-estimator-id-7\" class=\"sk-toggleable__label fitted sk-toggleable__label-arrow fitted\">&nbsp;OneHotEncoder<a class=\"sk-estimator-doc-link fitted\" rel=\"noreferrer\" target=\"_blank\" href=\"https://scikit-learn.org/1.4/modules/generated/sklearn.preprocessing.OneHotEncoder.html\">?<span>Documentation for OneHotEncoder</span></a></label><div class=\"sk-toggleable__content fitted\"><pre>OneHotEncoder(handle_unknown=&#x27;ignore&#x27;)</pre></div> </div></div></div></div></div></div></div></div></div></div></div>"
      ],
      "text/plain": [
       "ColumnTransformer(transformers=[('num',\n",
       "                                 Pipeline(steps=[('imputer',\n",
       "                                                  SimpleImputer(strategy='median')),\n",
       "                                                 ('scaler', StandardScaler())]),\n",
       "                                 ['NAME_CONTRACT_TYPE', 'CODE_GENDER',\n",
       "                                  'FLAG_OWN_CAR', 'FLAG_OWN_REALTY',\n",
       "                                  'CNT_CHILDREN', 'AMT_INCOME_TOTAL',\n",
       "                                  'AMT_CREDIT', 'AMT_ANNUITY',\n",
       "                                  'REGION_POPULATION_RELATIVE', 'DAYS_BIRTH',\n",
       "                                  'DAYS_EMPLOYED', 'DAYS_REGISTRATION',\n",
       "                                  'DAYS_ID_PUB...\n",
       "                                  'REGION_RATING_CLIENT_W_CITY',\n",
       "                                  'HOUR_APPR_PROCESS_START',\n",
       "                                  'REG_REGION_NOT_LIVE_REGION',\n",
       "                                  'REG_REGION_NOT_WORK_REGION',\n",
       "                                  'LIVE_REGION_NOT_WORK_REGION',\n",
       "                                  'REG_CITY_NOT_LIVE_CITY',\n",
       "                                  'REG_CITY_NOT_WORK_CITY',\n",
       "                                  'LIVE_CITY_NOT_WORK_CITY', ...]),\n",
       "                                ('cat',\n",
       "                                 Pipeline(steps=[('imputer',\n",
       "                                                  SimpleImputer(strategy='most_frequent')),\n",
       "                                                 ('onehot',\n",
       "                                                  OneHotEncoder(handle_unknown='ignore'))]),\n",
       "                                 [])])"
      ]
     },
     "execution_count": 32,
     "metadata": {},
     "output_type": "execute_result"
    }
   ],
   "source": [
    "# Ajustement du préprocesseur sur les données d'entraînement\n",
    "preprocessor.fit(X_train)"
   ]
  },
  {
   "cell_type": "code",
   "execution_count": 34,
   "id": "d5bdc6e4",
   "metadata": {},
   "outputs": [],
   "source": [
    "# S'assurer que preprocessor a des features catégorielles à traiter\n",
    "if categorical_features:\n",
    "    preprocessor.fit(X_train[categorical_features])\n",
    "    feature_names_cat = list(preprocessor.named_transformers_['cat'].named_steps['onehot'].get_feature_names_out(categorical_features))\n",
    "    feature_names = list(preprocessor.transformers_[0][1].get_feature_names_out()) + feature_names_cat\n",
    "else:\n",
    "    feature_names = list(preprocessor.transformers_[0][1].get_feature_names_out())"
   ]
  },
  {
   "cell_type": "code",
   "execution_count": 35,
   "id": "aabc2d71",
   "metadata": {},
   "outputs": [
    {
     "name": "stdout",
     "output_type": "stream",
     "text": [
      "                                               Feature  Importance\n",
      "2                                         FLAG_OWN_CAR    0.060718\n",
      "108                           NAME_INCOME_TYPE_Working    0.050351\n",
      "65                                     FLAG_DOCUMENT_3    0.049206\n",
      "18                                          FLAG_PHONE    0.042505\n",
      "59                                 EMERGENCYSTATE_MODE    0.037701\n",
      "110               NAME_EDUCATION_TYPE_Higher education    0.037597\n",
      "113  NAME_EDUCATION_TYPE_Secondary / secondary special    0.034775\n",
      "28                              REG_CITY_NOT_WORK_CITY    0.031530\n",
      "134                           OCCUPATION_TYPE_Laborers    0.031451\n",
      "21                                REGION_RATING_CLIENT    0.026854\n",
      "3                                      FLAG_OWN_REALTY    0.025983\n",
      "60                            OBS_30_CNT_SOCIAL_CIRCLE    0.022553\n",
      "145                  WEEKDAY_APPR_PROCESS_START_MONDAY    0.020244\n",
      "1                                          CODE_GENDER    0.020135\n",
      "212                      HOUSETYPE_MODE_block of flats    0.019221\n",
      "156           ORGANIZATION_TYPE_Business Entity Type 3    0.018957\n",
      "115                         NAME_FAMILY_STATUS_Married    0.016845\n",
      "377                                     INSTAL_DPD_MAX    0.016055\n",
      "140                        OCCUPATION_TYPE_Sales staff    0.013698\n",
      "101                      NAME_TYPE_SUITE_Unaccompanied    0.013647\n"
     ]
    }
   ],
   "source": [
    "# Affichage des importances des caractéristiques\n",
    "feature_importance_df = pd.DataFrame({'Feature': feature_names, 'Importance': feature_importances})\n",
    "feature_importance_df = feature_importance_df.sort_values('Importance', ascending=False)\n",
    "print(feature_importance_df.head(20))"
   ]
  },
  {
   "cell_type": "markdown",
   "id": "18e268cc",
   "metadata": {},
   "source": [
    "## Outils d'interprétation des modèles\n",
    "Utilisation de SHAP pour l'interprétation des prédictions du modèle XGBoost :"
   ]
  },
  {
   "cell_type": "code",
   "execution_count": 50,
   "id": "81dba53f",
   "metadata": {},
   "outputs": [
    {
     "ename": "ModuleNotFoundError",
     "evalue": "No module named 'shap'",
     "output_type": "error",
     "traceback": [
      "\u001b[1;31m---------------------------------------------------------------------------\u001b[0m",
      "\u001b[1;31mModuleNotFoundError\u001b[0m                       Traceback (most recent call last)",
      "\u001b[1;32m~\\AppData\\Local\\Temp\\ipykernel_12756\\3366868598.py\u001b[0m in \u001b[0;36m<module>\u001b[1;34m\u001b[0m\n\u001b[1;32m----> 1\u001b[1;33m \u001b[1;32mimport\u001b[0m \u001b[0mshap\u001b[0m\u001b[1;33m\u001b[0m\u001b[1;33m\u001b[0m\u001b[0m\n\u001b[0m\u001b[0;32m      2\u001b[0m \u001b[1;33m\u001b[0m\u001b[0m\n\u001b[0;32m      3\u001b[0m \u001b[1;31m# Calcul des valeurs SHAP\u001b[0m\u001b[1;33m\u001b[0m\u001b[1;33m\u001b[0m\u001b[0m\n\u001b[0;32m      4\u001b[0m \u001b[0mexplainer\u001b[0m \u001b[1;33m=\u001b[0m \u001b[0mshap\u001b[0m\u001b[1;33m.\u001b[0m\u001b[0mTreeExplainer\u001b[0m\u001b[1;33m(\u001b[0m\u001b[0mgrid_search\u001b[0m\u001b[1;33m.\u001b[0m\u001b[0mbest_estimator_\u001b[0m\u001b[1;33m.\u001b[0m\u001b[0mnamed_steps\u001b[0m\u001b[1;33m[\u001b[0m\u001b[1;34m'xgbclassifier'\u001b[0m\u001b[1;33m]\u001b[0m\u001b[1;33m)\u001b[0m\u001b[1;33m\u001b[0m\u001b[1;33m\u001b[0m\u001b[0m\n\u001b[0;32m      5\u001b[0m \u001b[0mshap_values\u001b[0m \u001b[1;33m=\u001b[0m \u001b[0mexplainer\u001b[0m\u001b[1;33m.\u001b[0m\u001b[0mshap_values\u001b[0m\u001b[1;33m(\u001b[0m\u001b[0mX_train\u001b[0m\u001b[1;33m)\u001b[0m\u001b[1;33m\u001b[0m\u001b[1;33m\u001b[0m\u001b[0m\n",
      "\u001b[1;31mModuleNotFoundError\u001b[0m: No module named 'shap'"
     ]
    }
   ],
   "source": [
    "import shap\n",
    "\n",
    "# Calcul des valeurs SHAP\n",
    "explainer = shap.TreeExplainer(grid_search.best_estimator_.named_steps['xgbclassifier'])\n",
    "shap_values = explainer.shap_values(X_train)\n",
    "\n",
    "# Visualisation\n",
    "shap.summary_plot(shap_values, X_train, feature_names=feature_names)"
   ]
  },
  {
   "cell_type": "code",
   "execution_count": 48,
   "id": "404555fd",
   "metadata": {},
   "outputs": [
    {
     "ename": "SystemError",
     "evalue": "initialization of _internal failed without raising an exception",
     "output_type": "error",
     "traceback": [
      "\u001b[1;31m---------------------------------------------------------------------------\u001b[0m",
      "\u001b[1;31mSystemError\u001b[0m                               Traceback (most recent call last)",
      "\u001b[1;32m~\\AppData\\Local\\Temp\\ipykernel_12756\\1060917566.py\u001b[0m in \u001b[0;36m<module>\u001b[1;34m\u001b[0m\n\u001b[1;32m----> 1\u001b[1;33m \u001b[1;32mimport\u001b[0m \u001b[0mshap\u001b[0m\u001b[1;33m\u001b[0m\u001b[1;33m\u001b[0m\u001b[0m\n\u001b[0m\u001b[0;32m      2\u001b[0m \u001b[1;33m\u001b[0m\u001b[0m\n\u001b[0;32m      3\u001b[0m \u001b[1;31m# Préparation de l'explainer avec le meilleur modèle trouvé\u001b[0m\u001b[1;33m\u001b[0m\u001b[1;33m\u001b[0m\u001b[0m\n\u001b[0;32m      4\u001b[0m \u001b[0mexplainer\u001b[0m \u001b[1;33m=\u001b[0m \u001b[0mshap\u001b[0m\u001b[1;33m.\u001b[0m\u001b[0mTreeExplainer\u001b[0m\u001b[1;33m(\u001b[0m\u001b[0mgrid_search\u001b[0m\u001b[1;33m.\u001b[0m\u001b[0mbest_estimator_\u001b[0m\u001b[1;33m.\u001b[0m\u001b[0mnamed_steps\u001b[0m\u001b[1;33m[\u001b[0m\u001b[1;34m'xgbclassifier'\u001b[0m\u001b[1;33m]\u001b[0m\u001b[1;33m)\u001b[0m\u001b[1;33m\u001b[0m\u001b[1;33m\u001b[0m\u001b[0m\n\u001b[0;32m      5\u001b[0m \u001b[1;33m\u001b[0m\u001b[0m\n",
      "\u001b[1;32m~\\anaconda3\\lib\\site-packages\\shap\\__init__.py\u001b[0m in \u001b[0;36m<module>\u001b[1;34m\u001b[0m\n\u001b[1;32m----> 1\u001b[1;33m \u001b[1;32mfrom\u001b[0m \u001b[1;33m.\u001b[0m\u001b[0m_explanation\u001b[0m \u001b[1;32mimport\u001b[0m \u001b[0mCohorts\u001b[0m\u001b[1;33m,\u001b[0m \u001b[0mExplanation\u001b[0m\u001b[1;33m\u001b[0m\u001b[1;33m\u001b[0m\u001b[0m\n\u001b[0m\u001b[0;32m      2\u001b[0m \u001b[1;33m\u001b[0m\u001b[0m\n\u001b[0;32m      3\u001b[0m \u001b[1;31m# explainers\u001b[0m\u001b[1;33m\u001b[0m\u001b[1;33m\u001b[0m\u001b[0m\n\u001b[0;32m      4\u001b[0m \u001b[1;32mfrom\u001b[0m \u001b[1;33m.\u001b[0m\u001b[0mexplainers\u001b[0m \u001b[1;32mimport\u001b[0m \u001b[0mother\u001b[0m\u001b[1;33m\u001b[0m\u001b[1;33m\u001b[0m\u001b[0m\n\u001b[0;32m      5\u001b[0m \u001b[1;32mfrom\u001b[0m \u001b[1;33m.\u001b[0m\u001b[0mexplainers\u001b[0m\u001b[1;33m.\u001b[0m\u001b[0m_additive\u001b[0m \u001b[1;32mimport\u001b[0m \u001b[0mAdditiveExplainer\u001b[0m\u001b[1;33m\u001b[0m\u001b[1;33m\u001b[0m\u001b[0m\n",
      "\u001b[1;32m~\\anaconda3\\lib\\site-packages\\shap\\_explanation.py\u001b[0m in \u001b[0;36m<module>\u001b[1;34m\u001b[0m\n\u001b[0;32m     11\u001b[0m \u001b[1;32mfrom\u001b[0m \u001b[0mslicer\u001b[0m \u001b[1;32mimport\u001b[0m \u001b[0mAlias\u001b[0m\u001b[1;33m,\u001b[0m \u001b[0mObj\u001b[0m\u001b[1;33m,\u001b[0m \u001b[0mSlicer\u001b[0m\u001b[1;33m\u001b[0m\u001b[1;33m\u001b[0m\u001b[0m\n\u001b[0;32m     12\u001b[0m \u001b[1;33m\u001b[0m\u001b[0m\n\u001b[1;32m---> 13\u001b[1;33m \u001b[1;32mfrom\u001b[0m \u001b[1;33m.\u001b[0m\u001b[0mutils\u001b[0m\u001b[1;33m.\u001b[0m\u001b[0m_exceptions\u001b[0m \u001b[1;32mimport\u001b[0m \u001b[0mDimensionError\u001b[0m\u001b[1;33m\u001b[0m\u001b[1;33m\u001b[0m\u001b[0m\n\u001b[0m\u001b[0;32m     14\u001b[0m \u001b[1;32mfrom\u001b[0m \u001b[1;33m.\u001b[0m\u001b[0mutils\u001b[0m\u001b[1;33m.\u001b[0m\u001b[0m_general\u001b[0m \u001b[1;32mimport\u001b[0m \u001b[0mOpChain\u001b[0m\u001b[1;33m\u001b[0m\u001b[1;33m\u001b[0m\u001b[0m\n\u001b[0;32m     15\u001b[0m \u001b[1;33m\u001b[0m\u001b[0m\n",
      "\u001b[1;32m~\\anaconda3\\lib\\site-packages\\shap\\utils\\__init__.py\u001b[0m in \u001b[0;36m<module>\u001b[1;34m\u001b[0m\n\u001b[1;32m----> 1\u001b[1;33m from ._clustering import (\n\u001b[0m\u001b[0;32m      2\u001b[0m     \u001b[0mdelta_minimization_order\u001b[0m\u001b[1;33m,\u001b[0m\u001b[1;33m\u001b[0m\u001b[1;33m\u001b[0m\u001b[0m\n\u001b[0;32m      3\u001b[0m     \u001b[0mhclust\u001b[0m\u001b[1;33m,\u001b[0m\u001b[1;33m\u001b[0m\u001b[1;33m\u001b[0m\u001b[0m\n\u001b[0;32m      4\u001b[0m     \u001b[0mhclust_ordering\u001b[0m\u001b[1;33m,\u001b[0m\u001b[1;33m\u001b[0m\u001b[1;33m\u001b[0m\u001b[0m\n\u001b[0;32m      5\u001b[0m     \u001b[0mpartition_tree\u001b[0m\u001b[1;33m,\u001b[0m\u001b[1;33m\u001b[0m\u001b[1;33m\u001b[0m\u001b[0m\n",
      "\u001b[1;32m~\\anaconda3\\lib\\site-packages\\shap\\utils\\_clustering.py\u001b[0m in \u001b[0;36m<module>\u001b[1;34m\u001b[0m\n\u001b[0;32m      6\u001b[0m \u001b[1;32mimport\u001b[0m \u001b[0mscipy\u001b[0m\u001b[1;33m.\u001b[0m\u001b[0mspatial\u001b[0m\u001b[1;33m\u001b[0m\u001b[1;33m\u001b[0m\u001b[0m\n\u001b[0;32m      7\u001b[0m \u001b[1;32mimport\u001b[0m \u001b[0msklearn\u001b[0m\u001b[1;33m\u001b[0m\u001b[1;33m\u001b[0m\u001b[0m\n\u001b[1;32m----> 8\u001b[1;33m \u001b[1;32mfrom\u001b[0m \u001b[0mnumba\u001b[0m \u001b[1;32mimport\u001b[0m \u001b[0mnjit\u001b[0m\u001b[1;33m\u001b[0m\u001b[1;33m\u001b[0m\u001b[0m\n\u001b[0m\u001b[0;32m      9\u001b[0m \u001b[1;33m\u001b[0m\u001b[0m\n\u001b[0;32m     10\u001b[0m \u001b[1;32mfrom\u001b[0m \u001b[1;33m.\u001b[0m\u001b[0m_show_progress\u001b[0m \u001b[1;32mimport\u001b[0m \u001b[0mshow_progress\u001b[0m\u001b[1;33m\u001b[0m\u001b[1;33m\u001b[0m\u001b[0m\n",
      "\u001b[1;32m~\\anaconda3\\lib\\site-packages\\numba\\__init__.py\u001b[0m in \u001b[0;36m<module>\u001b[1;34m\u001b[0m\n\u001b[0;32m     40\u001b[0m \u001b[1;33m\u001b[0m\u001b[0m\n\u001b[0;32m     41\u001b[0m \u001b[1;31m# Re-export vectorize decorators and the thread layer querying function\u001b[0m\u001b[1;33m\u001b[0m\u001b[1;33m\u001b[0m\u001b[0m\n\u001b[1;32m---> 42\u001b[1;33m from numba.np.ufunc import (vectorize, guvectorize, threading_layer,\n\u001b[0m\u001b[0;32m     43\u001b[0m                             get_num_threads, set_num_threads)\n\u001b[0;32m     44\u001b[0m \u001b[1;33m\u001b[0m\u001b[0m\n",
      "\u001b[1;32m~\\anaconda3\\lib\\site-packages\\numba\\np\\ufunc\\__init__.py\u001b[0m in \u001b[0;36m<module>\u001b[1;34m\u001b[0m\n\u001b[0;32m      1\u001b[0m \u001b[1;31m# -*- coding: utf-8 -*-\u001b[0m\u001b[1;33m\u001b[0m\u001b[1;33m\u001b[0m\u001b[0m\n\u001b[0;32m      2\u001b[0m \u001b[1;33m\u001b[0m\u001b[0m\n\u001b[1;32m----> 3\u001b[1;33m \u001b[1;32mfrom\u001b[0m \u001b[0mnumba\u001b[0m\u001b[1;33m.\u001b[0m\u001b[0mnp\u001b[0m\u001b[1;33m.\u001b[0m\u001b[0mufunc\u001b[0m\u001b[1;33m.\u001b[0m\u001b[0mdecorators\u001b[0m \u001b[1;32mimport\u001b[0m \u001b[0mVectorize\u001b[0m\u001b[1;33m,\u001b[0m \u001b[0mGUVectorize\u001b[0m\u001b[1;33m,\u001b[0m \u001b[0mvectorize\u001b[0m\u001b[1;33m,\u001b[0m \u001b[0mguvectorize\u001b[0m\u001b[1;33m\u001b[0m\u001b[1;33m\u001b[0m\u001b[0m\n\u001b[0m\u001b[0;32m      4\u001b[0m \u001b[1;32mfrom\u001b[0m \u001b[0mnumba\u001b[0m\u001b[1;33m.\u001b[0m\u001b[0mnp\u001b[0m\u001b[1;33m.\u001b[0m\u001b[0mufunc\u001b[0m\u001b[1;33m.\u001b[0m\u001b[0m_internal\u001b[0m \u001b[1;32mimport\u001b[0m \u001b[0mPyUFunc_None\u001b[0m\u001b[1;33m,\u001b[0m \u001b[0mPyUFunc_Zero\u001b[0m\u001b[1;33m,\u001b[0m \u001b[0mPyUFunc_One\u001b[0m\u001b[1;33m\u001b[0m\u001b[1;33m\u001b[0m\u001b[0m\n\u001b[0;32m      5\u001b[0m \u001b[1;32mfrom\u001b[0m \u001b[0mnumba\u001b[0m\u001b[1;33m.\u001b[0m\u001b[0mnp\u001b[0m\u001b[1;33m.\u001b[0m\u001b[0mufunc\u001b[0m \u001b[1;32mimport\u001b[0m \u001b[0m_internal\u001b[0m\u001b[1;33m,\u001b[0m \u001b[0marray_exprs\u001b[0m\u001b[1;33m\u001b[0m\u001b[1;33m\u001b[0m\u001b[0m\n",
      "\u001b[1;32m~\\anaconda3\\lib\\site-packages\\numba\\np\\ufunc\\decorators.py\u001b[0m in \u001b[0;36m<module>\u001b[1;34m\u001b[0m\n\u001b[0;32m      1\u001b[0m \u001b[1;32mimport\u001b[0m \u001b[0minspect\u001b[0m\u001b[1;33m\u001b[0m\u001b[1;33m\u001b[0m\u001b[0m\n\u001b[0;32m      2\u001b[0m \u001b[1;33m\u001b[0m\u001b[0m\n\u001b[1;32m----> 3\u001b[1;33m \u001b[1;32mfrom\u001b[0m \u001b[0mnumba\u001b[0m\u001b[1;33m.\u001b[0m\u001b[0mnp\u001b[0m\u001b[1;33m.\u001b[0m\u001b[0mufunc\u001b[0m \u001b[1;32mimport\u001b[0m \u001b[0m_internal\u001b[0m\u001b[1;33m\u001b[0m\u001b[1;33m\u001b[0m\u001b[0m\n\u001b[0m\u001b[0;32m      4\u001b[0m \u001b[1;32mfrom\u001b[0m \u001b[0mnumba\u001b[0m\u001b[1;33m.\u001b[0m\u001b[0mnp\u001b[0m\u001b[1;33m.\u001b[0m\u001b[0mufunc\u001b[0m\u001b[1;33m.\u001b[0m\u001b[0mparallel\u001b[0m \u001b[1;32mimport\u001b[0m \u001b[0mParallelUFuncBuilder\u001b[0m\u001b[1;33m,\u001b[0m \u001b[0mParallelGUFuncBuilder\u001b[0m\u001b[1;33m\u001b[0m\u001b[1;33m\u001b[0m\u001b[0m\n\u001b[0;32m      5\u001b[0m \u001b[1;33m\u001b[0m\u001b[0m\n",
      "\u001b[1;31mSystemError\u001b[0m: initialization of _internal failed without raising an exception"
     ]
    }
   ],
   "source": [
    "import shap\n",
    "\n",
    "# Préparation de l'explainer avec le meilleur modèle trouvé\n",
    "explainer = shap.TreeExplainer(grid_search.best_estimator_.named_steps['xgbclassifier'])\n",
    "\n",
    "# Calcul des valeurs SHAP pour les données de formation et de test\n",
    "shap_values_train = explainer.shap_values(X_train)\n",
    "shap_values_test = explainer.shap_values(X_test)\n",
    "\n",
    "# Initialisation de la visualisation JavaScript pour SHAP\n",
    "shap.initjs()\n",
    "\n",
    "# Visualisation pour une instance spécifique des données de test\n",
    "index = 0  # Index de l'instance à expliquer\n",
    "shap.force_plot(explainer.expected_value, shap_values_test[index], X_test.iloc[index])\n",
    "\n",
    "# Visualisation de l'importance globale des caractéristiques\n",
    "shap.summary_plot(shap_values_train, X_train, plot_type=\"bar\")\n",
    "\n",
    "# Diagramme détaillé pour une instance spécifique\n",
    "shap.waterfall_plot(explainer.expected_value, shap_values_test[index], X_test.iloc[index])"
   ]
  },
  {
   "cell_type": "markdown",
   "id": "49436b7a",
   "metadata": {},
   "source": [
    "## Automatisation du suivi MLFlow\n",
    "Automatisation de l'enregistrement des runs avec MLFlow :"
   ]
  },
  {
   "cell_type": "code",
   "execution_count": null,
   "id": "72c2a481",
   "metadata": {},
   "outputs": [],
   "source": [
    "import mlflow\n",
    "\n",
    "# Démarrage automatique de MLFlow run dans le contexte de GridSearch\n",
    "with mlflow.start_run():\n",
    "    mlflow.log_params(grid_search.best_params_)\n",
    "    mlflow.log_metric(\"auc_roc\", grid_search.best_score_)\n",
    "    mlflow.sklearn.log_model(grid_search.best_estimator_, \"model_xgb_optimized\")"
   ]
  }
 ],
 "metadata": {
  "kernelspec": {
   "display_name": "Python 3 (ipykernel)",
   "language": "python",
   "name": "python3"
  },
  "language_info": {
   "codemirror_mode": {
    "name": "ipython",
    "version": 3
   },
   "file_extension": ".py",
   "mimetype": "text/x-python",
   "name": "python",
   "nbconvert_exporter": "python",
   "pygments_lexer": "ipython3",
   "version": "3.9.13"
  }
 },
 "nbformat": 4,
 "nbformat_minor": 5
}
