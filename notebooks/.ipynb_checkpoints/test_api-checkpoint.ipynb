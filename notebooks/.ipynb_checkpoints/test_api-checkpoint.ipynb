{
 "cells": [
  {
   "cell_type": "markdown",
   "id": "c911f85d",
   "metadata": {},
   "source": [
    "# Envoi d'une requête POST à l'API"
   ]
  },
  {
   "cell_type": "code",
   "execution_count": 2,
   "id": "397373a1",
   "metadata": {
    "scrolled": false
   },
   "outputs": [
    {
     "name": "stdout",
     "output_type": "stream",
     "text": [
      "Erreur: 500\n"
     ]
    }
   ],
   "source": [
    "import requests\n",
    "import pandas as pd\n",
    "import numpy as np\n",
    "\n",
    "# Charger les données de test\n",
    "data_test = pd.read_csv('../data/processed/processed_data_test.csv')\n",
    "\n",
    "# Nettoyer les données en remplaçant les valeurs infinies et NaN\n",
    "data_test.replace([np.inf, -np.inf], np.nan, inplace=True)\n",
    "data_test.fillna(0, inplace=True)\n",
    "\n",
    "# Exclure les colonnes non pertinentes (comme les index)\n",
    "if 'Unnamed: 0' in data_test.columns:\n",
    "    data_test = data_test.drop(columns=['Unnamed: 0'])\n",
    "\n",
    "# Prendre un échantillon des données de test pour l'envoi à l'API\n",
    "data_sample = data_test.sample(n=10, random_state=1)\n",
    "\n",
    "# Convertir l'échantillon en JSON\n",
    "data_sample_json = data_sample.to_dict(orient='records')\n",
    "\n",
    "# Envoyer la requête POST à l'API\n",
    "response = requests.post('http://127.0.0.1:5000/predict', json=data_sample_json)\n",
    "\n",
    "# Afficher la réponse\n",
    "if response.status_code == 200:\n",
    "    print(response.json())\n",
    "else:\n",
    "    print(f\"Erreur: {response.status_code}\")\n"
   ]
  },
  {
   "cell_type": "code",
   "execution_count": null,
   "id": "2763f582",
   "metadata": {},
   "outputs": [],
   "source": []
  }
 ],
 "metadata": {
  "kernelspec": {
   "display_name": "Python 3 (ipykernel)",
   "language": "python",
   "name": "python3"
  },
  "language_info": {
   "codemirror_mode": {
    "name": "ipython",
    "version": 3
   },
   "file_extension": ".py",
   "mimetype": "text/x-python",
   "name": "python",
   "nbconvert_exporter": "python",
   "pygments_lexer": "ipython3",
   "version": "3.9.13"
  }
 },
 "nbformat": 4,
 "nbformat_minor": 5
}
